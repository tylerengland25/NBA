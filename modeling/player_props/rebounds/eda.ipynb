{
 "cells": [
  {
   "attachments": {},
   "cell_type": "markdown",
   "metadata": {},
   "source": [
    "# Exploratory Analysis"
   ]
  },
  {
   "cell_type": "code",
   "execution_count": 1,
   "metadata": {},
   "outputs": [],
   "source": [
    "import os\n",
    "import pandas as pd\n",
    "import numpy as np\n",
    "import matplotlib.pyplot as plt\n",
    "import seaborn as sns\n",
    "import scipy.stats as stats\n",
    "import datetime"
   ]
  },
  {
   "cell_type": "code",
   "execution_count": 2,
   "metadata": {},
   "outputs": [
    {
     "data": {
      "text/plain": [
       "'c:\\\\Users\\\\tyler\\\\OneDrive\\\\Documents\\\\Python\\\\NBA'"
      ]
     },
     "execution_count": 2,
     "metadata": {},
     "output_type": "execute_result"
    }
   ],
   "source": [
    "os.chdir('c:/Users/tyler/OneDrive/Documents/Python/NBA')\n",
    "os.getcwd()"
   ]
  },
  {
   "attachments": {},
   "cell_type": "markdown",
   "metadata": {},
   "source": [
    "### Load Data"
   ]
  },
  {
   "cell_type": "code",
   "execution_count": 3,
   "metadata": {},
   "outputs": [],
   "source": [
    "df = pd.read_csv('backend\\data\\details\\game_details.csv', index_col = 0)"
   ]
  },
  {
   "cell_type": "code",
   "execution_count": 4,
   "metadata": {},
   "outputs": [
    {
     "data": {
      "text/html": [
       "<div>\n",
       "<style scoped>\n",
       "    .dataframe tbody tr th:only-of-type {\n",
       "        vertical-align: middle;\n",
       "    }\n",
       "\n",
       "    .dataframe tbody tr th {\n",
       "        vertical-align: top;\n",
       "    }\n",
       "\n",
       "    .dataframe thead th {\n",
       "        text-align: right;\n",
       "    }\n",
       "</style>\n",
       "<table border=\"1\" class=\"dataframe\">\n",
       "  <thead>\n",
       "    <tr style=\"text-align: right;\">\n",
       "      <th></th>\n",
       "      <th>date</th>\n",
       "      <th>visitor</th>\n",
       "      <th>home</th>\n",
       "      <th>team</th>\n",
       "      <th>starter</th>\n",
       "      <th>player</th>\n",
       "      <th>mp</th>\n",
       "      <th>fg</th>\n",
       "      <th>fga</th>\n",
       "      <th>fg_perc</th>\n",
       "      <th>...</th>\n",
       "      <th>orb</th>\n",
       "      <th>drb</th>\n",
       "      <th>trb</th>\n",
       "      <th>ast</th>\n",
       "      <th>stl</th>\n",
       "      <th>blk</th>\n",
       "      <th>tov</th>\n",
       "      <th>pf</th>\n",
       "      <th>pts</th>\n",
       "      <th>plus_minus</th>\n",
       "    </tr>\n",
       "  </thead>\n",
       "  <tbody>\n",
       "    <tr>\n",
       "      <th>0</th>\n",
       "      <td>Tue, Oct 31, 2006</td>\n",
       "      <td>Chicago Bulls</td>\n",
       "      <td>Miami Heat</td>\n",
       "      <td>0</td>\n",
       "      <td>1.0</td>\n",
       "      <td>Kirk Hinrich</td>\n",
       "      <td>34:38</td>\n",
       "      <td>10.0</td>\n",
       "      <td>18.0</td>\n",
       "      <td>0.556</td>\n",
       "      <td>...</td>\n",
       "      <td>0.0</td>\n",
       "      <td>4.0</td>\n",
       "      <td>4.0</td>\n",
       "      <td>3.0</td>\n",
       "      <td>2.0</td>\n",
       "      <td>0.0</td>\n",
       "      <td>0.0</td>\n",
       "      <td>2.0</td>\n",
       "      <td>26.0</td>\n",
       "      <td>23.0</td>\n",
       "    </tr>\n",
       "    <tr>\n",
       "      <th>1</th>\n",
       "      <td>Tue, Oct 31, 2006</td>\n",
       "      <td>Chicago Bulls</td>\n",
       "      <td>Miami Heat</td>\n",
       "      <td>0</td>\n",
       "      <td>1.0</td>\n",
       "      <td>Ben Wallace</td>\n",
       "      <td>28:29</td>\n",
       "      <td>2.0</td>\n",
       "      <td>5.0</td>\n",
       "      <td>0.400</td>\n",
       "      <td>...</td>\n",
       "      <td>6.0</td>\n",
       "      <td>5.0</td>\n",
       "      <td>11.0</td>\n",
       "      <td>1.0</td>\n",
       "      <td>0.0</td>\n",
       "      <td>1.0</td>\n",
       "      <td>0.0</td>\n",
       "      <td>2.0</td>\n",
       "      <td>5.0</td>\n",
       "      <td>13.0</td>\n",
       "    </tr>\n",
       "    <tr>\n",
       "      <th>2</th>\n",
       "      <td>Tue, Oct 31, 2006</td>\n",
       "      <td>Chicago Bulls</td>\n",
       "      <td>Miami Heat</td>\n",
       "      <td>0</td>\n",
       "      <td>1.0</td>\n",
       "      <td>Luol Deng</td>\n",
       "      <td>24:07</td>\n",
       "      <td>4.0</td>\n",
       "      <td>9.0</td>\n",
       "      <td>0.444</td>\n",
       "      <td>...</td>\n",
       "      <td>1.0</td>\n",
       "      <td>1.0</td>\n",
       "      <td>2.0</td>\n",
       "      <td>1.0</td>\n",
       "      <td>1.0</td>\n",
       "      <td>0.0</td>\n",
       "      <td>3.0</td>\n",
       "      <td>2.0</td>\n",
       "      <td>12.0</td>\n",
       "      <td>8.0</td>\n",
       "    </tr>\n",
       "    <tr>\n",
       "      <th>3</th>\n",
       "      <td>Tue, Oct 31, 2006</td>\n",
       "      <td>Chicago Bulls</td>\n",
       "      <td>Miami Heat</td>\n",
       "      <td>0</td>\n",
       "      <td>1.0</td>\n",
       "      <td>Ben Gordon</td>\n",
       "      <td>22:56</td>\n",
       "      <td>1.0</td>\n",
       "      <td>9.0</td>\n",
       "      <td>0.111</td>\n",
       "      <td>...</td>\n",
       "      <td>0.0</td>\n",
       "      <td>1.0</td>\n",
       "      <td>1.0</td>\n",
       "      <td>2.0</td>\n",
       "      <td>1.0</td>\n",
       "      <td>0.0</td>\n",
       "      <td>2.0</td>\n",
       "      <td>3.0</td>\n",
       "      <td>6.0</td>\n",
       "      <td>7.0</td>\n",
       "    </tr>\n",
       "    <tr>\n",
       "      <th>4</th>\n",
       "      <td>Tue, Oct 31, 2006</td>\n",
       "      <td>Chicago Bulls</td>\n",
       "      <td>Miami Heat</td>\n",
       "      <td>0</td>\n",
       "      <td>1.0</td>\n",
       "      <td>P.J. Brown</td>\n",
       "      <td>18:23</td>\n",
       "      <td>1.0</td>\n",
       "      <td>2.0</td>\n",
       "      <td>0.500</td>\n",
       "      <td>...</td>\n",
       "      <td>0.0</td>\n",
       "      <td>3.0</td>\n",
       "      <td>3.0</td>\n",
       "      <td>1.0</td>\n",
       "      <td>1.0</td>\n",
       "      <td>1.0</td>\n",
       "      <td>2.0</td>\n",
       "      <td>3.0</td>\n",
       "      <td>4.0</td>\n",
       "      <td>15.0</td>\n",
       "    </tr>\n",
       "  </tbody>\n",
       "</table>\n",
       "<p>5 rows × 26 columns</p>\n",
       "</div>"
      ],
      "text/plain": [
       "                date        visitor        home  team  starter        player  \\\n",
       "0  Tue, Oct 31, 2006  Chicago Bulls  Miami Heat     0      1.0  Kirk Hinrich   \n",
       "1  Tue, Oct 31, 2006  Chicago Bulls  Miami Heat     0      1.0   Ben Wallace   \n",
       "2  Tue, Oct 31, 2006  Chicago Bulls  Miami Heat     0      1.0     Luol Deng   \n",
       "3  Tue, Oct 31, 2006  Chicago Bulls  Miami Heat     0      1.0    Ben Gordon   \n",
       "4  Tue, Oct 31, 2006  Chicago Bulls  Miami Heat     0      1.0    P.J. Brown   \n",
       "\n",
       "      mp    fg   fga  fg_perc  ...  orb  drb   trb  ast  stl  blk  tov   pf  \\\n",
       "0  34:38  10.0  18.0    0.556  ...  0.0  4.0   4.0  3.0  2.0  0.0  0.0  2.0   \n",
       "1  28:29   2.0   5.0    0.400  ...  6.0  5.0  11.0  1.0  0.0  1.0  0.0  2.0   \n",
       "2  24:07   4.0   9.0    0.444  ...  1.0  1.0   2.0  1.0  1.0  0.0  3.0  2.0   \n",
       "3  22:56   1.0   9.0    0.111  ...  0.0  1.0   1.0  2.0  1.0  0.0  2.0  3.0   \n",
       "4  18:23   1.0   2.0    0.500  ...  0.0  3.0   3.0  1.0  1.0  1.0  2.0  3.0   \n",
       "\n",
       "    pts  plus_minus  \n",
       "0  26.0        23.0  \n",
       "1   5.0        13.0  \n",
       "2  12.0         8.0  \n",
       "3   6.0         7.0  \n",
       "4   4.0        15.0  \n",
       "\n",
       "[5 rows x 26 columns]"
      ]
     },
     "execution_count": 4,
     "metadata": {},
     "output_type": "execute_result"
    }
   ],
   "source": [
    "df.head()"
   ]
  },
  {
   "cell_type": "code",
   "execution_count": 5,
   "metadata": {},
   "outputs": [
    {
     "data": {
      "text/plain": [
       "Index(['date', 'visitor', 'home', 'team', 'starter', 'player', 'mp', 'fg',\n",
       "       'fga', 'fg_perc', '3p', '3pa', '3p_perc', 'ft', 'fta', 'ft_perc', 'orb',\n",
       "       'drb', 'trb', 'ast', 'stl', 'blk', 'tov', 'pf', 'pts', 'plus_minus'],\n",
       "      dtype='object')"
      ]
     },
     "execution_count": 5,
     "metadata": {},
     "output_type": "execute_result"
    }
   ],
   "source": [
    "df.columns"
   ]
  },
  {
   "attachments": {},
   "cell_type": "markdown",
   "metadata": {},
   "source": [
    "Drop duplicates and NA's"
   ]
  },
  {
   "cell_type": "code",
   "execution_count": 6,
   "metadata": {},
   "outputs": [],
   "source": [
    "df.drop_duplicates(subset = ['date', 'visitor', 'home', 'team', 'player'], inplace = True)"
   ]
  },
  {
   "cell_type": "code",
   "execution_count": 7,
   "metadata": {},
   "outputs": [],
   "source": [
    "df.dropna(subset = ['player'], inplace = True)"
   ]
  },
  {
   "cell_type": "code",
   "execution_count": 8,
   "metadata": {},
   "outputs": [
    {
     "data": {
      "text/plain": [
       "date               0\n",
       "visitor            0\n",
       "home               0\n",
       "team               0\n",
       "starter            0\n",
       "player             0\n",
       "mp                 0\n",
       "fg                 0\n",
       "fga                0\n",
       "fg_perc        22507\n",
       "3p                 0\n",
       "3pa                0\n",
       "3p_perc       155439\n",
       "ft                 0\n",
       "fta                0\n",
       "ft_perc       186200\n",
       "orb                0\n",
       "drb                0\n",
       "trb                0\n",
       "ast                0\n",
       "stl                0\n",
       "blk                0\n",
       "tov                0\n",
       "pf                 0\n",
       "pts                0\n",
       "plus_minus        75\n",
       "dtype: int64"
      ]
     },
     "execution_count": 8,
     "metadata": {},
     "output_type": "execute_result"
    }
   ],
   "source": [
    "df.isna().sum()"
   ]
  },
  {
   "attachments": {},
   "cell_type": "markdown",
   "metadata": {},
   "source": [
    "Clean data"
   ]
  },
  {
   "cell_type": "code",
   "execution_count": 9,
   "metadata": {},
   "outputs": [],
   "source": [
    "df['fg_perc'] = df['fg'] / df['fga']\n",
    "df['3p_perc'] = df['3p'] / df['3pa']\n",
    "df['ft_perc'] = df['ft'] / df['fta']\n",
    "df['min'] = df['mp'].apply(lambda x: int(x.split(':')[0]))\n",
    "df['sec'] = df['mp'].apply(lambda x: int(x.split(':')[-1]))\n",
    "df['pt'] = df['min'] + df['sec'] / 60\n",
    "df['date'] = pd.to_datetime(df['date'])\n",
    "df['year'] = df['date'].dt.year\n",
    "df['month'] = df['date'].dt.month\n",
    "df['player'] = df['player'].apply(lambda x: x.strip())"
   ]
  },
  {
   "cell_type": "code",
   "execution_count": 10,
   "metadata": {},
   "outputs": [
    {
     "data": {
      "text/html": [
       "<div>\n",
       "<style scoped>\n",
       "    .dataframe tbody tr th:only-of-type {\n",
       "        vertical-align: middle;\n",
       "    }\n",
       "\n",
       "    .dataframe tbody tr th {\n",
       "        vertical-align: top;\n",
       "    }\n",
       "\n",
       "    .dataframe thead th {\n",
       "        text-align: right;\n",
       "    }\n",
       "</style>\n",
       "<table border=\"1\" class=\"dataframe\">\n",
       "  <thead>\n",
       "    <tr style=\"text-align: right;\">\n",
       "      <th></th>\n",
       "      <th>team</th>\n",
       "      <th>starter</th>\n",
       "      <th>fg</th>\n",
       "      <th>fga</th>\n",
       "      <th>fg_perc</th>\n",
       "      <th>3p</th>\n",
       "      <th>3pa</th>\n",
       "      <th>3p_perc</th>\n",
       "      <th>ft</th>\n",
       "      <th>fta</th>\n",
       "      <th>...</th>\n",
       "      <th>blk</th>\n",
       "      <th>tov</th>\n",
       "      <th>pf</th>\n",
       "      <th>pts</th>\n",
       "      <th>plus_minus</th>\n",
       "      <th>min</th>\n",
       "      <th>sec</th>\n",
       "      <th>pt</th>\n",
       "      <th>year</th>\n",
       "      <th>month</th>\n",
       "    </tr>\n",
       "  </thead>\n",
       "  <tbody>\n",
       "    <tr>\n",
       "      <th>count</th>\n",
       "      <td>529759.000000</td>\n",
       "      <td>529759.000000</td>\n",
       "      <td>529759.000000</td>\n",
       "      <td>529759.000000</td>\n",
       "      <td>418285.000000</td>\n",
       "      <td>529759.000000</td>\n",
       "      <td>529759.000000</td>\n",
       "      <td>285353.000000</td>\n",
       "      <td>529759.000000</td>\n",
       "      <td>529759.000000</td>\n",
       "      <td>...</td>\n",
       "      <td>529759.000000</td>\n",
       "      <td>529759.000000</td>\n",
       "      <td>529759.000000</td>\n",
       "      <td>529759.000000</td>\n",
       "      <td>529684.000000</td>\n",
       "      <td>529759.000000</td>\n",
       "      <td>529759.000000</td>\n",
       "      <td>529759.000000</td>\n",
       "      <td>529759.000000</td>\n",
       "      <td>529759.000000</td>\n",
       "    </tr>\n",
       "    <tr>\n",
       "      <th>mean</th>\n",
       "      <td>0.500611</td>\n",
       "      <td>0.398710</td>\n",
       "      <td>3.063767</td>\n",
       "      <td>6.700664</td>\n",
       "      <td>0.442835</td>\n",
       "      <td>0.698589</td>\n",
       "      <td>1.954606</td>\n",
       "      <td>0.325591</td>\n",
       "      <td>1.427466</td>\n",
       "      <td>1.871323</td>\n",
       "      <td>...</td>\n",
       "      <td>0.385828</td>\n",
       "      <td>1.086147</td>\n",
       "      <td>1.636669</td>\n",
       "      <td>8.253589</td>\n",
       "      <td>-0.000025</td>\n",
       "      <td>18.870003</td>\n",
       "      <td>24.398936</td>\n",
       "      <td>19.276652</td>\n",
       "      <td>2014.468581</td>\n",
       "      <td>5.739006</td>\n",
       "    </tr>\n",
       "    <tr>\n",
       "      <th>std</th>\n",
       "      <td>0.500000</td>\n",
       "      <td>0.489633</td>\n",
       "      <td>3.126501</td>\n",
       "      <td>6.041546</td>\n",
       "      <td>0.237220</td>\n",
       "      <td>1.202453</td>\n",
       "      <td>2.574289</td>\n",
       "      <td>0.304963</td>\n",
       "      <td>2.238170</td>\n",
       "      <td>2.750487</td>\n",
       "      <td>...</td>\n",
       "      <td>0.801039</td>\n",
       "      <td>1.369823</td>\n",
       "      <td>1.544815</td>\n",
       "      <td>8.363215</td>\n",
       "      <td>9.833073</td>\n",
       "      <td>13.244223</td>\n",
       "      <td>19.278900</td>\n",
       "      <td>13.361368</td>\n",
       "      <td>4.744187</td>\n",
       "      <td>4.351151</td>\n",
       "    </tr>\n",
       "    <tr>\n",
       "      <th>min</th>\n",
       "      <td>0.000000</td>\n",
       "      <td>0.000000</td>\n",
       "      <td>0.000000</td>\n",
       "      <td>0.000000</td>\n",
       "      <td>0.000000</td>\n",
       "      <td>0.000000</td>\n",
       "      <td>0.000000</td>\n",
       "      <td>0.000000</td>\n",
       "      <td>0.000000</td>\n",
       "      <td>0.000000</td>\n",
       "      <td>...</td>\n",
       "      <td>0.000000</td>\n",
       "      <td>0.000000</td>\n",
       "      <td>0.000000</td>\n",
       "      <td>0.000000</td>\n",
       "      <td>-57.000000</td>\n",
       "      <td>0.000000</td>\n",
       "      <td>0.000000</td>\n",
       "      <td>0.000000</td>\n",
       "      <td>2006.000000</td>\n",
       "      <td>1.000000</td>\n",
       "    </tr>\n",
       "    <tr>\n",
       "      <th>25%</th>\n",
       "      <td>0.000000</td>\n",
       "      <td>0.000000</td>\n",
       "      <td>0.000000</td>\n",
       "      <td>1.000000</td>\n",
       "      <td>0.318182</td>\n",
       "      <td>0.000000</td>\n",
       "      <td>0.000000</td>\n",
       "      <td>0.000000</td>\n",
       "      <td>0.000000</td>\n",
       "      <td>0.000000</td>\n",
       "      <td>...</td>\n",
       "      <td>0.000000</td>\n",
       "      <td>0.000000</td>\n",
       "      <td>0.000000</td>\n",
       "      <td>0.000000</td>\n",
       "      <td>-5.000000</td>\n",
       "      <td>6.000000</td>\n",
       "      <td>5.000000</td>\n",
       "      <td>6.516667</td>\n",
       "      <td>2010.000000</td>\n",
       "      <td>2.000000</td>\n",
       "    </tr>\n",
       "    <tr>\n",
       "      <th>50%</th>\n",
       "      <td>1.000000</td>\n",
       "      <td>0.000000</td>\n",
       "      <td>2.000000</td>\n",
       "      <td>6.000000</td>\n",
       "      <td>0.450000</td>\n",
       "      <td>0.000000</td>\n",
       "      <td>1.000000</td>\n",
       "      <td>0.333333</td>\n",
       "      <td>0.000000</td>\n",
       "      <td>0.000000</td>\n",
       "      <td>...</td>\n",
       "      <td>0.000000</td>\n",
       "      <td>1.000000</td>\n",
       "      <td>1.000000</td>\n",
       "      <td>6.000000</td>\n",
       "      <td>0.000000</td>\n",
       "      <td>20.000000</td>\n",
       "      <td>23.000000</td>\n",
       "      <td>20.450000</td>\n",
       "      <td>2015.000000</td>\n",
       "      <td>4.000000</td>\n",
       "    </tr>\n",
       "    <tr>\n",
       "      <th>75%</th>\n",
       "      <td>1.000000</td>\n",
       "      <td>1.000000</td>\n",
       "      <td>5.000000</td>\n",
       "      <td>10.000000</td>\n",
       "      <td>0.571429</td>\n",
       "      <td>1.000000</td>\n",
       "      <td>3.000000</td>\n",
       "      <td>0.500000</td>\n",
       "      <td>2.000000</td>\n",
       "      <td>3.000000</td>\n",
       "      <td>...</td>\n",
       "      <td>1.000000</td>\n",
       "      <td>2.000000</td>\n",
       "      <td>3.000000</td>\n",
       "      <td>13.000000</td>\n",
       "      <td>5.000000</td>\n",
       "      <td>30.000000</td>\n",
       "      <td>41.000000</td>\n",
       "      <td>30.400000</td>\n",
       "      <td>2018.000000</td>\n",
       "      <td>11.000000</td>\n",
       "    </tr>\n",
       "    <tr>\n",
       "      <th>max</th>\n",
       "      <td>1.000000</td>\n",
       "      <td>1.000000</td>\n",
       "      <td>24.000000</td>\n",
       "      <td>50.000000</td>\n",
       "      <td>1.000000</td>\n",
       "      <td>14.000000</td>\n",
       "      <td>24.000000</td>\n",
       "      <td>1.000000</td>\n",
       "      <td>26.000000</td>\n",
       "      <td>39.000000</td>\n",
       "      <td>...</td>\n",
       "      <td>12.000000</td>\n",
       "      <td>12.000000</td>\n",
       "      <td>6.000000</td>\n",
       "      <td>71.000000</td>\n",
       "      <td>57.000000</td>\n",
       "      <td>64.000000</td>\n",
       "      <td>59.000000</td>\n",
       "      <td>64.966667</td>\n",
       "      <td>2023.000000</td>\n",
       "      <td>12.000000</td>\n",
       "    </tr>\n",
       "  </tbody>\n",
       "</table>\n",
       "<p>8 rows × 26 columns</p>\n",
       "</div>"
      ],
      "text/plain": [
       "                team        starter             fg            fga  \\\n",
       "count  529759.000000  529759.000000  529759.000000  529759.000000   \n",
       "mean        0.500611       0.398710       3.063767       6.700664   \n",
       "std         0.500000       0.489633       3.126501       6.041546   \n",
       "min         0.000000       0.000000       0.000000       0.000000   \n",
       "25%         0.000000       0.000000       0.000000       1.000000   \n",
       "50%         1.000000       0.000000       2.000000       6.000000   \n",
       "75%         1.000000       1.000000       5.000000      10.000000   \n",
       "max         1.000000       1.000000      24.000000      50.000000   \n",
       "\n",
       "             fg_perc             3p            3pa        3p_perc  \\\n",
       "count  418285.000000  529759.000000  529759.000000  285353.000000   \n",
       "mean        0.442835       0.698589       1.954606       0.325591   \n",
       "std         0.237220       1.202453       2.574289       0.304963   \n",
       "min         0.000000       0.000000       0.000000       0.000000   \n",
       "25%         0.318182       0.000000       0.000000       0.000000   \n",
       "50%         0.450000       0.000000       1.000000       0.333333   \n",
       "75%         0.571429       1.000000       3.000000       0.500000   \n",
       "max         1.000000      14.000000      24.000000       1.000000   \n",
       "\n",
       "                  ft            fta  ...            blk            tov  \\\n",
       "count  529759.000000  529759.000000  ...  529759.000000  529759.000000   \n",
       "mean        1.427466       1.871323  ...       0.385828       1.086147   \n",
       "std         2.238170       2.750487  ...       0.801039       1.369823   \n",
       "min         0.000000       0.000000  ...       0.000000       0.000000   \n",
       "25%         0.000000       0.000000  ...       0.000000       0.000000   \n",
       "50%         0.000000       0.000000  ...       0.000000       1.000000   \n",
       "75%         2.000000       3.000000  ...       1.000000       2.000000   \n",
       "max        26.000000      39.000000  ...      12.000000      12.000000   \n",
       "\n",
       "                  pf            pts     plus_minus            min  \\\n",
       "count  529759.000000  529759.000000  529684.000000  529759.000000   \n",
       "mean        1.636669       8.253589      -0.000025      18.870003   \n",
       "std         1.544815       8.363215       9.833073      13.244223   \n",
       "min         0.000000       0.000000     -57.000000       0.000000   \n",
       "25%         0.000000       0.000000      -5.000000       6.000000   \n",
       "50%         1.000000       6.000000       0.000000      20.000000   \n",
       "75%         3.000000      13.000000       5.000000      30.000000   \n",
       "max         6.000000      71.000000      57.000000      64.000000   \n",
       "\n",
       "                 sec             pt           year          month  \n",
       "count  529759.000000  529759.000000  529759.000000  529759.000000  \n",
       "mean       24.398936      19.276652    2014.468581       5.739006  \n",
       "std        19.278900      13.361368       4.744187       4.351151  \n",
       "min         0.000000       0.000000    2006.000000       1.000000  \n",
       "25%         5.000000       6.516667    2010.000000       2.000000  \n",
       "50%        23.000000      20.450000    2015.000000       4.000000  \n",
       "75%        41.000000      30.400000    2018.000000      11.000000  \n",
       "max        59.000000      64.966667    2023.000000      12.000000  \n",
       "\n",
       "[8 rows x 26 columns]"
      ]
     },
     "execution_count": 10,
     "metadata": {},
     "output_type": "execute_result"
    }
   ],
   "source": [
    "df.describe()"
   ]
  },
  {
   "attachments": {},
   "cell_type": "markdown",
   "metadata": {},
   "source": [
    "Feature Engineer"
   ]
  },
  {
   "cell_type": "code",
   "execution_count": 11,
   "metadata": {},
   "outputs": [],
   "source": [
    "x = df.groupby(['date', 'visitor', 'home', 'team'])[['fga', 'orb', 'tov', 'fta']].transform('sum')\n",
    "df['possessions'] = x.fga - x.orb + x.tov + 0.4 * x.fta"
   ]
  },
  {
   "cell_type": "code",
   "execution_count": 12,
   "metadata": {},
   "outputs": [],
   "source": [
    "def get_season(month, year):\n",
    "    if 10 <= month <= 12:\n",
    "        return year\n",
    "    else:\n",
    "        return year - 1"
   ]
  },
  {
   "cell_type": "code",
   "execution_count": 13,
   "metadata": {},
   "outputs": [],
   "source": [
    "df['season'] = df.apply(lambda x: get_season(x.month, x.year), 1)\n",
    "df['opponent'] = np.where(df['team'], df['visitor'], df['home'])"
   ]
  },
  {
   "attachments": {},
   "cell_type": "markdown",
   "metadata": {},
   "source": [
    "Merge Schedule"
   ]
  },
  {
   "cell_type": "code",
   "execution_count": 14,
   "metadata": {},
   "outputs": [],
   "source": [
    "schedules = pd.read_csv(\"C:/Users/tyler/OneDrive/Documents/Python/NBA/backend/data/schedules/2022.csv\", index_col = 0)\n",
    "schedules['date'] = pd.to_datetime(schedules['date'])\n",
    "\n",
    "home_schedule = schedules.copy()\n",
    "home_schedule['team'] = 1\n",
    "home_schedule['opponent'] = home_schedule['visitor']\n",
    "\n",
    "visitor_schedule = schedules.copy()\n",
    "visitor_schedule['team'] = 0\n",
    "visitor_schedule['opponent'] = visitor_schedule['home']\n",
    "\n",
    "schedules = pd.concat([home_schedule, visitor_schedule])\n",
    "\n",
    "df = pd.merge(schedules, df, left_on = ['date', 'visitor', 'home', 'team', 'opponent'], right_on = ['date', 'visitor', 'home', 'team', 'opponent'], how = 'left')"
   ]
  },
  {
   "attachments": {},
   "cell_type": "markdown",
   "metadata": {},
   "source": [
    "Merge Opposing Teams Defense"
   ]
  },
  {
   "cell_type": "code",
   "execution_count": 15,
   "metadata": {},
   "outputs": [],
   "source": [
    "defense_df = pd.read_csv('backend/data/totals/game_totals.csv', index_col = 0)\n",
    "defense_df['date'] = pd.to_datetime(defense_df['date'])\n",
    "\n",
    "defense_df = pd.merge(schedules, defense_df, left_on = ['date', 'visitor', 'home', 'team'], right_on = ['date', 'visitor', 'home', 'team'], how = 'left')"
   ]
  },
  {
   "cell_type": "code",
   "execution_count": 16,
   "metadata": {},
   "outputs": [],
   "source": [
    "defense_df.drop_duplicates(subset = ['date', 'visitor', 'home', 'team'], inplace = True)\n",
    "defense_df['team'] = np.where(defense_df['team'], defense_df['visitor'], defense_df['home'])"
   ]
  },
  {
   "cell_type": "code",
   "execution_count": 17,
   "metadata": {},
   "outputs": [],
   "source": [
    "defense_df['date'] = pd.to_datetime(defense_df['date'])\n",
    "defense_df['year'] = defense_df['date'].dt.year\n",
    "defense_df['month'] = defense_df['date'].dt.month\n",
    "defense_df['season'] = defense_df.apply(lambda x: get_season(x.month, x.year), 1)"
   ]
  },
  {
   "cell_type": "code",
   "execution_count": 18,
   "metadata": {},
   "outputs": [],
   "source": [
    "defense_df['rb'] = defense_df.groupby(['season', 'team'])['trb'].shift(1)\n",
    "defense_df['trb_sum'] = defense_df.groupby(['season', 'team'])['rb'].expanding(5).sum().sort_index(axis = 0, level = 2).values\n",
    "defense_df['trb_count'] = defense_df.groupby(['season', 'team'])['rb'].expanding(5).count().sort_index(axis = 0, level = 2).values\n",
    "defense_df['trb_mean'] = defense_df.groupby(['season', 'team'])['rb'].expanding(5).mean().sort_index(axis = 0, level = 2).values"
   ]
  },
  {
   "cell_type": "code",
   "execution_count": 19,
   "metadata": {},
   "outputs": [],
   "source": [
    "rb_lg_sum = defense_df.groupby(['season', 'date'])['trb'].sum().groupby(['season']).shift(1)\n",
    "rb_lg_sum = rb_lg_sum.groupby(['season']).expanding(1).sum()\n",
    "rb_lg_count = defense_df.groupby(['season', 'date'])['trb'].count().groupby(['season']).shift(1)\n",
    "rb_lg_count = rb_lg_count.groupby(['season']).expanding(1).sum()\n",
    "rb_lg_avg = rb_lg_sum / rb_lg_count\n",
    "rb_lg_avg.index = defense_df.groupby(['season', 'date'])['trb'].sum().index\n",
    "rb_lg_avg = rb_lg_avg.reset_index()\n",
    "defense_df = pd.merge(defense_df, rb_lg_avg, on = ['season', 'date'], how = 'left', suffixes = ('', '_lg_avg'))\n"
   ]
  },
  {
   "cell_type": "code",
   "execution_count": 20,
   "metadata": {},
   "outputs": [],
   "source": [
    "df = pd.merge(\n",
    "    df, \n",
    "    defense_df[['team', 'date', 'trb_mean', 'trb_lg_avg']], \n",
    "    left_on = ['opponent', 'date'], \n",
    "    right_on = ['team', 'date'], \n",
    "    how = 'left', \n",
    "    suffixes = ('', '_opp')\n",
    ")"
   ]
  },
  {
   "cell_type": "code",
   "execution_count": 21,
   "metadata": {},
   "outputs": [],
   "source": [
    "x = df.groupby(['date', 'visitor', 'home', 'team'])[['fga', 'orb', 'tov', 'fta']].transform('sum')\n",
    "df['possessions'] = x.fga - x.orb + x.tov + 0.4 * x.fta"
   ]
  },
  {
   "attachments": {},
   "cell_type": "markdown",
   "metadata": {},
   "source": [
    "Enter Player Name and Line"
   ]
  },
  {
   "cell_type": "code",
   "execution_count": 22,
   "metadata": {},
   "outputs": [],
   "source": [
    "def convert_perc_to_odds(perc):\n",
    "    if perc > 0.5:\n",
    "        return round((100 * perc) / (1 - perc)) * -1\n",
    "    else:\n",
    "        return round((1 - perc) * 100 / perc)\n"
   ]
  },
  {
   "cell_type": "code",
   "execution_count": 23,
   "metadata": {},
   "outputs": [],
   "source": [
    "def convert_odds_to_perc(odds):\n",
    "    if odds < 0:\n",
    "        return round(abs(odds) / (abs(odds) + 100), 3)\n",
    "    else:\n",
    "        return round(100 / (abs(odds) + 100), 3)"
   ]
  },
  {
   "cell_type": "code",
   "execution_count": 24,
   "metadata": {},
   "outputs": [],
   "source": [
    "def expected_value(prob, odds):\n",
    "    return prob * odds - (1 - prob)"
   ]
  },
  {
   "cell_type": "code",
   "execution_count": 668,
   "metadata": {},
   "outputs": [],
   "source": [
    "today = \"2023-01-16\"\n",
    "visitor = \"Phoenix Suns\"\n",
    "home = \"Memphis Grizzlies\""
   ]
  },
  {
   "cell_type": "code",
   "execution_count": 713,
   "metadata": {},
   "outputs": [],
   "source": [
    "player = \"Torrey Craig\"\n",
    "total = 6.5\n",
    "implied_over = convert_odds_to_perc(104)\n",
    "implied_under = convert_odds_to_perc(-136)"
   ]
  },
  {
   "attachments": {},
   "cell_type": "markdown",
   "metadata": {},
   "source": [
    "### Player Analysis"
   ]
  },
  {
   "cell_type": "code",
   "execution_count": 714,
   "metadata": {},
   "outputs": [],
   "source": [
    "player_df = df[(df['player'] == player) | ((df['date'] == today) & (df['visitor'] == visitor) & (df['home'] == home))].copy()"
   ]
  },
  {
   "cell_type": "code",
   "execution_count": 715,
   "metadata": {},
   "outputs": [],
   "source": [
    "player_df = player_df[player_df['mp'] != '0']"
   ]
  },
  {
   "cell_type": "code",
   "execution_count": 716,
   "metadata": {},
   "outputs": [],
   "source": [
    "player_df['rb'] = player_df['trb'].shift(1)\n",
    "player_df['rb_sum'] = player_df['rb'].expanding(1).sum().values\n",
    "player_df['rb_count'] = player_df['rb'].expanding(1).count().values\n",
    "player_df['rb_mean'] = player_df['rb'].expanding(1).mean().values"
   ]
  },
  {
   "cell_type": "code",
   "execution_count": 717,
   "metadata": {},
   "outputs": [
    {
     "data": {
      "text/plain": [
       "rb_sum            236.0\n",
       "rb_count           41.0\n",
       "trb_mean      43.738095\n",
       "trb_lg_avg    43.619847\n",
       "Name: 17313, dtype: object"
      ]
     },
     "execution_count": 717,
     "metadata": {},
     "output_type": "execute_result"
    }
   ],
   "source": [
    "player_df.iloc[-1, :][['rb_sum', 'rb_count', 'trb_mean', 'trb_lg_avg']]"
   ]
  },
  {
   "cell_type": "code",
   "execution_count": 718,
   "metadata": {},
   "outputs": [
    {
     "data": {
      "text/plain": [
       "5.771701616174648"
      ]
     },
     "execution_count": 718,
     "metadata": {},
     "output_type": "execute_result"
    }
   ],
   "source": [
    "mu_df = player_df.iloc[-1, :][['rb_sum', 'rb_count', 'trb_mean', 'trb_lg_avg']]\n",
    "normalize = 1 + (mu_df['trb_mean'] - mu_df['trb_lg_avg']) / mu_df['trb_lg_avg']\n",
    "mu = (mu_df['rb_sum'] / mu_df['rb_count']) * normalize\n",
    "mu"
   ]
  },
  {
   "cell_type": "code",
   "execution_count": 719,
   "metadata": {},
   "outputs": [
    {
     "data": {
      "text/plain": [
       "5.7560975609756095"
      ]
     },
     "execution_count": 719,
     "metadata": {},
     "output_type": "execute_result"
    }
   ],
   "source": [
    "mu_df['rb_sum'] / mu_df['rb_count']"
   ]
  },
  {
   "cell_type": "code",
   "execution_count": 720,
   "metadata": {},
   "outputs": [
    {
     "data": {
      "text/plain": [
       "1.0027108739964432"
      ]
     },
     "execution_count": 720,
     "metadata": {},
     "output_type": "execute_result"
    }
   ],
   "source": [
    "normalize"
   ]
  },
  {
   "attachments": {},
   "cell_type": "markdown",
   "metadata": {},
   "source": [
    "Calculate Odds"
   ]
  },
  {
   "cell_type": "code",
   "execution_count": 721,
   "metadata": {},
   "outputs": [
    {
     "name": "stdout",
     "output_type": "stream",
     "text": [
      "Implied Over Odds: 49.0% (104)\n",
      "Under Odds: 57.6% (-136)\n"
     ]
    }
   ],
   "source": [
    "print(f\"Implied Over Odds: {implied_over:.1%} ({convert_perc_to_odds(implied_over)})\")\n",
    "print(f\"Under Odds: {implied_under:.1%} ({convert_perc_to_odds(implied_under)})\")"
   ]
  },
  {
   "cell_type": "code",
   "execution_count": 722,
   "metadata": {},
   "outputs": [
    {
     "name": "stdout",
     "output_type": "stream",
     "text": [
      "Over Odds: 35.7% (180)\n",
      "Under Odds: 64.3% (-180)\n"
     ]
    }
   ],
   "source": [
    "under = stats.poisson.cdf(k = total, mu = mu)\n",
    "over = 1 - under\n",
    "print(f\"Over Odds: {over:.1%} ({convert_perc_to_odds(over)})\")\n",
    "print(f\"Under Odds: {under:.1%} ({convert_perc_to_odds(under)})\")"
   ]
  },
  {
   "cell_type": "code",
   "execution_count": 723,
   "metadata": {},
   "outputs": [
    {
     "name": "stdout",
     "output_type": "stream",
     "text": [
      "Over EV: -46.8%\n",
      "Under EV: 1.3%\n"
     ]
    }
   ],
   "source": [
    "over_ev = expected_value(over, implied_over)\n",
    "under_ev = expected_value(under, implied_under)\n",
    "print(f\"Over EV: {over_ev:.1%}\")\n",
    "print(f\"Under EV: {under_ev:.1%}\")"
   ]
  }
 ],
 "metadata": {
  "kernelspec": {
   "display_name": "Python 3",
   "language": "python",
   "name": "python3"
  },
  "language_info": {
   "codemirror_mode": {
    "name": "ipython",
    "version": 3
   },
   "file_extension": ".py",
   "mimetype": "text/x-python",
   "name": "python",
   "nbconvert_exporter": "python",
   "pygments_lexer": "ipython3",
   "version": "3.8.2"
  },
  "orig_nbformat": 4,
  "vscode": {
   "interpreter": {
    "hash": "9650cb4e16cdd4a8e8e2d128bf38d875813998db22a3c986335f89e0cb4d7bb2"
   }
  }
 },
 "nbformat": 4,
 "nbformat_minor": 2
}
