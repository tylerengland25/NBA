{
 "cells": [
  {
   "attachments": {},
   "cell_type": "markdown",
   "metadata": {},
   "source": [
    "# Rebounds"
   ]
  },
  {
   "cell_type": "code",
   "execution_count": 2,
   "metadata": {},
   "outputs": [],
   "source": [
    "import os\n",
    "import pandas as pd\n",
    "import numpy as np\n",
    "import matplotlib.pyplot as plt\n",
    "import seaborn as sns\n",
    "import scipy.stats as stats\n",
    "import datetime\n",
    "from unidecode import unidecode"
   ]
  },
  {
   "cell_type": "code",
   "execution_count": 3,
   "metadata": {},
   "outputs": [
    {
     "data": {
      "text/plain": [
       "'/home/tylerengland/NBA'"
      ]
     },
     "execution_count": 3,
     "metadata": {},
     "output_type": "execute_result"
    }
   ],
   "source": [
    "os.chdir('/home/tylerengland/NBA')\n",
    "os.getcwd()"
   ]
  },
  {
   "attachments": {},
   "cell_type": "markdown",
   "metadata": {},
   "source": [
    "### Load Data"
   ]
  },
  {
   "cell_type": "code",
   "execution_count": 4,
   "metadata": {},
   "outputs": [],
   "source": [
    "df = pd.read_csv('backend/data/details/game_details.csv')"
   ]
  },
  {
   "cell_type": "code",
   "execution_count": 5,
   "metadata": {},
   "outputs": [
    {
     "data": {
      "text/html": [
       "<div>\n",
       "<style scoped>\n",
       "    .dataframe tbody tr th:only-of-type {\n",
       "        vertical-align: middle;\n",
       "    }\n",
       "\n",
       "    .dataframe tbody tr th {\n",
       "        vertical-align: top;\n",
       "    }\n",
       "\n",
       "    .dataframe thead th {\n",
       "        text-align: right;\n",
       "    }\n",
       "</style>\n",
       "<table border=\"1\" class=\"dataframe\">\n",
       "  <thead>\n",
       "    <tr style=\"text-align: right;\">\n",
       "      <th></th>\n",
       "      <th>date</th>\n",
       "      <th>visitor</th>\n",
       "      <th>home</th>\n",
       "      <th>team</th>\n",
       "      <th>starter</th>\n",
       "      <th>player</th>\n",
       "      <th>mp</th>\n",
       "      <th>fg</th>\n",
       "      <th>fga</th>\n",
       "      <th>fg_perc</th>\n",
       "      <th>...</th>\n",
       "      <th>drb</th>\n",
       "      <th>trb</th>\n",
       "      <th>ast</th>\n",
       "      <th>stl</th>\n",
       "      <th>blk</th>\n",
       "      <th>tov</th>\n",
       "      <th>pf</th>\n",
       "      <th>pts</th>\n",
       "      <th>plus_minus</th>\n",
       "      <th>season</th>\n",
       "    </tr>\n",
       "  </thead>\n",
       "  <tbody>\n",
       "    <tr>\n",
       "      <th>0</th>\n",
       "      <td>Tue, Oct 31, 2006</td>\n",
       "      <td>Chicago Bulls</td>\n",
       "      <td>Miami Heat</td>\n",
       "      <td>0</td>\n",
       "      <td>1.0</td>\n",
       "      <td>Kirk Hinrich</td>\n",
       "      <td>34:38</td>\n",
       "      <td>10.0</td>\n",
       "      <td>18.0</td>\n",
       "      <td>0.556</td>\n",
       "      <td>...</td>\n",
       "      <td>4.0</td>\n",
       "      <td>4.0</td>\n",
       "      <td>3.0</td>\n",
       "      <td>2.0</td>\n",
       "      <td>0.0</td>\n",
       "      <td>0.0</td>\n",
       "      <td>2.0</td>\n",
       "      <td>26.0</td>\n",
       "      <td>23.0</td>\n",
       "      <td>NaN</td>\n",
       "    </tr>\n",
       "    <tr>\n",
       "      <th>1</th>\n",
       "      <td>Tue, Oct 31, 2006</td>\n",
       "      <td>Chicago Bulls</td>\n",
       "      <td>Miami Heat</td>\n",
       "      <td>0</td>\n",
       "      <td>1.0</td>\n",
       "      <td>Ben Wallace</td>\n",
       "      <td>28:29</td>\n",
       "      <td>2.0</td>\n",
       "      <td>5.0</td>\n",
       "      <td>0.400</td>\n",
       "      <td>...</td>\n",
       "      <td>5.0</td>\n",
       "      <td>11.0</td>\n",
       "      <td>1.0</td>\n",
       "      <td>0.0</td>\n",
       "      <td>1.0</td>\n",
       "      <td>0.0</td>\n",
       "      <td>2.0</td>\n",
       "      <td>5.0</td>\n",
       "      <td>13.0</td>\n",
       "      <td>NaN</td>\n",
       "    </tr>\n",
       "    <tr>\n",
       "      <th>2</th>\n",
       "      <td>Tue, Oct 31, 2006</td>\n",
       "      <td>Chicago Bulls</td>\n",
       "      <td>Miami Heat</td>\n",
       "      <td>0</td>\n",
       "      <td>1.0</td>\n",
       "      <td>Luol Deng</td>\n",
       "      <td>24:07</td>\n",
       "      <td>4.0</td>\n",
       "      <td>9.0</td>\n",
       "      <td>0.444</td>\n",
       "      <td>...</td>\n",
       "      <td>1.0</td>\n",
       "      <td>2.0</td>\n",
       "      <td>1.0</td>\n",
       "      <td>1.0</td>\n",
       "      <td>0.0</td>\n",
       "      <td>3.0</td>\n",
       "      <td>2.0</td>\n",
       "      <td>12.0</td>\n",
       "      <td>8.0</td>\n",
       "      <td>NaN</td>\n",
       "    </tr>\n",
       "    <tr>\n",
       "      <th>3</th>\n",
       "      <td>Tue, Oct 31, 2006</td>\n",
       "      <td>Chicago Bulls</td>\n",
       "      <td>Miami Heat</td>\n",
       "      <td>0</td>\n",
       "      <td>1.0</td>\n",
       "      <td>Ben Gordon</td>\n",
       "      <td>22:56</td>\n",
       "      <td>1.0</td>\n",
       "      <td>9.0</td>\n",
       "      <td>0.111</td>\n",
       "      <td>...</td>\n",
       "      <td>1.0</td>\n",
       "      <td>1.0</td>\n",
       "      <td>2.0</td>\n",
       "      <td>1.0</td>\n",
       "      <td>0.0</td>\n",
       "      <td>2.0</td>\n",
       "      <td>3.0</td>\n",
       "      <td>6.0</td>\n",
       "      <td>7.0</td>\n",
       "      <td>NaN</td>\n",
       "    </tr>\n",
       "    <tr>\n",
       "      <th>4</th>\n",
       "      <td>Tue, Oct 31, 2006</td>\n",
       "      <td>Chicago Bulls</td>\n",
       "      <td>Miami Heat</td>\n",
       "      <td>0</td>\n",
       "      <td>1.0</td>\n",
       "      <td>P.J. Brown</td>\n",
       "      <td>18:23</td>\n",
       "      <td>1.0</td>\n",
       "      <td>2.0</td>\n",
       "      <td>0.500</td>\n",
       "      <td>...</td>\n",
       "      <td>3.0</td>\n",
       "      <td>3.0</td>\n",
       "      <td>1.0</td>\n",
       "      <td>1.0</td>\n",
       "      <td>1.0</td>\n",
       "      <td>2.0</td>\n",
       "      <td>3.0</td>\n",
       "      <td>4.0</td>\n",
       "      <td>15.0</td>\n",
       "      <td>NaN</td>\n",
       "    </tr>\n",
       "  </tbody>\n",
       "</table>\n",
       "<p>5 rows × 27 columns</p>\n",
       "</div>"
      ],
      "text/plain": [
       "                date        visitor        home  team  starter        player  \\\n",
       "0  Tue, Oct 31, 2006  Chicago Bulls  Miami Heat     0      1.0  Kirk Hinrich   \n",
       "1  Tue, Oct 31, 2006  Chicago Bulls  Miami Heat     0      1.0   Ben Wallace   \n",
       "2  Tue, Oct 31, 2006  Chicago Bulls  Miami Heat     0      1.0     Luol Deng   \n",
       "3  Tue, Oct 31, 2006  Chicago Bulls  Miami Heat     0      1.0    Ben Gordon   \n",
       "4  Tue, Oct 31, 2006  Chicago Bulls  Miami Heat     0      1.0    P.J. Brown   \n",
       "\n",
       "      mp    fg   fga  fg_perc  ...  drb   trb  ast  stl  blk  tov   pf   pts  \\\n",
       "0  34:38  10.0  18.0    0.556  ...  4.0   4.0  3.0  2.0  0.0  0.0  2.0  26.0   \n",
       "1  28:29   2.0   5.0    0.400  ...  5.0  11.0  1.0  0.0  1.0  0.0  2.0   5.0   \n",
       "2  24:07   4.0   9.0    0.444  ...  1.0   2.0  1.0  1.0  0.0  3.0  2.0  12.0   \n",
       "3  22:56   1.0   9.0    0.111  ...  1.0   1.0  2.0  1.0  0.0  2.0  3.0   6.0   \n",
       "4  18:23   1.0   2.0    0.500  ...  3.0   3.0  1.0  1.0  1.0  2.0  3.0   4.0   \n",
       "\n",
       "   plus_minus  season  \n",
       "0        23.0     NaN  \n",
       "1        13.0     NaN  \n",
       "2         8.0     NaN  \n",
       "3         7.0     NaN  \n",
       "4        15.0     NaN  \n",
       "\n",
       "[5 rows x 27 columns]"
      ]
     },
     "execution_count": 5,
     "metadata": {},
     "output_type": "execute_result"
    }
   ],
   "source": [
    "df.head()"
   ]
  },
  {
   "cell_type": "code",
   "execution_count": 6,
   "metadata": {},
   "outputs": [
    {
     "data": {
      "text/plain": [
       "Index(['date', 'visitor', 'home', 'team', 'starter', 'player', 'mp', 'fg',\n",
       "       'fga', 'fg_perc', '3p', '3pa', '3p_perc', 'ft', 'fta', 'ft_perc', 'orb',\n",
       "       'drb', 'trb', 'ast', 'stl', 'blk', 'tov', 'pf', 'pts', 'plus_minus',\n",
       "       'season'],\n",
       "      dtype='object')"
      ]
     },
     "execution_count": 6,
     "metadata": {},
     "output_type": "execute_result"
    }
   ],
   "source": [
    "df.columns"
   ]
  },
  {
   "attachments": {},
   "cell_type": "markdown",
   "metadata": {},
   "source": [
    "Drop duplicates and NA's"
   ]
  },
  {
   "cell_type": "code",
   "execution_count": 7,
   "metadata": {},
   "outputs": [],
   "source": [
    "df.drop_duplicates(subset=['date', 'visitor', 'home', 'team', 'player'], inplace=True)"
   ]
  },
  {
   "cell_type": "code",
   "execution_count": 8,
   "metadata": {},
   "outputs": [],
   "source": [
    "df.dropna(subset = ['player'], inplace = True)"
   ]
  },
  {
   "cell_type": "code",
   "execution_count": 9,
   "metadata": {},
   "outputs": [
    {
     "data": {
      "text/plain": [
       "date               0\n",
       "visitor            0\n",
       "home               0\n",
       "team               0\n",
       "starter            0\n",
       "player             0\n",
       "mp                 0\n",
       "fg                 0\n",
       "fga                0\n",
       "fg_perc        22692\n",
       "3p                 0\n",
       "3pa                0\n",
       "3p_perc       156463\n",
       "ft                 0\n",
       "fta                0\n",
       "ft_perc       188212\n",
       "orb                0\n",
       "drb                0\n",
       "trb                0\n",
       "ast                0\n",
       "stl                0\n",
       "blk                0\n",
       "tov                0\n",
       "pf                 0\n",
       "pts                0\n",
       "plus_minus        80\n",
       "season        535562\n",
       "dtype: int64"
      ]
     },
     "execution_count": 9,
     "metadata": {},
     "output_type": "execute_result"
    }
   ],
   "source": [
    "df.isna().sum()"
   ]
  },
  {
   "attachments": {},
   "cell_type": "markdown",
   "metadata": {},
   "source": [
    "Clean data"
   ]
  },
  {
   "cell_type": "code",
   "execution_count": 10,
   "metadata": {},
   "outputs": [],
   "source": [
    "df['fg_perc'] = df['fg'] / df['fga']\n",
    "df['3p_perc'] = df['3p'] / df['3pa']\n",
    "df['ft_perc'] = df['ft'] / df['fta']\n",
    "df['min'] = df['mp'].apply(lambda x: int(x.split(':')[0]))\n",
    "df['sec'] = df['mp'].apply(lambda x: int(x.split(':')[-1]))\n",
    "df['pt'] = df['min'] + df['sec'] / 60\n",
    "df['date'] = pd.to_datetime(df['date'])\n",
    "df['year'] = df['date'].dt.year\n",
    "df['month'] = df['date'].dt.month\n",
    "df['player'] = df['player'].apply(lambda x: x.strip())"
   ]
  },
  {
   "cell_type": "code",
   "execution_count": 11,
   "metadata": {},
   "outputs": [
    {
     "data": {
      "text/html": [
       "<div>\n",
       "<style scoped>\n",
       "    .dataframe tbody tr th:only-of-type {\n",
       "        vertical-align: middle;\n",
       "    }\n",
       "\n",
       "    .dataframe tbody tr th {\n",
       "        vertical-align: top;\n",
       "    }\n",
       "\n",
       "    .dataframe thead th {\n",
       "        text-align: right;\n",
       "    }\n",
       "</style>\n",
       "<table border=\"1\" class=\"dataframe\">\n",
       "  <thead>\n",
       "    <tr style=\"text-align: right;\">\n",
       "      <th></th>\n",
       "      <th>team</th>\n",
       "      <th>starter</th>\n",
       "      <th>fg</th>\n",
       "      <th>fga</th>\n",
       "      <th>fg_perc</th>\n",
       "      <th>3p</th>\n",
       "      <th>3pa</th>\n",
       "      <th>3p_perc</th>\n",
       "      <th>ft</th>\n",
       "      <th>fta</th>\n",
       "      <th>...</th>\n",
       "      <th>tov</th>\n",
       "      <th>pf</th>\n",
       "      <th>pts</th>\n",
       "      <th>plus_minus</th>\n",
       "      <th>season</th>\n",
       "      <th>min</th>\n",
       "      <th>sec</th>\n",
       "      <th>pt</th>\n",
       "      <th>year</th>\n",
       "      <th>month</th>\n",
       "    </tr>\n",
       "  </thead>\n",
       "  <tbody>\n",
       "    <tr>\n",
       "      <th>count</th>\n",
       "      <td>535640.000000</td>\n",
       "      <td>535640.000000</td>\n",
       "      <td>535640.000000</td>\n",
       "      <td>535640.000000</td>\n",
       "      <td>422832.000000</td>\n",
       "      <td>535640.000000</td>\n",
       "      <td>535640.000000</td>\n",
       "      <td>289061.000000</td>\n",
       "      <td>535640.000000</td>\n",
       "      <td>535640.000000</td>\n",
       "      <td>...</td>\n",
       "      <td>535640.000000</td>\n",
       "      <td>535640.000000</td>\n",
       "      <td>535640.000000</td>\n",
       "      <td>535560.000000</td>\n",
       "      <td>78.0</td>\n",
       "      <td>535640.000000</td>\n",
       "      <td>535640.000000</td>\n",
       "      <td>535640.000000</td>\n",
       "      <td>535640.000000</td>\n",
       "      <td>535640.000000</td>\n",
       "    </tr>\n",
       "    <tr>\n",
       "      <th>mean</th>\n",
       "      <td>0.500653</td>\n",
       "      <td>0.398607</td>\n",
       "      <td>3.066339</td>\n",
       "      <td>6.702280</td>\n",
       "      <td>0.443158</td>\n",
       "      <td>0.701382</td>\n",
       "      <td>1.961721</td>\n",
       "      <td>0.325734</td>\n",
       "      <td>1.427621</td>\n",
       "      <td>1.871005</td>\n",
       "      <td>...</td>\n",
       "      <td>1.085348</td>\n",
       "      <td>1.635632</td>\n",
       "      <td>8.261681</td>\n",
       "      <td>-0.000024</td>\n",
       "      <td>2022.0</td>\n",
       "      <td>18.865008</td>\n",
       "      <td>24.390902</td>\n",
       "      <td>19.271523</td>\n",
       "      <td>2014.562251</td>\n",
       "      <td>5.692508</td>\n",
       "    </tr>\n",
       "    <tr>\n",
       "      <th>std</th>\n",
       "      <td>0.500000</td>\n",
       "      <td>0.489612</td>\n",
       "      <td>3.129845</td>\n",
       "      <td>6.045804</td>\n",
       "      <td>0.237249</td>\n",
       "      <td>1.205301</td>\n",
       "      <td>2.580121</td>\n",
       "      <td>0.304822</td>\n",
       "      <td>2.239252</td>\n",
       "      <td>2.751188</td>\n",
       "      <td>...</td>\n",
       "      <td>1.369652</td>\n",
       "      <td>1.544588</td>\n",
       "      <td>8.374334</td>\n",
       "      <td>9.832270</td>\n",
       "      <td>0.0</td>\n",
       "      <td>13.243943</td>\n",
       "      <td>19.280511</td>\n",
       "      <td>13.361279</td>\n",
       "      <td>4.801099</td>\n",
       "      <td>4.349959</td>\n",
       "    </tr>\n",
       "    <tr>\n",
       "      <th>min</th>\n",
       "      <td>0.000000</td>\n",
       "      <td>0.000000</td>\n",
       "      <td>0.000000</td>\n",
       "      <td>0.000000</td>\n",
       "      <td>0.000000</td>\n",
       "      <td>0.000000</td>\n",
       "      <td>0.000000</td>\n",
       "      <td>0.000000</td>\n",
       "      <td>0.000000</td>\n",
       "      <td>0.000000</td>\n",
       "      <td>...</td>\n",
       "      <td>0.000000</td>\n",
       "      <td>0.000000</td>\n",
       "      <td>0.000000</td>\n",
       "      <td>-57.000000</td>\n",
       "      <td>2022.0</td>\n",
       "      <td>0.000000</td>\n",
       "      <td>0.000000</td>\n",
       "      <td>0.000000</td>\n",
       "      <td>2006.000000</td>\n",
       "      <td>1.000000</td>\n",
       "    </tr>\n",
       "    <tr>\n",
       "      <th>25%</th>\n",
       "      <td>0.000000</td>\n",
       "      <td>0.000000</td>\n",
       "      <td>0.000000</td>\n",
       "      <td>1.000000</td>\n",
       "      <td>0.320000</td>\n",
       "      <td>0.000000</td>\n",
       "      <td>0.000000</td>\n",
       "      <td>0.000000</td>\n",
       "      <td>0.000000</td>\n",
       "      <td>0.000000</td>\n",
       "      <td>...</td>\n",
       "      <td>0.000000</td>\n",
       "      <td>0.000000</td>\n",
       "      <td>0.000000</td>\n",
       "      <td>-5.000000</td>\n",
       "      <td>2022.0</td>\n",
       "      <td>6.000000</td>\n",
       "      <td>5.000000</td>\n",
       "      <td>6.500000</td>\n",
       "      <td>2010.000000</td>\n",
       "      <td>2.000000</td>\n",
       "    </tr>\n",
       "    <tr>\n",
       "      <th>50%</th>\n",
       "      <td>1.000000</td>\n",
       "      <td>0.000000</td>\n",
       "      <td>2.000000</td>\n",
       "      <td>6.000000</td>\n",
       "      <td>0.450000</td>\n",
       "      <td>0.000000</td>\n",
       "      <td>1.000000</td>\n",
       "      <td>0.333333</td>\n",
       "      <td>0.000000</td>\n",
       "      <td>0.000000</td>\n",
       "      <td>...</td>\n",
       "      <td>1.000000</td>\n",
       "      <td>1.000000</td>\n",
       "      <td>6.000000</td>\n",
       "      <td>0.000000</td>\n",
       "      <td>2022.0</td>\n",
       "      <td>20.000000</td>\n",
       "      <td>23.000000</td>\n",
       "      <td>20.450000</td>\n",
       "      <td>2015.000000</td>\n",
       "      <td>4.000000</td>\n",
       "    </tr>\n",
       "    <tr>\n",
       "      <th>75%</th>\n",
       "      <td>1.000000</td>\n",
       "      <td>1.000000</td>\n",
       "      <td>5.000000</td>\n",
       "      <td>10.000000</td>\n",
       "      <td>0.571429</td>\n",
       "      <td>1.000000</td>\n",
       "      <td>3.000000</td>\n",
       "      <td>0.500000</td>\n",
       "      <td>2.000000</td>\n",
       "      <td>3.000000</td>\n",
       "      <td>...</td>\n",
       "      <td>2.000000</td>\n",
       "      <td>3.000000</td>\n",
       "      <td>13.000000</td>\n",
       "      <td>5.000000</td>\n",
       "      <td>2022.0</td>\n",
       "      <td>30.000000</td>\n",
       "      <td>41.000000</td>\n",
       "      <td>30.400000</td>\n",
       "      <td>2019.000000</td>\n",
       "      <td>11.000000</td>\n",
       "    </tr>\n",
       "    <tr>\n",
       "      <th>max</th>\n",
       "      <td>1.000000</td>\n",
       "      <td>1.000000</td>\n",
       "      <td>24.000000</td>\n",
       "      <td>50.000000</td>\n",
       "      <td>1.000000</td>\n",
       "      <td>14.000000</td>\n",
       "      <td>24.000000</td>\n",
       "      <td>1.000000</td>\n",
       "      <td>26.000000</td>\n",
       "      <td>39.000000</td>\n",
       "      <td>...</td>\n",
       "      <td>12.000000</td>\n",
       "      <td>6.000000</td>\n",
       "      <td>71.000000</td>\n",
       "      <td>57.000000</td>\n",
       "      <td>2022.0</td>\n",
       "      <td>64.000000</td>\n",
       "      <td>59.000000</td>\n",
       "      <td>64.966667</td>\n",
       "      <td>2023.000000</td>\n",
       "      <td>12.000000</td>\n",
       "    </tr>\n",
       "  </tbody>\n",
       "</table>\n",
       "<p>8 rows × 27 columns</p>\n",
       "</div>"
      ],
      "text/plain": [
       "                team        starter             fg            fga  \\\n",
       "count  535640.000000  535640.000000  535640.000000  535640.000000   \n",
       "mean        0.500653       0.398607       3.066339       6.702280   \n",
       "std         0.500000       0.489612       3.129845       6.045804   \n",
       "min         0.000000       0.000000       0.000000       0.000000   \n",
       "25%         0.000000       0.000000       0.000000       1.000000   \n",
       "50%         1.000000       0.000000       2.000000       6.000000   \n",
       "75%         1.000000       1.000000       5.000000      10.000000   \n",
       "max         1.000000       1.000000      24.000000      50.000000   \n",
       "\n",
       "             fg_perc             3p            3pa        3p_perc  \\\n",
       "count  422832.000000  535640.000000  535640.000000  289061.000000   \n",
       "mean        0.443158       0.701382       1.961721       0.325734   \n",
       "std         0.237249       1.205301       2.580121       0.304822   \n",
       "min         0.000000       0.000000       0.000000       0.000000   \n",
       "25%         0.320000       0.000000       0.000000       0.000000   \n",
       "50%         0.450000       0.000000       1.000000       0.333333   \n",
       "75%         0.571429       1.000000       3.000000       0.500000   \n",
       "max         1.000000      14.000000      24.000000       1.000000   \n",
       "\n",
       "                  ft            fta  ...            tov             pf  \\\n",
       "count  535640.000000  535640.000000  ...  535640.000000  535640.000000   \n",
       "mean        1.427621       1.871005  ...       1.085348       1.635632   \n",
       "std         2.239252       2.751188  ...       1.369652       1.544588   \n",
       "min         0.000000       0.000000  ...       0.000000       0.000000   \n",
       "25%         0.000000       0.000000  ...       0.000000       0.000000   \n",
       "50%         0.000000       0.000000  ...       1.000000       1.000000   \n",
       "75%         2.000000       3.000000  ...       2.000000       3.000000   \n",
       "max        26.000000      39.000000  ...      12.000000       6.000000   \n",
       "\n",
       "                 pts     plus_minus  season            min            sec  \\\n",
       "count  535640.000000  535560.000000    78.0  535640.000000  535640.000000   \n",
       "mean        8.261681      -0.000024  2022.0      18.865008      24.390902   \n",
       "std         8.374334       9.832270     0.0      13.243943      19.280511   \n",
       "min         0.000000     -57.000000  2022.0       0.000000       0.000000   \n",
       "25%         0.000000      -5.000000  2022.0       6.000000       5.000000   \n",
       "50%         6.000000       0.000000  2022.0      20.000000      23.000000   \n",
       "75%        13.000000       5.000000  2022.0      30.000000      41.000000   \n",
       "max        71.000000      57.000000  2022.0      64.000000      59.000000   \n",
       "\n",
       "                  pt           year          month  \n",
       "count  535640.000000  535640.000000  535640.000000  \n",
       "mean       19.271523    2014.562251       5.692508  \n",
       "std        13.361279       4.801099       4.349959  \n",
       "min         0.000000    2006.000000       1.000000  \n",
       "25%         6.500000    2010.000000       2.000000  \n",
       "50%        20.450000    2015.000000       4.000000  \n",
       "75%        30.400000    2019.000000      11.000000  \n",
       "max        64.966667    2023.000000      12.000000  \n",
       "\n",
       "[8 rows x 27 columns]"
      ]
     },
     "execution_count": 11,
     "metadata": {},
     "output_type": "execute_result"
    }
   ],
   "source": [
    "df.describe()"
   ]
  },
  {
   "attachments": {},
   "cell_type": "markdown",
   "metadata": {},
   "source": [
    "Feature Engineer"
   ]
  },
  {
   "cell_type": "code",
   "execution_count": 12,
   "metadata": {},
   "outputs": [],
   "source": [
    "x = df.groupby(['date', 'visitor', 'home', 'team'])[['fga', 'orb', 'tov', 'fta']].transform('sum')\n",
    "df['possessions'] = x.fga - x.orb + x.tov + 0.4 * x.fta"
   ]
  },
  {
   "cell_type": "code",
   "execution_count": 13,
   "metadata": {},
   "outputs": [],
   "source": [
    "def get_season(month, year):\n",
    "    if 10 <= month <= 12:\n",
    "        return year\n",
    "    else:\n",
    "        return year - 1"
   ]
  },
  {
   "cell_type": "code",
   "execution_count": 14,
   "metadata": {},
   "outputs": [],
   "source": [
    "df['season'] = df.apply(lambda x: get_season(x.month, x.year), 1)\n",
    "df['opponent'] = np.where(df['team'], df['visitor'], df['home'])"
   ]
  },
  {
   "attachments": {},
   "cell_type": "markdown",
   "metadata": {},
   "source": [
    "Merge Schedule"
   ]
  },
  {
   "cell_type": "code",
   "execution_count": 15,
   "metadata": {},
   "outputs": [],
   "source": [
    "schedules = pd.read_csv(\"backend/data/schedules/2022.csv\", index_col = 0)\n",
    "schedules['date'] = pd.to_datetime(schedules['date'])\n",
    "\n",
    "home_schedule = schedules.copy()\n",
    "home_schedule['team'] = 1\n",
    "home_schedule['opponent'] = home_schedule['visitor']\n",
    "\n",
    "visitor_schedule = schedules.copy()\n",
    "visitor_schedule['team'] = 0\n",
    "visitor_schedule['opponent'] = visitor_schedule['home']\n",
    "\n",
    "schedules = pd.concat([home_schedule, visitor_schedule])\n",
    "\n",
    "df = pd.merge(schedules, df, left_on = ['date', 'visitor', 'home', 'team', 'opponent'], right_on = ['date', 'visitor', 'home', 'team', 'opponent'], how = 'left')"
   ]
  },
  {
   "attachments": {},
   "cell_type": "markdown",
   "metadata": {},
   "source": [
    "Teams Defense"
   ]
  },
  {
   "cell_type": "code",
   "execution_count": 16,
   "metadata": {},
   "outputs": [],
   "source": [
    "defense_df = pd.read_csv('backend/data/totals/game_totals.csv', index_col = 0)\n",
    "defense_df['date'] = pd.to_datetime(defense_df['date'])\n",
    "\n",
    "defense_df = pd.merge(schedules, defense_df, left_on = ['date', 'visitor', 'home', 'team'], right_on = ['date', 'visitor', 'home', 'team'], how = 'left')\n",
    "defense_df.drop_duplicates(subset = ['date', 'visitor', 'home', 'team'], inplace = True)"
   ]
  },
  {
   "attachments": {},
   "cell_type": "markdown",
   "metadata": {},
   "source": [
    "Feature engineer for defense"
   ]
  },
  {
   "cell_type": "code",
   "execution_count": 17,
   "metadata": {},
   "outputs": [],
   "source": [
    "defense_df['team'] = np.where(defense_df['team'], defense_df['visitor'], defense_df['home'])\n",
    "defense_df['date'] = pd.to_datetime(defense_df['date'])\n",
    "defense_df['year'] = defense_df['date'].dt.year\n",
    "defense_df['month'] = defense_df['date'].dt.month\n",
    "defense_df['season'] = defense_df.apply(lambda x: get_season(x.month, x.year), 1)"
   ]
  },
  {
   "attachments": {},
   "cell_type": "markdown",
   "metadata": {},
   "source": [
    "Cumulative moving average for teams "
   ]
  },
  {
   "cell_type": "code",
   "execution_count": 18,
   "metadata": {},
   "outputs": [],
   "source": [
    "defense_df['rb'] = defense_df.groupby(['season', 'team'])['trb'].shift(1)\n",
    "defense_df['trb_sum'] = defense_df.groupby(['season', 'team'])['rb'].expanding(5).sum().sort_index(axis = 0, level = 2).values\n",
    "defense_df['trb_count'] = defense_df.groupby(['season', 'team'])['rb'].expanding(5).count().sort_index(axis = 0, level = 2).values\n",
    "defense_df['trb_mean'] = defense_df.groupby(['season', 'team'])['rb'].expanding(5).mean().sort_index(axis = 0, level = 2).values"
   ]
  },
  {
   "attachments": {},
   "cell_type": "markdown",
   "metadata": {},
   "source": [
    "League average"
   ]
  },
  {
   "cell_type": "code",
   "execution_count": 19,
   "metadata": {},
   "outputs": [],
   "source": [
    "rb_lg_sum = defense_df.groupby(['season', 'date'])['trb'].sum().groupby(['season']).shift(1)\n",
    "rb_lg_sum = rb_lg_sum.groupby(['season']).expanding(1).sum()\n",
    "rb_lg_count = defense_df.groupby(['season', 'date'])['trb'].count().groupby(['season']).shift(1)\n",
    "rb_lg_count = rb_lg_count.groupby(['season']).expanding(1).sum()\n",
    "rb_lg_avg = rb_lg_sum / rb_lg_count\n",
    "rb_lg_avg.index = defense_df.groupby(['season', 'date'])['trb'].sum().index\n",
    "rb_lg_avg = rb_lg_avg.reset_index()\n",
    "defense_df = pd.merge(defense_df, rb_lg_avg, on = ['season', 'date'], how = 'left', suffixes = ('', '_lg_avg'))\n"
   ]
  },
  {
   "attachments": {},
   "cell_type": "markdown",
   "metadata": {},
   "source": [
    "Merge in opposing defense"
   ]
  },
  {
   "cell_type": "code",
   "execution_count": 20,
   "metadata": {},
   "outputs": [],
   "source": [
    "df = pd.merge(\n",
    "    df, \n",
    "    defense_df[['team', 'date', 'trb_mean', 'trb_lg_avg']], \n",
    "    left_on = ['opponent', 'date'], \n",
    "    right_on = ['team', 'date'], \n",
    "    how = 'left', \n",
    "    suffixes = ('', '_opp')\n",
    ")"
   ]
  },
  {
   "attachments": {},
   "cell_type": "markdown",
   "metadata": {},
   "source": [
    "Functions to convert odds"
   ]
  },
  {
   "cell_type": "code",
   "execution_count": 21,
   "metadata": {},
   "outputs": [],
   "source": [
    "def convert_perc_to_odds(perc):\n",
    "    if perc > 0.5:\n",
    "        return round((100 * perc) / (1 - perc)) * -1\n",
    "    else:\n",
    "        return round((1 - perc) * 100 / perc)\n"
   ]
  },
  {
   "cell_type": "code",
   "execution_count": 22,
   "metadata": {},
   "outputs": [],
   "source": [
    "def convert_odds_to_perc(odds):\n",
    "    if odds < 0:\n",
    "        return round(abs(odds) / (abs(odds) + 100), 3)\n",
    "    else:\n",
    "        return round(100 / (abs(odds) + 100), 3)"
   ]
  },
  {
   "attachments": {},
   "cell_type": "markdown",
   "metadata": {},
   "source": [
    "Function to calculate EV"
   ]
  },
  {
   "cell_type": "code",
   "execution_count": 23,
   "metadata": {},
   "outputs": [],
   "source": [
    "def expected_value(prob, odds):\n",
    "    return prob * odds - (1 - prob)"
   ]
  },
  {
   "attachments": {},
   "cell_type": "markdown",
   "metadata": {},
   "source": [
    "Player Analysis"
   ]
  },
  {
   "cell_type": "code",
   "execution_count": 24,
   "metadata": {},
   "outputs": [],
   "source": [
    "def player_analysis(player, date, df=df):\n",
    "    player_df = df.loc[(df['player'] == player) & (df['date'] <= date)].sort_values(by=['date'], ascending=True).copy()\n",
    "\n",
    "    # Keep relevant team data (addresses trades)\n",
    "    player_df.loc[:, 'team'] = np.where(player_df['team'] == 1, player_df['home'], player_df['visitor'])\n",
    "    most_recent_team = player_df.loc[player_df['date'] == player_df['date'].max(), 'team'].values[0]\n",
    "    player_df = player_df.loc[player_df['team'] == most_recent_team, :]\n",
    "\n",
    "    # Keep games where player played\n",
    "    player_df = player_df[player_df['pt'] != '0']\n",
    "\n",
    "    # Add row to hole next game predictions\n",
    "    player_df.loc['next_game', :] = None\n",
    "\n",
    "    # Shift opposing defense and league average down a game\n",
    "    player_df.loc[:, 'trb_mean'] = player_df.loc[:, 'trb_mean'].shift(1)\n",
    "    player_df.loc[:, 'trb_lg_avg'] = player_df.loc[:, 'trb_lg_avg'].shift(1)\n",
    "\n",
    "    # Cumulative moving average for rebounds per min\n",
    "    player_df['rb'] = player_df['trb'].shift(1) / player_df['pt'].shift(1)\n",
    "    player_df['rb_sum'] = player_df['rb'].expanding(1).sum().values\n",
    "    player_df['rb_count'] = player_df['rb'].expanding(1).count().values\n",
    "    player_df['rb_mean'] = player_df['rb'].expanding(1).mean().values\n",
    "\n",
    "    return player_df\n"
   ]
  },
  {
   "attachments": {},
   "cell_type": "markdown",
   "metadata": {},
   "source": [
    "Load minute projections"
   ]
  },
  {
   "cell_type": "code",
   "execution_count": 25,
   "metadata": {},
   "outputs": [],
   "source": [
    "def load_minute_projections():\n",
    "    minute_projections = pd.read_csv(\n",
    "        'backend/data/rotowire-nba-projections.csv', \n",
    "        header=1, \n",
    "        usecols=[0, 4], \n",
    "        names=['player', 'min_proj']\n",
    "    )\n",
    "    minute_projections = dict(zip(minute_projections.loc[:, 'player'], minute_projections.loc[:, 'min_proj']))\n",
    "\n",
    "    return minute_projections"
   ]
  },
  {
   "attachments": {},
   "cell_type": "markdown",
   "metadata": {},
   "source": [
    "Apply minute projections and normalize projected rebounds"
   ]
  },
  {
   "cell_type": "code",
   "execution_count": 26,
   "metadata": {},
   "outputs": [],
   "source": [
    "def project_and_normalize(player, player_df):\n",
    "    # Select next game\n",
    "    mu_df = player_df.iloc[-1, :][['rb_mean', 'trb_mean', 'trb_lg_avg']]\n",
    "\n",
    "    # Load minute projections\n",
    "    minute_projections = load_minute_projections()\n",
    "\n",
    "    # Edge cases where there a difference in player names\n",
    "    minutes_players = {\n",
    "        'Wendell Carter Jr.': 'Wendell Carter'\n",
    "    }\n",
    "\n",
    "    # Apply minute projections to season average per min\n",
    "    mu_df['rb_mean'] = mu_df['rb_mean'] * minute_projections[unidecode(minutes_players[player])]\n",
    "\n",
    "    # Normalize data\n",
    "    normalize = 1 + (mu_df['trb_mean'] - mu_df['trb_lg_avg']) / mu_df['trb_lg_avg']\n",
    "    mu = mu_df['rb_mean'] * normalize\n",
    "    print(f\"Normalized projection: {mu}\")\n",
    "\n",
    "    return mu"
   ]
  },
  {
   "attachments": {},
   "cell_type": "markdown",
   "metadata": {},
   "source": [
    "Calculate odds"
   ]
  },
  {
   "cell_type": "code",
   "execution_count": 27,
   "metadata": {},
   "outputs": [],
   "source": [
    "def calculate_expected_value(mu, odds):\n",
    "    # Poisson distribution probability\n",
    "    under = stats.poisson.cdf(k = odds[\"total\"], mu = mu)\n",
    "    over = 1 - under\n",
    "\n",
    "    # Expected value\n",
    "    over_ev = expected_value(over, convert_odds_to_perc(odds[\"over\"]))\n",
    "    under_ev = expected_value(under, convert_odds_to_perc(odds[\"under\"]))\n",
    "    print(f\"Over EV: {over_ev:.1%}\")\n",
    "    print(f\"Under EV: {under_ev:.1%}\")\n",
    "\n"
   ]
  },
  {
   "attachments": {},
   "cell_type": "markdown",
   "metadata": {},
   "source": [
    "Enter player name, date and odds"
   ]
  },
  {
   "cell_type": "code",
   "execution_count": 28,
   "metadata": {},
   "outputs": [
    {
     "name": "stdout",
     "output_type": "stream",
     "text": [
      "Normalized projection: 8.273483601933451\n",
      "Over EV: -31.2%\n",
      "Under EV: -15.6%\n"
     ]
    }
   ],
   "source": [
    "today = \"2023-02-23\"\n",
    "player = \"Wendell Carter Jr.\"\n",
    "odds = {\n",
    "    \"total\": 8.5,\n",
    "    \"over\": -120,\n",
    "    \"under\": -109\n",
    "}\n",
    "\n",
    "player_df = player_analysis(player, today)\n",
    "mu = project_and_normalize(player, player_df)\n",
    "calculate_expected_value(mu, odds)"
   ]
  }
 ],
 "metadata": {
  "kernelspec": {
   "display_name": "NBA",
   "language": "python",
   "name": "python3"
  },
  "language_info": {
   "codemirror_mode": {
    "name": "ipython",
    "version": 3
   },
   "file_extension": ".py",
   "mimetype": "text/x-python",
   "name": "python",
   "nbconvert_exporter": "python",
   "pygments_lexer": "ipython3",
   "version": "3.10.9"
  },
  "orig_nbformat": 4,
  "vscode": {
   "interpreter": {
    "hash": "64e3e1d0b2ffc83558aae38b8f31ea3243536533886431b3bf1c9fd07010547d"
   }
  }
 },
 "nbformat": 4,
 "nbformat_minor": 2
}
