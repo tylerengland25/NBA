{
 "cells": [
  {
   "attachments": {},
   "cell_type": "markdown",
   "metadata": {},
   "source": [
    "# Rebounds"
   ]
  },
  {
   "cell_type": "code",
   "execution_count": 409,
   "metadata": {},
   "outputs": [],
   "source": [
    "import os\n",
    "import pandas as pd\n",
    "import numpy as np\n",
    "import scipy.stats as stats\n",
    "from unidecode import unidecode\n",
    "from datetime import date"
   ]
  },
  {
   "cell_type": "code",
   "execution_count": 410,
   "metadata": {},
   "outputs": [
    {
     "data": {
      "text/plain": [
       "'/home/tylerengland/NBA'"
      ]
     },
     "execution_count": 410,
     "metadata": {},
     "output_type": "execute_result"
    }
   ],
   "source": [
    "os.chdir('/home/tylerengland/NBA')\n",
    "os.getcwd()"
   ]
  },
  {
   "attachments": {},
   "cell_type": "markdown",
   "metadata": {},
   "source": [
    "### Load Data"
   ]
  },
  {
   "cell_type": "code",
   "execution_count": 411,
   "metadata": {},
   "outputs": [],
   "source": [
    "df = pd.read_csv('backend/data/details/game_details.csv')"
   ]
  },
  {
   "cell_type": "code",
   "execution_count": 412,
   "metadata": {},
   "outputs": [
    {
     "data": {
      "text/html": [
       "<div>\n",
       "<style scoped>\n",
       "    .dataframe tbody tr th:only-of-type {\n",
       "        vertical-align: middle;\n",
       "    }\n",
       "\n",
       "    .dataframe tbody tr th {\n",
       "        vertical-align: top;\n",
       "    }\n",
       "\n",
       "    .dataframe thead th {\n",
       "        text-align: right;\n",
       "    }\n",
       "</style>\n",
       "<table border=\"1\" class=\"dataframe\">\n",
       "  <thead>\n",
       "    <tr style=\"text-align: right;\">\n",
       "      <th></th>\n",
       "      <th>date</th>\n",
       "      <th>visitor</th>\n",
       "      <th>home</th>\n",
       "      <th>team</th>\n",
       "      <th>starter</th>\n",
       "      <th>player</th>\n",
       "      <th>mp</th>\n",
       "      <th>fg</th>\n",
       "      <th>fga</th>\n",
       "      <th>fg_perc</th>\n",
       "      <th>...</th>\n",
       "      <th>drb</th>\n",
       "      <th>trb</th>\n",
       "      <th>ast</th>\n",
       "      <th>stl</th>\n",
       "      <th>blk</th>\n",
       "      <th>tov</th>\n",
       "      <th>pf</th>\n",
       "      <th>pts</th>\n",
       "      <th>plus_minus</th>\n",
       "      <th>season</th>\n",
       "    </tr>\n",
       "  </thead>\n",
       "  <tbody>\n",
       "    <tr>\n",
       "      <th>0</th>\n",
       "      <td>Tue, Oct 31, 2006</td>\n",
       "      <td>Chicago Bulls</td>\n",
       "      <td>Miami Heat</td>\n",
       "      <td>0</td>\n",
       "      <td>1.0</td>\n",
       "      <td>Kirk Hinrich</td>\n",
       "      <td>34:38</td>\n",
       "      <td>10.0</td>\n",
       "      <td>18.0</td>\n",
       "      <td>0.556</td>\n",
       "      <td>...</td>\n",
       "      <td>4.0</td>\n",
       "      <td>4.0</td>\n",
       "      <td>3.0</td>\n",
       "      <td>2.0</td>\n",
       "      <td>0.0</td>\n",
       "      <td>0.0</td>\n",
       "      <td>2.0</td>\n",
       "      <td>26.0</td>\n",
       "      <td>23.0</td>\n",
       "      <td>NaN</td>\n",
       "    </tr>\n",
       "    <tr>\n",
       "      <th>1</th>\n",
       "      <td>Tue, Oct 31, 2006</td>\n",
       "      <td>Chicago Bulls</td>\n",
       "      <td>Miami Heat</td>\n",
       "      <td>0</td>\n",
       "      <td>1.0</td>\n",
       "      <td>Ben Wallace</td>\n",
       "      <td>28:29</td>\n",
       "      <td>2.0</td>\n",
       "      <td>5.0</td>\n",
       "      <td>0.400</td>\n",
       "      <td>...</td>\n",
       "      <td>5.0</td>\n",
       "      <td>11.0</td>\n",
       "      <td>1.0</td>\n",
       "      <td>0.0</td>\n",
       "      <td>1.0</td>\n",
       "      <td>0.0</td>\n",
       "      <td>2.0</td>\n",
       "      <td>5.0</td>\n",
       "      <td>13.0</td>\n",
       "      <td>NaN</td>\n",
       "    </tr>\n",
       "    <tr>\n",
       "      <th>2</th>\n",
       "      <td>Tue, Oct 31, 2006</td>\n",
       "      <td>Chicago Bulls</td>\n",
       "      <td>Miami Heat</td>\n",
       "      <td>0</td>\n",
       "      <td>1.0</td>\n",
       "      <td>Luol Deng</td>\n",
       "      <td>24:07</td>\n",
       "      <td>4.0</td>\n",
       "      <td>9.0</td>\n",
       "      <td>0.444</td>\n",
       "      <td>...</td>\n",
       "      <td>1.0</td>\n",
       "      <td>2.0</td>\n",
       "      <td>1.0</td>\n",
       "      <td>1.0</td>\n",
       "      <td>0.0</td>\n",
       "      <td>3.0</td>\n",
       "      <td>2.0</td>\n",
       "      <td>12.0</td>\n",
       "      <td>8.0</td>\n",
       "      <td>NaN</td>\n",
       "    </tr>\n",
       "    <tr>\n",
       "      <th>3</th>\n",
       "      <td>Tue, Oct 31, 2006</td>\n",
       "      <td>Chicago Bulls</td>\n",
       "      <td>Miami Heat</td>\n",
       "      <td>0</td>\n",
       "      <td>1.0</td>\n",
       "      <td>Ben Gordon</td>\n",
       "      <td>22:56</td>\n",
       "      <td>1.0</td>\n",
       "      <td>9.0</td>\n",
       "      <td>0.111</td>\n",
       "      <td>...</td>\n",
       "      <td>1.0</td>\n",
       "      <td>1.0</td>\n",
       "      <td>2.0</td>\n",
       "      <td>1.0</td>\n",
       "      <td>0.0</td>\n",
       "      <td>2.0</td>\n",
       "      <td>3.0</td>\n",
       "      <td>6.0</td>\n",
       "      <td>7.0</td>\n",
       "      <td>NaN</td>\n",
       "    </tr>\n",
       "    <tr>\n",
       "      <th>4</th>\n",
       "      <td>Tue, Oct 31, 2006</td>\n",
       "      <td>Chicago Bulls</td>\n",
       "      <td>Miami Heat</td>\n",
       "      <td>0</td>\n",
       "      <td>1.0</td>\n",
       "      <td>P.J. Brown</td>\n",
       "      <td>18:23</td>\n",
       "      <td>1.0</td>\n",
       "      <td>2.0</td>\n",
       "      <td>0.500</td>\n",
       "      <td>...</td>\n",
       "      <td>3.0</td>\n",
       "      <td>3.0</td>\n",
       "      <td>1.0</td>\n",
       "      <td>1.0</td>\n",
       "      <td>1.0</td>\n",
       "      <td>2.0</td>\n",
       "      <td>3.0</td>\n",
       "      <td>4.0</td>\n",
       "      <td>15.0</td>\n",
       "      <td>NaN</td>\n",
       "    </tr>\n",
       "  </tbody>\n",
       "</table>\n",
       "<p>5 rows × 27 columns</p>\n",
       "</div>"
      ],
      "text/plain": [
       "                date        visitor        home  team  starter        player  \\\n",
       "0  Tue, Oct 31, 2006  Chicago Bulls  Miami Heat     0      1.0  Kirk Hinrich   \n",
       "1  Tue, Oct 31, 2006  Chicago Bulls  Miami Heat     0      1.0   Ben Wallace   \n",
       "2  Tue, Oct 31, 2006  Chicago Bulls  Miami Heat     0      1.0     Luol Deng   \n",
       "3  Tue, Oct 31, 2006  Chicago Bulls  Miami Heat     0      1.0    Ben Gordon   \n",
       "4  Tue, Oct 31, 2006  Chicago Bulls  Miami Heat     0      1.0    P.J. Brown   \n",
       "\n",
       "      mp    fg   fga  fg_perc  ...  drb   trb  ast  stl  blk  tov   pf   pts  \\\n",
       "0  34:38  10.0  18.0    0.556  ...  4.0   4.0  3.0  2.0  0.0  0.0  2.0  26.0   \n",
       "1  28:29   2.0   5.0    0.400  ...  5.0  11.0  1.0  0.0  1.0  0.0  2.0   5.0   \n",
       "2  24:07   4.0   9.0    0.444  ...  1.0   2.0  1.0  1.0  0.0  3.0  2.0  12.0   \n",
       "3  22:56   1.0   9.0    0.111  ...  1.0   1.0  2.0  1.0  0.0  2.0  3.0   6.0   \n",
       "4  18:23   1.0   2.0    0.500  ...  3.0   3.0  1.0  1.0  1.0  2.0  3.0   4.0   \n",
       "\n",
       "   plus_minus  season  \n",
       "0        23.0     NaN  \n",
       "1        13.0     NaN  \n",
       "2         8.0     NaN  \n",
       "3         7.0     NaN  \n",
       "4        15.0     NaN  \n",
       "\n",
       "[5 rows x 27 columns]"
      ]
     },
     "execution_count": 412,
     "metadata": {},
     "output_type": "execute_result"
    }
   ],
   "source": [
    "df.head()"
   ]
  },
  {
   "cell_type": "code",
   "execution_count": 413,
   "metadata": {},
   "outputs": [
    {
     "data": {
      "text/plain": [
       "Index(['date', 'visitor', 'home', 'team', 'starter', 'player', 'mp', 'fg',\n",
       "       'fga', 'fg_perc', '3p', '3pa', '3p_perc', 'ft', 'fta', 'ft_perc', 'orb',\n",
       "       'drb', 'trb', 'ast', 'stl', 'blk', 'tov', 'pf', 'pts', 'plus_minus',\n",
       "       'season'],\n",
       "      dtype='object')"
      ]
     },
     "execution_count": 413,
     "metadata": {},
     "output_type": "execute_result"
    }
   ],
   "source": [
    "df.columns"
   ]
  },
  {
   "attachments": {},
   "cell_type": "markdown",
   "metadata": {},
   "source": [
    "Drop duplicates and NA's"
   ]
  },
  {
   "cell_type": "code",
   "execution_count": 414,
   "metadata": {},
   "outputs": [],
   "source": [
    "df.drop_duplicates(subset=['date', 'visitor', 'home', 'team', 'player'], inplace=True)"
   ]
  },
  {
   "cell_type": "code",
   "execution_count": 415,
   "metadata": {},
   "outputs": [],
   "source": [
    "df.dropna(subset = ['player'], inplace = True)"
   ]
  },
  {
   "cell_type": "code",
   "execution_count": 416,
   "metadata": {},
   "outputs": [
    {
     "data": {
      "text/plain": [
       "date               0\n",
       "visitor            0\n",
       "home               0\n",
       "team               0\n",
       "starter            0\n",
       "player             0\n",
       "mp                 0\n",
       "fg                 0\n",
       "fga                0\n",
       "fg_perc        22692\n",
       "3p                 0\n",
       "3pa                0\n",
       "3p_perc       156463\n",
       "ft                 0\n",
       "fta                0\n",
       "ft_perc       188212\n",
       "orb                0\n",
       "drb                0\n",
       "trb                0\n",
       "ast                0\n",
       "stl                0\n",
       "blk                0\n",
       "tov                0\n",
       "pf                 0\n",
       "pts                0\n",
       "plus_minus        80\n",
       "season        535562\n",
       "dtype: int64"
      ]
     },
     "execution_count": 416,
     "metadata": {},
     "output_type": "execute_result"
    }
   ],
   "source": [
    "df.isna().sum()"
   ]
  },
  {
   "attachments": {},
   "cell_type": "markdown",
   "metadata": {},
   "source": [
    "Clean data"
   ]
  },
  {
   "cell_type": "code",
   "execution_count": 417,
   "metadata": {},
   "outputs": [],
   "source": [
    "df['fg_perc'] = df['fg'] / df['fga']\n",
    "df['3p_perc'] = df['3p'] / df['3pa']\n",
    "df['ft_perc'] = df['ft'] / df['fta']\n",
    "df['min'] = df['mp'].apply(lambda x: int(x.split(':')[0]))\n",
    "df['sec'] = df['mp'].apply(lambda x: int(x.split(':')[-1]))\n",
    "df['pt'] = df['min'] + df['sec'] / 60\n",
    "df['date'] = pd.to_datetime(df['date'])\n",
    "df['year'] = df['date'].dt.year\n",
    "df['month'] = df['date'].dt.month\n",
    "df['player'] = df['player'].apply(lambda x: unidecode(x.strip().lower()))"
   ]
  },
  {
   "cell_type": "code",
   "execution_count": 418,
   "metadata": {},
   "outputs": [
    {
     "name": "stdout",
     "output_type": "stream",
     "text": [
      "<class 'pandas.core.frame.DataFrame'>\n",
      "Int64Index: 535640 entries, 0 to 536857\n",
      "Data columns (total 32 columns):\n",
      " #   Column      Non-Null Count   Dtype         \n",
      "---  ------      --------------   -----         \n",
      " 0   date        535640 non-null  datetime64[ns]\n",
      " 1   visitor     535640 non-null  object        \n",
      " 2   home        535640 non-null  object        \n",
      " 3   team        535640 non-null  int64         \n",
      " 4   starter     535640 non-null  float64       \n",
      " 5   player      535640 non-null  object        \n",
      " 6   mp          535640 non-null  object        \n",
      " 7   fg          535640 non-null  float64       \n",
      " 8   fga         535640 non-null  float64       \n",
      " 9   fg_perc     422832 non-null  float64       \n",
      " 10  3p          535640 non-null  float64       \n",
      " 11  3pa         535640 non-null  float64       \n",
      " 12  3p_perc     289061 non-null  float64       \n",
      " 13  ft          535640 non-null  float64       \n",
      " 14  fta         535640 non-null  float64       \n",
      " 15  ft_perc     257312 non-null  float64       \n",
      " 16  orb         535640 non-null  float64       \n",
      " 17  drb         535640 non-null  float64       \n",
      " 18  trb         535640 non-null  float64       \n",
      " 19  ast         535640 non-null  float64       \n",
      " 20  stl         535640 non-null  float64       \n",
      " 21  blk         535640 non-null  float64       \n",
      " 22  tov         535640 non-null  float64       \n",
      " 23  pf          535640 non-null  float64       \n",
      " 24  pts         535640 non-null  float64       \n",
      " 25  plus_minus  535560 non-null  float64       \n",
      " 26  season      78 non-null      float64       \n",
      " 27  min         535640 non-null  int64         \n",
      " 28  sec         535640 non-null  int64         \n",
      " 29  pt          535640 non-null  float64       \n",
      " 30  year        535640 non-null  int64         \n",
      " 31  month       535640 non-null  int64         \n",
      "dtypes: datetime64[ns](1), float64(22), int64(5), object(4)\n",
      "memory usage: 134.9+ MB\n"
     ]
    }
   ],
   "source": [
    "df.info()"
   ]
  },
  {
   "attachments": {},
   "cell_type": "markdown",
   "metadata": {},
   "source": [
    "Feature Engineer"
   ]
  },
  {
   "cell_type": "code",
   "execution_count": 419,
   "metadata": {},
   "outputs": [],
   "source": [
    "x = df.groupby(['date', 'visitor', 'home', 'team'])[['fga', 'orb', 'tov', 'fta']].transform('sum')\n",
    "df['possessions'] = x.fga - x.orb + x.tov + 0.4 * x.fta"
   ]
  },
  {
   "cell_type": "code",
   "execution_count": 420,
   "metadata": {},
   "outputs": [],
   "source": [
    "def get_season(month, year):\n",
    "    if 10 <= month <= 12:\n",
    "        return year\n",
    "    else:\n",
    "        return year - 1"
   ]
  },
  {
   "cell_type": "code",
   "execution_count": 421,
   "metadata": {},
   "outputs": [],
   "source": [
    "df['season'] = df.apply(lambda x: get_season(x.month, x.year), 1)\n",
    "df['opponent'] = np.where(df['team'], df['visitor'], df['home'])"
   ]
  },
  {
   "attachments": {},
   "cell_type": "markdown",
   "metadata": {},
   "source": [
    "Merge Schedule"
   ]
  },
  {
   "cell_type": "code",
   "execution_count": 422,
   "metadata": {},
   "outputs": [],
   "source": [
    "schedules = pd.read_csv(\"backend/data/schedules/2022.csv\", index_col = 0)\n",
    "schedules['date'] = pd.to_datetime(schedules['date'])\n",
    "\n",
    "home_schedule = schedules.copy()\n",
    "home_schedule['team'] = 1\n",
    "home_schedule['opponent'] = home_schedule['visitor']\n",
    "\n",
    "visitor_schedule = schedules.copy()\n",
    "visitor_schedule['team'] = 0\n",
    "visitor_schedule['opponent'] = visitor_schedule['home']\n",
    "\n",
    "schedules = pd.concat([home_schedule, visitor_schedule])\n",
    "\n",
    "df = pd.merge(schedules, df, left_on = ['date', 'visitor', 'home', 'team', 'opponent'], right_on = ['date', 'visitor', 'home', 'team', 'opponent'], how = 'left')"
   ]
  },
  {
   "attachments": {},
   "cell_type": "markdown",
   "metadata": {},
   "source": [
    "Teams Defense"
   ]
  },
  {
   "cell_type": "code",
   "execution_count": 423,
   "metadata": {},
   "outputs": [],
   "source": [
    "defense_df = pd.read_csv('backend/data/totals/game_totals.csv', index_col = 0)\n",
    "defense_df['date'] = pd.to_datetime(defense_df['date'])\n",
    "\n",
    "defense_df = pd.merge(schedules, defense_df, left_on = ['date', 'visitor', 'home', 'team'], right_on = ['date', 'visitor', 'home', 'team'], how = 'left')\n",
    "defense_df.drop_duplicates(subset = ['date', 'visitor', 'home', 'team'], inplace = True)"
   ]
  },
  {
   "attachments": {},
   "cell_type": "markdown",
   "metadata": {},
   "source": [
    "Feature engineer for defense"
   ]
  },
  {
   "cell_type": "code",
   "execution_count": 424,
   "metadata": {},
   "outputs": [],
   "source": [
    "defense_df['team'] = np.where(defense_df['team'], defense_df['visitor'], defense_df['home'])\n",
    "defense_df['date'] = pd.to_datetime(defense_df['date'])\n",
    "defense_df['year'] = defense_df['date'].dt.year\n",
    "defense_df['month'] = defense_df['date'].dt.month\n",
    "defense_df['season'] = defense_df.apply(lambda x: get_season(x.month, x.year), 1)"
   ]
  },
  {
   "attachments": {},
   "cell_type": "markdown",
   "metadata": {},
   "source": [
    "Cumulative moving average for teams "
   ]
  },
  {
   "cell_type": "code",
   "execution_count": 425,
   "metadata": {},
   "outputs": [],
   "source": [
    "defense_df['rb'] = defense_df.groupby(['season', 'team'])['trb'].shift(1)\n",
    "defense_df['trb_sum'] = defense_df.groupby(['season', 'team'])['rb'].expanding(5).sum().sort_index(axis = 0, level = 2).values\n",
    "defense_df['trb_count'] = defense_df.groupby(['season', 'team'])['rb'].expanding(5).count().sort_index(axis = 0, level = 2).values\n",
    "defense_df['trb_mean'] = defense_df.groupby(['season', 'team'])['rb'].expanding(5).mean().sort_index(axis = 0, level = 2).values"
   ]
  },
  {
   "attachments": {},
   "cell_type": "markdown",
   "metadata": {},
   "source": [
    "League average"
   ]
  },
  {
   "cell_type": "code",
   "execution_count": 426,
   "metadata": {},
   "outputs": [],
   "source": [
    "rb_lg_sum = defense_df.groupby(['season', 'date'])['trb'].sum().groupby(['season']).shift(1)\n",
    "rb_lg_sum = rb_lg_sum.groupby(['season']).expanding(1).sum()\n",
    "rb_lg_count = defense_df.groupby(['season', 'date'])['trb'].count().groupby(['season']).shift(1)\n",
    "rb_lg_count = rb_lg_count.groupby(['season']).expanding(1).sum()\n",
    "rb_lg_avg = rb_lg_sum / rb_lg_count\n",
    "rb_lg_avg.index = defense_df.groupby(['season', 'date'])['trb'].sum().index\n",
    "rb_lg_avg = rb_lg_avg.reset_index()\n",
    "defense_df = pd.merge(defense_df, rb_lg_avg, on = ['season', 'date'], how = 'left', suffixes = ('', '_lg_avg'))\n"
   ]
  },
  {
   "attachments": {},
   "cell_type": "markdown",
   "metadata": {},
   "source": [
    "Merge in opposing defense"
   ]
  },
  {
   "cell_type": "code",
   "execution_count": 427,
   "metadata": {},
   "outputs": [],
   "source": [
    "df = pd.merge(\n",
    "    df, \n",
    "    defense_df[['team', 'date', 'trb_mean', 'trb_lg_avg']], \n",
    "    left_on = ['opponent', 'date'], \n",
    "    right_on = ['team', 'date'], \n",
    "    how = 'left', \n",
    "    suffixes = ('', '_opp')\n",
    ")"
   ]
  },
  {
   "attachments": {},
   "cell_type": "markdown",
   "metadata": {},
   "source": [
    "Functions to convert odds"
   ]
  },
  {
   "cell_type": "code",
   "execution_count": 428,
   "metadata": {},
   "outputs": [],
   "source": [
    "def convert_perc_to_odds(perc):\n",
    "    if perc > 0.5:\n",
    "        return round((100 * perc) / (1 - perc)) * -1\n",
    "    else:\n",
    "        return round((1 - perc) * 100 / perc)\n"
   ]
  },
  {
   "cell_type": "code",
   "execution_count": 429,
   "metadata": {},
   "outputs": [],
   "source": [
    "def convert_odds_to_perc(odds):\n",
    "    if odds < 0:\n",
    "        return round(abs(odds) / (abs(odds) + 100), 3)\n",
    "    else:\n",
    "        return round(100 / (abs(odds) + 100), 3)"
   ]
  },
  {
   "attachments": {},
   "cell_type": "markdown",
   "metadata": {},
   "source": [
    "Function to calculate EV"
   ]
  },
  {
   "cell_type": "code",
   "execution_count": 430,
   "metadata": {},
   "outputs": [],
   "source": [
    "def expected_value(prob, odds):\n",
    "    return prob * odds - (1 - prob)"
   ]
  },
  {
   "attachments": {},
   "cell_type": "markdown",
   "metadata": {},
   "source": [
    "Player Analysis"
   ]
  },
  {
   "cell_type": "code",
   "execution_count": 431,
   "metadata": {},
   "outputs": [],
   "source": [
    "def player_analysis(player, date, df=df):\n",
    "    player_df = df.loc[(df['player'] == player) & (df['date'] <= date)].sort_values(by=['date'], ascending=True).copy()\n",
    "\n",
    "    # Keep relevant team data (addresses trades)\n",
    "    player_df.loc[:, 'team'] = np.where(player_df['team'] == 1, player_df['home'], player_df['visitor'])\n",
    "    most_recent_team = player_df.loc[player_df['date'] == player_df['date'].max(), 'team'].values[0]\n",
    "    player_df = player_df.loc[player_df['team'] == most_recent_team, :]\n",
    "\n",
    "    # Keep games where player played\n",
    "    player_df = player_df[player_df['pt'] != '0']\n",
    "\n",
    "    # Add row to hole next game predictions\n",
    "    player_df.loc['next_game', :] = None\n",
    "\n",
    "    # Shift opposing defense and league average down a game\n",
    "    player_df.loc[:, 'trb_mean'] = player_df.loc[:, 'trb_mean'].shift(1)\n",
    "    player_df.loc[:, 'trb_lg_avg'] = player_df.loc[:, 'trb_lg_avg'].shift(1)\n",
    "\n",
    "    # Cumulative moving average for rebounds per min\n",
    "    player_df['rb'] = player_df['trb'].shift(1) / player_df['pt'].shift(1)\n",
    "    player_df['rb_sum'] = player_df['rb'].expanding(1).sum().values\n",
    "    player_df['rb_count'] = player_df['rb'].expanding(1).count().values\n",
    "    player_df['rb_mean'] = player_df['rb'].expanding(1).mean().values\n",
    "\n",
    "    return player_df\n"
   ]
  },
  {
   "attachments": {},
   "cell_type": "markdown",
   "metadata": {},
   "source": [
    "Load minute projections"
   ]
  },
  {
   "cell_type": "code",
   "execution_count": 432,
   "metadata": {},
   "outputs": [],
   "source": [
    "def load_minute_projections():\n",
    "    minute_projections = pd.read_csv(\n",
    "        'backend/data/rotowire-nba-projections.csv', \n",
    "        header=1, \n",
    "        usecols=[0, 4], \n",
    "        names=['player', 'min_proj']\n",
    "    )\n",
    "    minute_projections = dict(zip(minute_projections.loc[:, 'player'].str.lower(), minute_projections.loc[:, 'min_proj']))\n",
    "\n",
    "    return minute_projections"
   ]
  },
  {
   "attachments": {},
   "cell_type": "markdown",
   "metadata": {},
   "source": [
    "Apply minute projections and normalize projected rebounds"
   ]
  },
  {
   "cell_type": "code",
   "execution_count": 433,
   "metadata": {},
   "outputs": [],
   "source": [
    "def project_and_normalize(player, player_df):\n",
    "    # Select next game\n",
    "    mu_df = player_df.iloc[-1, :][['rb_mean', 'trb_mean', 'trb_lg_avg']]\n",
    "\n",
    "    # Load minute projections\n",
    "    minute_projections = load_minute_projections()\n",
    "\n",
    "    # Edge cases where there a difference in player names\n",
    "    minutes_players = {\n",
    "        'wendell carter jr.': 'wendell carter', 'jaren jackson jr.': 'jaren jackson', \n",
    "        'michael porter jr.': 'michael porter', 'trey murphy iii': 'trey murphy',\n",
    "    }\n",
    "\n",
    "    # Apply minute projections to season average per min\n",
    "    mu_df['rb_mean'] = mu_df['rb_mean'] * minute_projections[unidecode(minutes_players.get(player, player))]\n",
    "\n",
    "    # Normalize data\n",
    "    normalize = 1 + (mu_df['trb_mean'] - mu_df['trb_lg_avg']) / mu_df['trb_lg_avg']\n",
    "    mu = mu_df['rb_mean'] * normalize\n",
    "\n",
    "    return mu"
   ]
  },
  {
   "attachments": {},
   "cell_type": "markdown",
   "metadata": {},
   "source": [
    "Calculate odds"
   ]
  },
  {
   "cell_type": "code",
   "execution_count": 434,
   "metadata": {},
   "outputs": [],
   "source": [
    "def calculate_expected_value(player, today, type, line, price):\n",
    "\n",
    "    player = unidecode(player.strip().lower())\n",
    "\n",
    "    # Edge cases where there a difference in player names\n",
    "    edge_cases = {\n",
    "        'bojan bogdanovich': 'bojan bogdanovic', 'caldwell pope kentavious': 'kentavious caldwell-pope',\n",
    "        'pj tucker': 'p.j. tucker', 'robert williams iii': 'robert williams',\n",
    "        'wendell carter': 'wendell carter jr.', 'christian james mccollum': 'cj mccollum',\n",
    "        'grant jerami': 'jerami grant', 'huerter kevin': 'kevin huerter', 'p. j. tucker': 'p.j. tucker',\n",
    "        'p.j tucker': 'p.j. tucker'\n",
    "    }\n",
    "    player = edge_cases.get(player, player)\n",
    "\n",
    "    player_df = player_analysis(player, today)\n",
    "    mu = project_and_normalize(player, player_df)\n",
    "\n",
    "    # Poisson distribution probability\n",
    "    under = stats.poisson.cdf(k = line, mu = mu)\n",
    "    over = 1 - under\n",
    "\n",
    "    # Expected value\n",
    "    if type == 'Over':\n",
    "        ev = expected_value(over, convert_odds_to_perc(price))\n",
    "    else:\n",
    "        ev = expected_value(under, convert_odds_to_perc(price))\n",
    "    \n",
    "    return round(ev * 100, 1)\n",
    "\n"
   ]
  },
  {
   "attachments": {},
   "cell_type": "markdown",
   "metadata": {},
   "source": [
    "Load in player prop lines for date"
   ]
  },
  {
   "cell_type": "code",
   "execution_count": 435,
   "metadata": {},
   "outputs": [],
   "source": [
    "next_game_date = date(2023, 2, 24)\n",
    "next_game_str = \"2023-02-23\""
   ]
  },
  {
   "cell_type": "code",
   "execution_count": 436,
   "metadata": {},
   "outputs": [],
   "source": [
    "player_props = pd.read_csv(\"backend/data/odds/player_props/rebounds.csv\")\n",
    "player_props['date'] = pd.to_datetime(player_props.loc[:, 'date'])\n",
    "player_props = player_props.loc[player_props['date'].dt.date == next_game_date]"
   ]
  },
  {
   "attachments": {},
   "cell_type": "markdown",
   "metadata": {},
   "source": [
    "Calculate EV for each player and book"
   ]
  },
  {
   "cell_type": "code",
   "execution_count": 438,
   "metadata": {},
   "outputs": [],
   "source": [
    "input_columns = ['player', 'type', 'line', 'price']\n",
    "player_props['EV'] = player_props.loc[:, input_columns].apply(\n",
    "    lambda row: calculate_expected_value(row.player, next_game_str, row.type, row.line, row.price),\n",
    "    axis=1\n",
    ")"
   ]
  },
  {
   "attachments": {},
   "cell_type": "markdown",
   "metadata": {},
   "source": [
    "Players with +EV"
   ]
  },
  {
   "cell_type": "code",
   "execution_count": 440,
   "metadata": {},
   "outputs": [
    {
     "data": {
      "text/plain": [
       "array(['Aaron Nesmith', 'CJ McCollum', 'Drew Eubanks', 'Fred VanVleet',\n",
       "       'Jerami Grant', 'Joel Embiid', 'Josh Green', 'Kevon Looney',\n",
       "       'Malaki Branham', 'Nikola Jokic', 'Paolo Banchero',\n",
       "       'Pascal Siakam', 'Zach Collins', 'Jakob Poeltl', 'Grant Jerami',\n",
       "       'James Harden', 'Luguentz Dort', 'Shai Gilgeous-Alexander',\n",
       "       'Jalen Duren', 'Jeremy Sochan', 'Brandon Ingram'], dtype=object)"
      ]
     },
     "execution_count": 440,
     "metadata": {},
     "output_type": "execute_result"
    }
   ],
   "source": [
    "player_props.loc[player_props['EV'] > 0, 'player'].unique()"
   ]
  },
  {
   "attachments": {},
   "cell_type": "markdown",
   "metadata": {},
   "source": [
    "Search by player"
   ]
  },
  {
   "cell_type": "code",
   "execution_count": 460,
   "metadata": {},
   "outputs": [
    {
     "data": {
      "text/html": [
       "<div>\n",
       "<style scoped>\n",
       "    .dataframe tbody tr th:only-of-type {\n",
       "        vertical-align: middle;\n",
       "    }\n",
       "\n",
       "    .dataframe tbody tr th {\n",
       "        vertical-align: top;\n",
       "    }\n",
       "\n",
       "    .dataframe thead th {\n",
       "        text-align: right;\n",
       "    }\n",
       "</style>\n",
       "<table border=\"1\" class=\"dataframe\">\n",
       "  <thead>\n",
       "    <tr style=\"text-align: right;\">\n",
       "      <th></th>\n",
       "      <th>date</th>\n",
       "      <th>home</th>\n",
       "      <th>away</th>\n",
       "      <th>player</th>\n",
       "      <th>type</th>\n",
       "      <th>line</th>\n",
       "      <th>price</th>\n",
       "      <th>book</th>\n",
       "      <th>last_updated</th>\n",
       "      <th>EV</th>\n",
       "    </tr>\n",
       "  </thead>\n",
       "  <tbody>\n",
       "    <tr>\n",
       "      <th>8</th>\n",
       "      <td>2023-02-24 00:40:00+00:00</td>\n",
       "      <td>Toronto Raptors</td>\n",
       "      <td>New Orleans Pelicans</td>\n",
       "      <td>Brandon Ingram</td>\n",
       "      <td>Over</td>\n",
       "      <td>4.5</td>\n",
       "      <td>-160</td>\n",
       "      <td>BetMGM</td>\n",
       "      <td>2023-02-23T00:41:10Z</td>\n",
       "      <td>-0.1</td>\n",
       "    </tr>\n",
       "    <tr>\n",
       "      <th>9</th>\n",
       "      <td>2023-02-24 00:40:00+00:00</td>\n",
       "      <td>Toronto Raptors</td>\n",
       "      <td>New Orleans Pelicans</td>\n",
       "      <td>Brandon Ingram</td>\n",
       "      <td>Under</td>\n",
       "      <td>4.5</td>\n",
       "      <td>120</td>\n",
       "      <td>BetMGM</td>\n",
       "      <td>2023-02-23T00:41:10Z</td>\n",
       "      <td>-44.5</td>\n",
       "    </tr>\n",
       "    <tr>\n",
       "      <th>166</th>\n",
       "      <td>2023-02-24 00:40:00+00:00</td>\n",
       "      <td>Toronto Raptors</td>\n",
       "      <td>New Orleans Pelicans</td>\n",
       "      <td>Brandon Ingram</td>\n",
       "      <td>Over</td>\n",
       "      <td>4.5</td>\n",
       "      <td>-156</td>\n",
       "      <td>BetOnline.ag</td>\n",
       "      <td>2023-02-23T00:40:06Z</td>\n",
       "      <td>-0.4</td>\n",
       "    </tr>\n",
       "    <tr>\n",
       "      <th>167</th>\n",
       "      <td>2023-02-24 00:40:00+00:00</td>\n",
       "      <td>Toronto Raptors</td>\n",
       "      <td>New Orleans Pelicans</td>\n",
       "      <td>Brandon Ingram</td>\n",
       "      <td>Under</td>\n",
       "      <td>4.5</td>\n",
       "      <td>121</td>\n",
       "      <td>BetOnline.ag</td>\n",
       "      <td>2023-02-23T00:40:06Z</td>\n",
       "      <td>-44.6</td>\n",
       "    </tr>\n",
       "    <tr>\n",
       "      <th>302</th>\n",
       "      <td>2023-02-24 00:40:00+00:00</td>\n",
       "      <td>Toronto Raptors</td>\n",
       "      <td>New Orleans Pelicans</td>\n",
       "      <td>Brandon Ingram</td>\n",
       "      <td>Over</td>\n",
       "      <td>5.5</td>\n",
       "      <td>120</td>\n",
       "      <td>Bovada</td>\n",
       "      <td>2023-02-23T00:39:23Z</td>\n",
       "      <td>-35.2</td>\n",
       "    </tr>\n",
       "    <tr>\n",
       "      <th>303</th>\n",
       "      <td>2023-02-24 00:40:00+00:00</td>\n",
       "      <td>Toronto Raptors</td>\n",
       "      <td>New Orleans Pelicans</td>\n",
       "      <td>Brandon Ingram</td>\n",
       "      <td>Under</td>\n",
       "      <td>5.5</td>\n",
       "      <td>-160</td>\n",
       "      <td>Bovada</td>\n",
       "      <td>2023-02-23T00:39:23Z</td>\n",
       "      <td>-10.4</td>\n",
       "    </tr>\n",
       "    <tr>\n",
       "      <th>422</th>\n",
       "      <td>2023-02-24 00:40:00+00:00</td>\n",
       "      <td>Toronto Raptors</td>\n",
       "      <td>New Orleans Pelicans</td>\n",
       "      <td>Brandon Ingram</td>\n",
       "      <td>Over</td>\n",
       "      <td>4.5</td>\n",
       "      <td>-155</td>\n",
       "      <td>DraftKings</td>\n",
       "      <td>2023-02-23T00:41:27Z</td>\n",
       "      <td>-0.5</td>\n",
       "    </tr>\n",
       "    <tr>\n",
       "      <th>423</th>\n",
       "      <td>2023-02-24 00:40:00+00:00</td>\n",
       "      <td>Toronto Raptors</td>\n",
       "      <td>New Orleans Pelicans</td>\n",
       "      <td>Brandon Ingram</td>\n",
       "      <td>Under</td>\n",
       "      <td>4.5</td>\n",
       "      <td>125</td>\n",
       "      <td>DraftKings</td>\n",
       "      <td>2023-02-23T00:41:27Z</td>\n",
       "      <td>-44.9</td>\n",
       "    </tr>\n",
       "    <tr>\n",
       "      <th>604</th>\n",
       "      <td>2023-02-24 00:40:00+00:00</td>\n",
       "      <td>Toronto Raptors</td>\n",
       "      <td>New Orleans Pelicans</td>\n",
       "      <td>Brandon Ingram</td>\n",
       "      <td>Over</td>\n",
       "      <td>5.5</td>\n",
       "      <td>122</td>\n",
       "      <td>FanDuel</td>\n",
       "      <td>2023-02-23T00:38:31Z</td>\n",
       "      <td>-35.4</td>\n",
       "    </tr>\n",
       "    <tr>\n",
       "      <th>605</th>\n",
       "      <td>2023-02-24 00:40:00+00:00</td>\n",
       "      <td>Toronto Raptors</td>\n",
       "      <td>New Orleans Pelicans</td>\n",
       "      <td>Brandon Ingram</td>\n",
       "      <td>Under</td>\n",
       "      <td>5.5</td>\n",
       "      <td>-154</td>\n",
       "      <td>FanDuel</td>\n",
       "      <td>2023-02-23T00:38:31Z</td>\n",
       "      <td>-10.9</td>\n",
       "    </tr>\n",
       "    <tr>\n",
       "      <th>794</th>\n",
       "      <td>2023-02-24 00:40:00+00:00</td>\n",
       "      <td>Toronto Raptors</td>\n",
       "      <td>New Orleans Pelicans</td>\n",
       "      <td>Brandon Ingram</td>\n",
       "      <td>Over</td>\n",
       "      <td>4.5</td>\n",
       "      <td>-166</td>\n",
       "      <td>William Hill (US)</td>\n",
       "      <td>2023-02-23T00:40:33Z</td>\n",
       "      <td>0.5</td>\n",
       "    </tr>\n",
       "    <tr>\n",
       "      <th>795</th>\n",
       "      <td>2023-02-24 00:40:00+00:00</td>\n",
       "      <td>Toronto Raptors</td>\n",
       "      <td>New Orleans Pelicans</td>\n",
       "      <td>Brandon Ingram</td>\n",
       "      <td>Under</td>\n",
       "      <td>4.5</td>\n",
       "      <td>120</td>\n",
       "      <td>William Hill (US)</td>\n",
       "      <td>2023-02-23T00:40:33Z</td>\n",
       "      <td>-44.5</td>\n",
       "    </tr>\n",
       "  </tbody>\n",
       "</table>\n",
       "</div>"
      ],
      "text/plain": [
       "                         date             home                  away  \\\n",
       "8   2023-02-24 00:40:00+00:00  Toronto Raptors  New Orleans Pelicans   \n",
       "9   2023-02-24 00:40:00+00:00  Toronto Raptors  New Orleans Pelicans   \n",
       "166 2023-02-24 00:40:00+00:00  Toronto Raptors  New Orleans Pelicans   \n",
       "167 2023-02-24 00:40:00+00:00  Toronto Raptors  New Orleans Pelicans   \n",
       "302 2023-02-24 00:40:00+00:00  Toronto Raptors  New Orleans Pelicans   \n",
       "303 2023-02-24 00:40:00+00:00  Toronto Raptors  New Orleans Pelicans   \n",
       "422 2023-02-24 00:40:00+00:00  Toronto Raptors  New Orleans Pelicans   \n",
       "423 2023-02-24 00:40:00+00:00  Toronto Raptors  New Orleans Pelicans   \n",
       "604 2023-02-24 00:40:00+00:00  Toronto Raptors  New Orleans Pelicans   \n",
       "605 2023-02-24 00:40:00+00:00  Toronto Raptors  New Orleans Pelicans   \n",
       "794 2023-02-24 00:40:00+00:00  Toronto Raptors  New Orleans Pelicans   \n",
       "795 2023-02-24 00:40:00+00:00  Toronto Raptors  New Orleans Pelicans   \n",
       "\n",
       "             player   type  line  price               book  \\\n",
       "8    Brandon Ingram   Over   4.5   -160             BetMGM   \n",
       "9    Brandon Ingram  Under   4.5    120             BetMGM   \n",
       "166  Brandon Ingram   Over   4.5   -156       BetOnline.ag   \n",
       "167  Brandon Ingram  Under   4.5    121       BetOnline.ag   \n",
       "302  Brandon Ingram   Over   5.5    120             Bovada   \n",
       "303  Brandon Ingram  Under   5.5   -160             Bovada   \n",
       "422  Brandon Ingram   Over   4.5   -155         DraftKings   \n",
       "423  Brandon Ingram  Under   4.5    125         DraftKings   \n",
       "604  Brandon Ingram   Over   5.5    122            FanDuel   \n",
       "605  Brandon Ingram  Under   5.5   -154            FanDuel   \n",
       "794  Brandon Ingram   Over   4.5   -166  William Hill (US)   \n",
       "795  Brandon Ingram  Under   4.5    120  William Hill (US)   \n",
       "\n",
       "             last_updated    EV  \n",
       "8    2023-02-23T00:41:10Z  -0.1  \n",
       "9    2023-02-23T00:41:10Z -44.5  \n",
       "166  2023-02-23T00:40:06Z  -0.4  \n",
       "167  2023-02-23T00:40:06Z -44.6  \n",
       "302  2023-02-23T00:39:23Z -35.2  \n",
       "303  2023-02-23T00:39:23Z -10.4  \n",
       "422  2023-02-23T00:41:27Z  -0.5  \n",
       "423  2023-02-23T00:41:27Z -44.9  \n",
       "604  2023-02-23T00:38:31Z -35.4  \n",
       "605  2023-02-23T00:38:31Z -10.9  \n",
       "794  2023-02-23T00:40:33Z   0.5  \n",
       "795  2023-02-23T00:40:33Z -44.5  "
      ]
     },
     "execution_count": 460,
     "metadata": {},
     "output_type": "execute_result"
    }
   ],
   "source": [
    "player = \"Brandon Ingram\"\n",
    "player_props.loc[player_props['player'] == player]"
   ]
  },
  {
   "cell_type": "code",
   "execution_count": null,
   "metadata": {},
   "outputs": [],
   "source": []
  }
 ],
 "metadata": {
  "kernelspec": {
   "display_name": "NBA",
   "language": "python",
   "name": "python3"
  },
  "language_info": {
   "codemirror_mode": {
    "name": "ipython",
    "version": 3
   },
   "file_extension": ".py",
   "mimetype": "text/x-python",
   "name": "python",
   "nbconvert_exporter": "python",
   "pygments_lexer": "ipython3",
   "version": "3.10.9"
  },
  "orig_nbformat": 4,
  "vscode": {
   "interpreter": {
    "hash": "64e3e1d0b2ffc83558aae38b8f31ea3243536533886431b3bf1c9fd07010547d"
   }
  }
 },
 "nbformat": 4,
 "nbformat_minor": 2
}
