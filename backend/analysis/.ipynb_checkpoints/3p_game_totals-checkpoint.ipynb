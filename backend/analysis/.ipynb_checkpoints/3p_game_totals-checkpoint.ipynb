{
 "cells": [
  {
   "cell_type": "markdown",
   "id": "8a50406c",
   "metadata": {},
   "source": [
    "# 3 Pointers Made against shooting.xlsx"
   ]
  },
  {
   "cell_type": "markdown",
   "id": "0f38ab14",
   "metadata": {},
   "source": [
    "### Import packages"
   ]
  },
  {
   "cell_type": "code",
   "execution_count": null,
   "id": "ee01c519",
   "metadata": {},
   "outputs": [],
   "source": [
    "import os\n",
    "import numpy as np\n",
    "import pandas as pd\n",
    "import seaborn as sns\n",
    "import matplotlib.pyplot as plt\n",
    "import matplotlib.ticker as ticker\n",
    "%matplotlib inline\n",
    "from scipy.stats import pearsonr\n",
    "import itertools\n",
    "\n",
    "pd.set_option(\"display.max_columns\", None)"
   ]
  },
  {
   "cell_type": "markdown",
   "id": "0a0fcb87",
   "metadata": {},
   "source": [
    "### Set working directory"
   ]
  },
  {
   "cell_type": "code",
   "execution_count": null,
   "id": "867cc658",
   "metadata": {},
   "outputs": [],
   "source": [
    "# Print working directory\n",
    "cwd = os.getcwd()\n",
    "print(f'Directory: {cwd}')\n",
    "\n",
    "# Change working directory\n",
    "os.chdir('/Users/tyler/OneDrive/Documents/Python/NBA')\n",
    "\n",
    "# Print working directory\n",
    "cwd = os.getcwd()\n",
    "print(f'Directory: {cwd}')"
   ]
  },
  {
   "cell_type": "markdown",
   "id": "6b03f993",
   "metadata": {},
   "source": [
    "## Exploratory Data Analysis"
   ]
  },
  {
   "cell_type": "markdown",
   "id": "14d3bf6a",
   "metadata": {},
   "source": [
    "### Import data"
   ]
  },
  {
   "cell_type": "code",
   "execution_count": null,
   "id": "b4d38bae",
   "metadata": {},
   "outputs": [],
   "source": [
    "df = pd.read_csv('backend/data/totals/game_totals.csv').drop(['Unnamed: 0'], axis=1)"
   ]
  },
  {
   "cell_type": "markdown",
   "id": "90cb91a5",
   "metadata": {},
   "source": [
    "### Basic exploration"
   ]
  },
  {
   "cell_type": "code",
   "execution_count": null,
   "id": "6ea56a4f",
   "metadata": {},
   "outputs": [],
   "source": [
    "df.info()"
   ]
  },
  {
   "cell_type": "code",
   "execution_count": null,
   "id": "246f881c",
   "metadata": {
    "scrolled": false
   },
   "outputs": [],
   "source": [
    "df.sample(5)"
   ]
  },
  {
   "cell_type": "code",
   "execution_count": null,
   "id": "8c5ab601",
   "metadata": {
    "scrolled": false
   },
   "outputs": [],
   "source": [
    "# Convert 'date' column to Date object\n",
    "df['date'] = pd.to_datetime(df['date'])\n",
    "\n",
    "# Conver 'team' column to Team Name\n",
    "df['team'] = np.where(df['team'], df['home'], df['visitor'])\n",
    "\n",
    "df.info()"
   ]
  },
  {
   "cell_type": "markdown",
   "id": "86e13608",
   "metadata": {},
   "source": [
    "## Dataframe of team's latest performance"
   ]
  },
  {
   "cell_type": "code",
   "execution_count": null,
   "id": "f4d73990",
   "metadata": {},
   "outputs": [],
   "source": [
    "# Return lastest date team played\n",
    "def last_date(team, date):\n",
    "    schedule = df[df['team'] == team].sort_values(by='date').reset_index()\n",
    "    date_index = schedule[schedule['date'] == date].index[0]\n",
    "    if date_index - 1 < 0:\n",
    "        return None\n",
    "    else:\n",
    "        return schedule.iloc[date_index - 1]['date']\n",
    "\n",
    "df['last_date'] = df.apply(lambda x: last_date(x.team, x.date), axis=1)\n",
    "\n",
    "# X and y column names to merge on\n",
    "y_cols = ['date', 'visitor', 'home', 'team', '3p', 'last_date']\n",
    "x_cols = ['date', 'team', 'fg', 'fga', 'fg_perc', '2p', '2pa', '2p_perc',\n",
    "          '3p', '3pa', '3p_perc', 'efg_perc', 'ast', 'ast_perc']\n",
    "\n",
    "y = df[y_cols]\n",
    "X = df[x_cols]\n",
    "\n",
    "# Dataframe of target (3pt made by each team) and of variables (last games stats for each team)\n",
    "last_game = pd.merge(y, X, left_on=['last_date', 'team'], right_on=['date', 'team'], how='left', suffixes=('_y', ''))\n",
    "last_game = last_game.drop(['last_date', 'date'], axis=1).dropna(axis=0)\n",
    "\n",
    "# Totals for target and variables\n",
    "last_game = last_game.groupby(['date_y', 'visitor', 'home']).aggregate(\n",
    "    {'3p_y': 'sum', 'fg': 'sum', 'fga': 'sum', 'fg_perc': 'mean', '2p': 'sum', '2pa': 'sum', '2p_perc': 'mean',\n",
    "     '3p': 'sum', '3pa': 'sum', '3p_perc': 'mean', 'efg_perc': 'mean', 'ast': 'sum', 'ast_perc': 'mean'})"
   ]
  },
  {
   "cell_type": "markdown",
   "id": "0857b857",
   "metadata": {},
   "source": [
    "## Dataframe of team's last 5 performances"
   ]
  },
  {
   "cell_type": "code",
   "execution_count": null,
   "id": "78595d7b",
   "metadata": {},
   "outputs": [],
   "source": [
    "# Return five lastest dates team played\n",
    "def last_5_date(team, date):\n",
    "    schedule = df[df['team'] == team].sort_values(by='date').reset_index()\n",
    "    date_index = schedule[schedule['date'] == date].index[0]\n",
    "    if date_index - 5 < 0:\n",
    "        return None, None, None, None, None\n",
    "    else:\n",
    "        date_1 = schedule.iloc[date_index - 1]['date']\n",
    "        date_2 = schedule.iloc[date_index - 2]['date']\n",
    "        date_3 = schedule.iloc[date_index - 3]['date']\n",
    "        date_4 = schedule.iloc[date_index - 4]['date']\n",
    "        date_5 = schedule.iloc[date_index - 5]['date']\n",
    "        return date_1, date_2, date_3, date_4, date_5\n",
    "\n",
    "df['dates'] = df.apply(lambda x: last_5_date(x.team, x.date), axis=1)\n",
    "df['date_1'] = df['dates'].apply(lambda x: x[0])\n",
    "df['date_2'] = df['dates'].apply(lambda x: x[1])\n",
    "df['date_3'] = df['dates'].apply(lambda x: x[2])\n",
    "df['date_4'] = df['dates'].apply(lambda x: x[3])\n",
    "df['date_5'] = df['dates'].apply(lambda x: x[4])\n",
    "\n",
    "# X and y column names to merge on\n",
    "y_cols = df.columns\n",
    "x_cols = ['date', 'team', 'fg', 'fga', 'fg_perc', '2p', '2pa', '2p_perc',\n",
    "          '3p', '3pa', '3p_perc', 'efg_perc', 'ast', 'ast_perc']\n",
    "\n",
    "last_5_games = df[y_cols]\n",
    "last_5_games['target'] = last_5_games['3p']\n",
    "X = df[x_cols]\n",
    "\n",
    "# Dataframe of target (3pt made by each team) and of variables (last 5 games stats for each team)\n",
    "weeks = ['_1', '_2', '_3', '_4', '_5']\n",
    "for week in weeks:\n",
    "    last_5_games = pd.merge(last_5_games, X, left_on=['date' + week, 'team'], right_on=['date', 'team'], how='left', suffixes=('', week))\n",
    "\n",
    "drop_cols = ['quarter', 'fg', 'fga', 'fg_perc', '2p', '2pa', '2p_perc', '3pa', '3p', '3p_perc', 'efg_perc', 'ast', 'ast_perc', 'dates', 'date_1', 'date_2', 'date_3', 'date_4', 'date_5']\n",
    "last_5_games = last_5_games.drop(drop_cols, axis=1).dropna(axis=0)\n",
    "\n",
    "# Take average of last 5 games\n",
    "stats = ['fg', 'fga', 'fg_perc', '2p', '2pa', '2p_perc', '3p', '3pa', '3p_perc', 'efg_perc', 'ast', 'ast_perc']\n",
    "for stat in stats:\n",
    "    last_5_games[stat] = 0\n",
    "    for week in weeks:\n",
    "        last_5_games[stat] = last_5_games[stat] + last_5_games[stat + week]\n",
    "    \n",
    "    last_5_games[stat] = last_5_games[stat] / len(weeks)\n",
    "\n",
    "drop_cols = [tup[0] + tup[1] for tup in list(itertools.product(stats, weeks))]\n",
    "last_5_games = last_5_games.drop(drop_cols, axis=1)\n",
    "\n",
    "# Totals for target and variables\n",
    "last_5_games = last_5_games.groupby(['date', 'visitor', 'home']).aggregate(\n",
    "    {'target': 'sum', 'fg': 'sum', 'fga': 'sum', 'fg_perc': 'mean', '2p': 'sum', '2pa': 'sum', '2p_perc': 'mean',\n",
    "     '3p': 'sum', '3pa': 'sum', '3p_perc': 'mean', 'efg_perc': 'mean', 'ast': 'sum', 'ast_perc': 'mean'})"
   ]
  },
  {
   "cell_type": "markdown",
   "id": "3bbf215a",
   "metadata": {},
   "source": [
    "## Dataframe of team's last 10 performances"
   ]
  },
  {
   "cell_type": "code",
   "execution_count": null,
   "id": "b687c29d",
   "metadata": {},
   "outputs": [],
   "source": [
    "# Return ten lastest dates team played\n",
    "def last_10_date(team, date):\n",
    "    schedule = df[df['team'] == team].sort_values(by='date').reset_index()\n",
    "    date_index = schedule[schedule['date'] == date].index[0]\n",
    "    if date_index - 10 < 0:\n",
    "        return None, None, None, None, None, None, None, None, None, None\n",
    "    else:\n",
    "        date_1, date_2 = schedule.iloc[date_index - 1]['date'], schedule.iloc[date_index - 2]['date']\n",
    "        date_3, date_4 = schedule.iloc[date_index - 3]['date'], schedule.iloc[date_index - 4]['date']\n",
    "        date_5, date_6 = schedule.iloc[date_index - 5]['date'], schedule.iloc[date_index - 6]['date']\n",
    "        date_7, date_8 = schedule.iloc[date_index - 7]['date'], schedule.iloc[date_index - 8]['date']\n",
    "        date_9, date_10 = schedule.iloc[date_index - 9]['date'], schedule.iloc[date_index - 10]['date']\n",
    "        return date_1, date_2, date_3, date_4, date_5, date_6, date_7, date_8, date_9, date_10\n",
    "\n",
    "df['dates'] = df.apply(lambda x: last_10_date(x.team, x.date), axis=1)\n",
    "df['date_1'], df['date_2'] = df['dates'].apply(lambda x: x[0]), df['dates'].apply(lambda x: x[1])\n",
    "df['date_3'], df['date_4'] = df['dates'].apply(lambda x: x[2]), df['dates'].apply(lambda x: x[3])\n",
    "df['date_5'], df['date_6'] = df['dates'].apply(lambda x: x[4]), df['dates'].apply(lambda x: x[5])\n",
    "df['date_7'], df['date_8'] = df['dates'].apply(lambda x: x[6]), df['dates'].apply(lambda x: x[7])\n",
    "df['date_9'], df['date_10'] = df['dates'].apply(lambda x: x[8]), df['dates'].apply(lambda x: x[9])\n",
    "\n",
    "# X and y column names to merge on\n",
    "y_cols = df.columns\n",
    "x_cols = ['date', 'team', 'fg', 'fga', 'fg_perc', '2p', '2pa', '2p_perc',\n",
    "          '3p', '3pa', '3p_perc', 'efg_perc', 'ast', 'ast_perc']\n",
    "\n",
    "last_10_games = df[y_cols]\n",
    "last_10_games['target'] = last_10_games['3p']\n",
    "X = df[x_cols]\n",
    "\n",
    "# Dataframe of target (3pt made by each team) and of variables (last 5 games stats for each team)\n",
    "weeks = ['_1', '_2', '_3', '_4', '_5', '_6', '_7', '_8', '_9', '_10']\n",
    "for week in weeks:\n",
    "    last_10_games = pd.merge(last_10_games, X, left_on=['date' + week, 'team'], right_on=['date', 'team'], how='left', suffixes=('', week))\n",
    "\n",
    "drop_cols = ['quarter', 'fg', 'fga', 'fg_perc', '2p', '2pa', '2p_perc', '3pa', '3p', '3p_perc', 'efg_perc', 'ast', 'ast_perc', \n",
    "             'dates', 'date_1', 'date_2', 'date_3', 'date_4', 'date_5', 'date_6', 'date_7', 'date_8', 'date_9', 'date_10']\n",
    "last_10_games = last_10_games.drop(drop_cols, axis=1).dropna(axis=0)\n",
    "\n",
    "# Take average of last 10 games\n",
    "stats = ['fg', 'fga', 'fg_perc', '2p', '2pa', '2p_perc', '3p', '3pa', '3p_perc', 'efg_perc', 'ast', 'ast_perc']\n",
    "for stat in stats:\n",
    "    last_10_games[stat] = 0\n",
    "    for week in weeks:\n",
    "        last_10_games[stat] = last_10_games[stat] + last_10_games[stat + week]\n",
    "    \n",
    "    last_10_games[stat] = last_10_games[stat] / len(weeks)\n",
    "\n",
    "drop_cols = [tup[0] + tup[1] for tup in list(itertools.product(stats, weeks))]\n",
    "last_10_games = last_10_games.drop(drop_cols, axis=1)\n",
    "\n",
    "# Totals for target and variables\n",
    "last_10_games = last_10_games.groupby(['date', 'visitor', 'home']).aggregate(\n",
    "    {'target': 'sum', 'fg': 'sum', 'fga': 'sum', 'fg_perc': 'mean', '2p': 'sum', '2pa': 'sum', '2p_perc': 'mean',\n",
    "     '3p': 'sum', '3pa': 'sum', '3p_perc': 'mean', 'efg_perc': 'mean', 'ast': 'sum', 'ast_perc': 'mean'})"
   ]
  },
  {
   "cell_type": "markdown",
   "id": "e605fdbd",
   "metadata": {},
   "source": [
    "## Dataframe of team's last 15 performances"
   ]
  },
  {
   "cell_type": "code",
   "execution_count": null,
   "id": "8cc5d0a4",
   "metadata": {},
   "outputs": [],
   "source": [
    "# Return ten lastest dates team played\n",
    "def last_15_date(team, date):\n",
    "    schedule = df[df['team'] == team].sort_values(by='date').reset_index()\n",
    "    date_index = schedule[schedule['date'] == date].index[0]\n",
    "    if date_index - 15 < 0:\n",
    "        return None, None, None, None, None, None, None, None, None, None, None, None, None, None, None\n",
    "    else:\n",
    "        date_1, date_2 = schedule.iloc[date_index - 1]['date'], schedule.iloc[date_index - 2]['date']\n",
    "        date_3, date_4 = schedule.iloc[date_index - 3]['date'], schedule.iloc[date_index - 4]['date']\n",
    "        date_5, date_6 = schedule.iloc[date_index - 5]['date'], schedule.iloc[date_index - 6]['date']\n",
    "        date_7, date_8 = schedule.iloc[date_index - 7]['date'], schedule.iloc[date_index - 8]['date']\n",
    "        date_9, date_10 = schedule.iloc[date_index - 9]['date'], schedule.iloc[date_index - 10]['date']\n",
    "        date_11, date_12 = schedule.iloc[date_index - 11]['date'], schedule.iloc[date_index - 12]['date']\n",
    "        date_13, date_14 = schedule.iloc[date_index - 13]['date'], schedule.iloc[date_index - 14]['date']\n",
    "        date_15 = schedule.iloc[date_index - 15]['date']\n",
    "        return date_1, date_2, date_3, date_4, date_5, date_6, date_7, date_8, date_9, date_10, date_11, date_12, date_13, date_14, date_15\n",
    "\n",
    "df['dates'] = df.apply(lambda x: last_15_date(x.team, x.date), axis=1)\n",
    "df['date_1'], df['date_2'] = df['dates'].apply(lambda x: x[0]), df['dates'].apply(lambda x: x[1])\n",
    "df['date_3'], df['date_4'] = df['dates'].apply(lambda x: x[2]), df['dates'].apply(lambda x: x[3])\n",
    "df['date_5'], df['date_6'] = df['dates'].apply(lambda x: x[4]), df['dates'].apply(lambda x: x[5])\n",
    "df['date_7'], df['date_8'] = df['dates'].apply(lambda x: x[6]), df['dates'].apply(lambda x: x[7])\n",
    "df['date_9'], df['date_10'] = df['dates'].apply(lambda x: x[8]), df['dates'].apply(lambda x: x[9])\n",
    "df['date_11'], df['date_12'] = df['dates'].apply(lambda x: x[10]), df['dates'].apply(lambda x: x[11])\n",
    "df['date_13'], df['date_14'] = df['dates'].apply(lambda x: x[12]), df['dates'].apply(lambda x: x[13])\n",
    "df['date_15'] = df['dates'].apply(lambda x: x[14])"
   ]
  },
  {
   "cell_type": "markdown",
   "id": "aa8cf685",
   "metadata": {},
   "source": [
    "### Unweighted"
   ]
  },
  {
   "cell_type": "code",
   "execution_count": null,
   "id": "9054a4aa",
   "metadata": {},
   "outputs": [],
   "source": [
    "# X and y column names to merge on\n",
    "y_cols = df.columns\n",
    "x_cols = ['date', 'team', 'fg', 'fga', 'fg_perc', '2p', '2pa', '2p_perc',\n",
    "          '3p', '3pa', '3p_perc', 'efg_perc', 'ast', 'ast_perc']\n",
    "\n",
    "last_15_games_unweighted = df[y_cols]\n",
    "last_15_games_unweighted['target'] = last_15_games_unweighted['3p']\n",
    "X = df[x_cols]\n",
    "\n",
    "# Dataframe of target (3pt made by each team) and of variables (last 5 games stats for each team)\n",
    "weeks = ['_1', '_2', '_3', '_4', '_5', '_6', '_7', '_8', '_9', '_10', '_11', '_12', '_13', '_14', '_15']\n",
    "for week in weeks:\n",
    "    last_15_games_unweighted = pd.merge(last_15_games_unweighted, X, left_on=['date' + week, 'team'], right_on=['date', 'team'], how='left', suffixes=('', week))\n",
    "\n",
    "drop_cols = ['quarter', 'fg', 'fga', 'fg_perc', '2p', '2pa', '2p_perc', '3pa', '3p', '3p_perc', 'efg_perc', 'ast', 'ast_perc', \n",
    "             'dates', 'date_1', 'date_2', 'date_3', 'date_4', 'date_5', 'date_6', 'date_7', 'date_8', 'date_9', 'date_10', \n",
    "             'date_11', 'date_12', 'date_13', 'date_14', 'date_15']\n",
    "last_15_games_unweighted = last_15_games_unweighted.drop(drop_cols, axis=1).dropna(axis=0)\n",
    "\n",
    "# Take average of last 10 games\n",
    "stats = ['fg', 'fga', 'fg_perc', '2p', '2pa', '2p_perc', '3p', '3pa', '3p_perc', 'efg_perc', 'ast', 'ast_perc']\n",
    "for stat in stats:\n",
    "    last_15_games_unweighted[stat] = 0\n",
    "    for week in weeks:\n",
    "        last_15_games_unweighted[stat] = last_15_games_unweighted[stat] + last_15_games_unweighted[stat + week]\n",
    "    \n",
    "    last_15_games_unweighted[stat] = last_15_games_unweighted[stat] / len(weeks)\n",
    "\n",
    "drop_cols = [tup[0] + tup[1] for tup in list(itertools.product(stats, weeks))]\n",
    "last_15_games_unweighted = last_15_games_unweighted.drop(drop_cols, axis=1)\n",
    "\n",
    "# Totals for target and variables\n",
    "last_15_games_unweighted = last_15_games_unweighted.groupby(['date', 'visitor', 'home']).aggregate(\n",
    "    {'target': 'sum', 'fg': 'sum', 'fga': 'sum', 'fg_perc': 'mean', '2p': 'sum', '2pa': 'sum', '2p_perc': 'mean',\n",
    "     '3p': 'sum', '3pa': 'sum', '3p_perc': 'mean', 'efg_perc': 'mean', 'ast': 'sum', 'ast_perc': 'mean'})"
   ]
  },
  {
   "cell_type": "markdown",
   "id": "841b4400",
   "metadata": {},
   "source": [
    "### Weighted"
   ]
  },
  {
   "cell_type": "code",
   "execution_count": null,
   "id": "08a62934",
   "metadata": {},
   "outputs": [],
   "source": [
    "# X and y column names to merge on\n",
    "y_cols = df.columns\n",
    "x_cols = ['date', 'team', 'fg', 'fga', 'fg_perc', '2p', '2pa', '2p_perc',\n",
    "          '3p', '3pa', '3p_perc', 'efg_perc', 'ast', 'ast_perc']\n",
    "\n",
    "last_15_games_weighted = df[y_cols]\n",
    "last_15_games_weighted['target'] = last_15_games_weighted['3p']\n",
    "X = df[x_cols]\n",
    "\n",
    "# Dataframe of target (3pt made by each team) and of variables (last 5 games stats for each team)\n",
    "weeks = ['_1', '_2', '_3', '_4', '_5', '_6', '_7', '_8', '_9', '_10', '_11', '_12', '_13', '_14', '_15']\n",
    "for week in weeks:\n",
    "    last_15_games_weighted = pd.merge(last_15_games_weighted, X, left_on=['date' + week, 'team'], right_on=['date', 'team'], how='left', suffixes=('', week))\n",
    "\n",
    "drop_cols = ['quarter', 'fg', 'fga', 'fg_perc', '2p', '2pa', '2p_perc', '3pa', '3p', '3p_perc', 'efg_perc', 'ast', 'ast_perc', \n",
    "             'dates', 'date_1', 'date_2', 'date_3', 'date_4', 'date_5', 'date_6', 'date_7', 'date_8', 'date_9', 'date_10', \n",
    "             'date_11', 'date_12', 'date_13', 'date_14', 'date_15']\n",
    "last_15_games_weighted = last_15_games_weighted.drop(drop_cols, axis=1).dropna(axis=0)\n",
    "\n",
    "# Take average of last 10 games\n",
    "stats = ['fg', 'fga', 'fg_perc', '2p', '2pa', '2p_perc', '3p', '3pa', '3p_perc', 'efg_perc', 'ast', 'ast_perc']\n",
    "multiples = {0: 1, 1: 2, 2: 3}\n",
    "for stat in stats:\n",
    "    last_15_games_weighted[stat] = 0\n",
    "    for week in weeks:\n",
    "        multiplier = multiples[(int(week.strip('_')) - 1) // 5]\n",
    "        last_15_games_weighted[stat] = last_15_games_weighted[stat] + (last_15_games_weighted[stat + week] * multiplier)\n",
    "    \n",
    "    last_15_games_weighted[stat] = last_15_games_weighted[stat] / len(weeks)\n",
    "\n",
    "drop_cols = [tup[0] + tup[1] for tup in list(itertools.product(stats, weeks))]\n",
    "last_15_games_weighted = last_15_games_weighted.drop(drop_cols, axis=1)\n",
    "\n",
    "# Totals for target and variables\n",
    "last_15_games_weighted = last_15_games_weighted.groupby(['date', 'visitor', 'home']).aggregate(\n",
    "    {'target': 'sum', 'fg': 'sum', 'fga': 'sum', 'fg_perc': 'mean', '2p': 'sum', '2pa': 'sum', '2p_perc': 'mean',\n",
    "     '3p': 'sum', '3pa': 'sum', '3p_perc': 'mean', 'efg_perc': 'mean', 'ast': 'sum', 'ast_perc': 'mean'})"
   ]
  },
  {
   "cell_type": "markdown",
   "id": "006a5d49",
   "metadata": {},
   "source": [
    "## Correlations of performances (last 1, last 5, last 10)"
   ]
  },
  {
   "cell_type": "code",
   "execution_count": null,
   "id": "cee58307",
   "metadata": {},
   "outputs": [],
   "source": [
    "corr_df = pd.DataFrame()\n",
    "\n",
    "# Correlations for last 15 game stats vs 3pt made (unweighted)\n",
    "for col in last_15_games_weighted:\n",
    "    corr_p = pearsonr(last_15_games_weighted['target'], last_15_games_weighted[col])\n",
    "    row = {'last': '15_weighted', 'stat': col, 'corr': round(corr_p[0], 2), 'p-value': round(corr_p[1], 2)}\n",
    "    corr_df = corr_df.append(row, ignore_index=True)\n",
    "\n",
    "# Correlations for last 15 game stats vs 3pt made (unweighted)\n",
    "for col in last_15_games_unweighted:\n",
    "    corr_p = pearsonr(last_15_games_unweighted['target'], last_15_games_unweighted[col])\n",
    "    row = {'last': '15_unweighted', 'stat': col, 'corr': round(corr_p[0], 2), 'p-value': round(corr_p[1], 2)}\n",
    "    corr_df = corr_df.append(row, ignore_index=True)\n",
    "\n",
    "# Correlations for last 10 game stats vs 3pt made \n",
    "for col in last_10_games:\n",
    "    corr_p = pearsonr(last_10_games['target'], last_10_games[col])\n",
    "    row = {'last': 10, 'stat': col, 'corr': round(corr_p[0], 2), 'p-value': round(corr_p[1], 2)}\n",
    "    corr_df = corr_df.append(row, ignore_index=True)\n",
    "    \n",
    "# Correlations for last 10 game stats vs 3pt made \n",
    "for col in last_5_games:\n",
    "    corr_p = pearsonr(last_5_games['target'], last_5_games[col])\n",
    "    row = {'last': 5, 'stat': col, 'corr': round(corr_p[0], 2), 'p-value': round(corr_p[1], 2)}\n",
    "    corr_df = corr_df.append(row, ignore_index=True)\n",
    "    \n",
    "# Correlations for last game stats vs 3pt made \n",
    "for col in last_game:\n",
    "    corr_p = pearsonr(last_game['3p_y'], last_game[col])\n",
    "    row = {'last': 1, 'stat': col, 'corr': round(corr_p[0], 2), 'p-value': round(corr_p[1], 2)}\n",
    "    corr_df = corr_df.append(row, ignore_index=True)\n",
    "    \n",
    "# Print each correlation\n",
    "for stat in stats:\n",
    "    print(f'Stat: {stat}')\n",
    "    print(corr_df[corr_df['stat'] == stat].set_index(['last']).drop(['stat'], axis=1))\n",
    "    print('\\n')"
   ]
  }
 ],
 "metadata": {
  "kernelspec": {
   "display_name": "Python 3 (ipykernel)",
   "language": "python",
   "name": "python3"
  },
  "language_info": {
   "codemirror_mode": {
    "name": "ipython",
    "version": 3
   },
   "file_extension": ".py",
   "mimetype": "text/x-python",
   "name": "python",
   "nbconvert_exporter": "python",
   "pygments_lexer": "ipython3",
   "version": "3.8.2"
  }
 },
 "nbformat": 4,
 "nbformat_minor": 5
}
