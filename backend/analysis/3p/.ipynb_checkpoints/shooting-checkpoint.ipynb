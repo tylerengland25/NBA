{
 "cells": [
  {
   "cell_type": "markdown",
   "id": "c8dbffa3",
   "metadata": {},
   "source": [
    "# 3 Pointers Made against shooting.csv"
   ]
  },
  {
   "cell_type": "markdown",
   "id": "3b818850",
   "metadata": {},
   "source": [
    "### Import packages"
   ]
  },
  {
   "cell_type": "code",
   "execution_count": 1,
   "id": "8a81d601",
   "metadata": {},
   "outputs": [],
   "source": [
    "import os\n",
    "import numpy as np\n",
    "import pandas as pd\n",
    "import seaborn as sns\n",
    "import matplotlib.pyplot as plt\n",
    "import matplotlib.ticker as ticker\n",
    "%matplotlib inline\n",
    "from scipy.stats import pearsonr\n",
    "import itertools\n",
    "\n",
    "pd.set_option(\"display.max_columns\", None)"
   ]
  },
  {
   "cell_type": "markdown",
   "id": "5ec7c76f",
   "metadata": {},
   "source": [
    "### Set working directory"
   ]
  },
  {
   "cell_type": "code",
   "execution_count": 2,
   "id": "a15f169f",
   "metadata": {},
   "outputs": [
    {
     "name": "stdout",
     "output_type": "stream",
     "text": [
      "Directory: C:\\Users\\tyler\\OneDrive\\Documents\\Python\\NBA\\backend\\analysis\\3p\n",
      "Directory: C:\\Users\\tyler\\OneDrive\\Documents\\Python\\NBA\n"
     ]
    }
   ],
   "source": [
    "# Print working directory\n",
    "cwd = os.getcwd()\n",
    "print(f'Directory: {cwd}')\n",
    "\n",
    "# Change working directory\n",
    "os.chdir('/Users/tyler/OneDrive/Documents/Python/NBA')\n",
    "\n",
    "# Print working directory\n",
    "cwd = os.getcwd()\n",
    "print(f'Directory: {cwd}')"
   ]
  },
  {
   "cell_type": "markdown",
   "id": "48835d9c",
   "metadata": {},
   "source": [
    "## Exploratory Data Analysis"
   ]
  },
  {
   "cell_type": "markdown",
   "id": "14d3bf6a",
   "metadata": {},
   "source": [
    "### Import data"
   ]
  },
  {
   "cell_type": "code",
   "execution_count": 3,
   "id": "b4d38bae",
   "metadata": {},
   "outputs": [],
   "source": [
    "df = pd.read_csv('backend/data/shooting.csv').drop(['Unnamed: 0'], axis=1)"
   ]
  },
  {
   "cell_type": "markdown",
   "id": "90cb91a5",
   "metadata": {},
   "source": [
    "### Basic exploration"
   ]
  },
  {
   "cell_type": "code",
   "execution_count": 4,
   "id": "6ea56a4f",
   "metadata": {
    "scrolled": true
   },
   "outputs": [
    {
     "name": "stdout",
     "output_type": "stream",
     "text": [
      "<class 'pandas.core.frame.DataFrame'>\n",
      "RangeIndex: 203850 entries, 0 to 203849\n",
      "Data columns (total 17 columns):\n",
      " #   Column    Non-Null Count   Dtype  \n",
      "---  ------    --------------   -----  \n",
      " 0   date      203850 non-null  object \n",
      " 1   visitor   203850 non-null  object \n",
      " 2   home      203850 non-null  object \n",
      " 3   team      203850 non-null  int64  \n",
      " 4   quarter   203828 non-null  object \n",
      " 5   fg        203812 non-null  float64\n",
      " 6   fga       203812 non-null  float64\n",
      " 7   fg_perc   203812 non-null  float64\n",
      " 8   2p        203812 non-null  float64\n",
      " 9   2pa       203812 non-null  float64\n",
      " 10  2p_perc   203809 non-null  float64\n",
      " 11  3p        203812 non-null  float64\n",
      " 12  3pa       203812 non-null  float64\n",
      " 13  3p_perc   202349 non-null  float64\n",
      " 14  efg_perc  203812 non-null  float64\n",
      " 15  ast       203812 non-null  float64\n",
      " 16  ast_perc  203789 non-null  float64\n",
      "dtypes: float64(12), int64(1), object(4)\n",
      "memory usage: 26.4+ MB\n"
     ]
    }
   ],
   "source": [
    "df.info()"
   ]
  },
  {
   "cell_type": "code",
   "execution_count": 5,
   "id": "b2029715",
   "metadata": {},
   "outputs": [
    {
     "data": {
      "text/html": [
       "<div>\n",
       "<style scoped>\n",
       "    .dataframe tbody tr th:only-of-type {\n",
       "        vertical-align: middle;\n",
       "    }\n",
       "\n",
       "    .dataframe tbody tr th {\n",
       "        vertical-align: top;\n",
       "    }\n",
       "\n",
       "    .dataframe thead th {\n",
       "        text-align: right;\n",
       "    }\n",
       "</style>\n",
       "<table border=\"1\" class=\"dataframe\">\n",
       "  <thead>\n",
       "    <tr style=\"text-align: right;\">\n",
       "      <th></th>\n",
       "      <th>date</th>\n",
       "      <th>visitor</th>\n",
       "      <th>home</th>\n",
       "      <th>team</th>\n",
       "      <th>quarter</th>\n",
       "      <th>fg</th>\n",
       "      <th>fga</th>\n",
       "      <th>fg_perc</th>\n",
       "      <th>2p</th>\n",
       "      <th>2pa</th>\n",
       "      <th>2p_perc</th>\n",
       "      <th>3p</th>\n",
       "      <th>3pa</th>\n",
       "      <th>3p_perc</th>\n",
       "      <th>efg_perc</th>\n",
       "      <th>ast</th>\n",
       "      <th>ast_perc</th>\n",
       "    </tr>\n",
       "  </thead>\n",
       "  <tbody>\n",
       "    <tr>\n",
       "      <th>0</th>\n",
       "      <td>Tue, Oct 31, 2006</td>\n",
       "      <td>Chicago Bulls</td>\n",
       "      <td>Miami Heat</td>\n",
       "      <td>0</td>\n",
       "      <td>q1</td>\n",
       "      <td>5.0</td>\n",
       "      <td>20.0</td>\n",
       "      <td>0.250</td>\n",
       "      <td>5.0</td>\n",
       "      <td>16.0</td>\n",
       "      <td>0.313</td>\n",
       "      <td>0.0</td>\n",
       "      <td>4.0</td>\n",
       "      <td>0.000</td>\n",
       "      <td>0.250</td>\n",
       "      <td>3.0</td>\n",
       "      <td>0.600</td>\n",
       "    </tr>\n",
       "    <tr>\n",
       "      <th>1</th>\n",
       "      <td>Tue, Oct 31, 2006</td>\n",
       "      <td>Chicago Bulls</td>\n",
       "      <td>Miami Heat</td>\n",
       "      <td>0</td>\n",
       "      <td>q2</td>\n",
       "      <td>15.0</td>\n",
       "      <td>19.0</td>\n",
       "      <td>0.789</td>\n",
       "      <td>12.0</td>\n",
       "      <td>16.0</td>\n",
       "      <td>0.750</td>\n",
       "      <td>3.0</td>\n",
       "      <td>3.0</td>\n",
       "      <td>1.000</td>\n",
       "      <td>0.868</td>\n",
       "      <td>10.0</td>\n",
       "      <td>0.667</td>\n",
       "    </tr>\n",
       "    <tr>\n",
       "      <th>2</th>\n",
       "      <td>Tue, Oct 31, 2006</td>\n",
       "      <td>Chicago Bulls</td>\n",
       "      <td>Miami Heat</td>\n",
       "      <td>0</td>\n",
       "      <td>q3</td>\n",
       "      <td>8.0</td>\n",
       "      <td>21.0</td>\n",
       "      <td>0.381</td>\n",
       "      <td>5.0</td>\n",
       "      <td>16.0</td>\n",
       "      <td>0.313</td>\n",
       "      <td>3.0</td>\n",
       "      <td>5.0</td>\n",
       "      <td>0.600</td>\n",
       "      <td>0.452</td>\n",
       "      <td>4.0</td>\n",
       "      <td>0.500</td>\n",
       "    </tr>\n",
       "    <tr>\n",
       "      <th>3</th>\n",
       "      <td>Tue, Oct 31, 2006</td>\n",
       "      <td>Chicago Bulls</td>\n",
       "      <td>Miami Heat</td>\n",
       "      <td>0</td>\n",
       "      <td>q4</td>\n",
       "      <td>11.0</td>\n",
       "      <td>19.0</td>\n",
       "      <td>0.579</td>\n",
       "      <td>10.0</td>\n",
       "      <td>18.0</td>\n",
       "      <td>0.556</td>\n",
       "      <td>1.0</td>\n",
       "      <td>1.0</td>\n",
       "      <td>1.000</td>\n",
       "      <td>0.605</td>\n",
       "      <td>5.0</td>\n",
       "      <td>0.455</td>\n",
       "    </tr>\n",
       "    <tr>\n",
       "      <th>4</th>\n",
       "      <td>Tue, Oct 31, 2006</td>\n",
       "      <td>Chicago Bulls</td>\n",
       "      <td>Miami Heat</td>\n",
       "      <td>0</td>\n",
       "      <td>total</td>\n",
       "      <td>39.0</td>\n",
       "      <td>79.0</td>\n",
       "      <td>0.494</td>\n",
       "      <td>32.0</td>\n",
       "      <td>66.0</td>\n",
       "      <td>0.485</td>\n",
       "      <td>7.0</td>\n",
       "      <td>13.0</td>\n",
       "      <td>0.538</td>\n",
       "      <td>0.538</td>\n",
       "      <td>22.0</td>\n",
       "      <td>0.564</td>\n",
       "    </tr>\n",
       "  </tbody>\n",
       "</table>\n",
       "</div>"
      ],
      "text/plain": [
       "                date        visitor        home  team quarter    fg   fga  \\\n",
       "0  Tue, Oct 31, 2006  Chicago Bulls  Miami Heat     0      q1   5.0  20.0   \n",
       "1  Tue, Oct 31, 2006  Chicago Bulls  Miami Heat     0      q2  15.0  19.0   \n",
       "2  Tue, Oct 31, 2006  Chicago Bulls  Miami Heat     0      q3   8.0  21.0   \n",
       "3  Tue, Oct 31, 2006  Chicago Bulls  Miami Heat     0      q4  11.0  19.0   \n",
       "4  Tue, Oct 31, 2006  Chicago Bulls  Miami Heat     0   total  39.0  79.0   \n",
       "\n",
       "   fg_perc    2p   2pa  2p_perc   3p   3pa  3p_perc  efg_perc   ast  ast_perc  \n",
       "0    0.250   5.0  16.0    0.313  0.0   4.0    0.000     0.250   3.0     0.600  \n",
       "1    0.789  12.0  16.0    0.750  3.0   3.0    1.000     0.868  10.0     0.667  \n",
       "2    0.381   5.0  16.0    0.313  3.0   5.0    0.600     0.452   4.0     0.500  \n",
       "3    0.579  10.0  18.0    0.556  1.0   1.0    1.000     0.605   5.0     0.455  \n",
       "4    0.494  32.0  66.0    0.485  7.0  13.0    0.538     0.538  22.0     0.564  "
      ]
     },
     "execution_count": 5,
     "metadata": {},
     "output_type": "execute_result"
    }
   ],
   "source": [
    "df.head()"
   ]
  },
  {
   "cell_type": "code",
   "execution_count": 6,
   "id": "8c5ab601",
   "metadata": {
    "scrolled": false
   },
   "outputs": [
    {
     "name": "stdout",
     "output_type": "stream",
     "text": [
      "<class 'pandas.core.frame.DataFrame'>\n",
      "Int64Index: 203850 entries, 1 to 407698\n",
      "Data columns (total 30 columns):\n",
      " #   Column        Non-Null Count   Dtype         \n",
      "---  ------        --------------   -----         \n",
      " 0   date          203850 non-null  datetime64[ns]\n",
      " 1   visitor       203850 non-null  object        \n",
      " 2   home          203850 non-null  object        \n",
      " 3   team          203850 non-null  object        \n",
      " 4   quarter       203828 non-null  object        \n",
      " 5   fg            203812 non-null  float64       \n",
      " 6   fga           203812 non-null  float64       \n",
      " 7   fg_perc       203812 non-null  float64       \n",
      " 8   2p            203812 non-null  float64       \n",
      " 9   2pa           203812 non-null  float64       \n",
      " 10  2p_perc       203809 non-null  float64       \n",
      " 11  3p            203812 non-null  float64       \n",
      " 12  3pa           203812 non-null  float64       \n",
      " 13  3p_perc       202349 non-null  float64       \n",
      " 14  efg_perc      203812 non-null  float64       \n",
      " 15  ast           203812 non-null  float64       \n",
      " 16  ast_perc      203789 non-null  float64       \n",
      " 17  team_opp      203850 non-null  object        \n",
      " 18  fg_opp        203812 non-null  float64       \n",
      " 19  fga_opp       203812 non-null  float64       \n",
      " 20  fg_perc_opp   203812 non-null  float64       \n",
      " 21  2p_opp        203812 non-null  float64       \n",
      " 22  2pa_opp       203812 non-null  float64       \n",
      " 23  2p_perc_opp   203809 non-null  float64       \n",
      " 24  3p_opp        203812 non-null  float64       \n",
      " 25  3pa_opp       203812 non-null  float64       \n",
      " 26  3p_perc_opp   202349 non-null  float64       \n",
      " 27  efg_perc_opp  203812 non-null  float64       \n",
      " 28  ast_opp       203812 non-null  float64       \n",
      " 29  ast_perc_opp  203789 non-null  float64       \n",
      "dtypes: datetime64[ns](1), float64(24), object(5)\n",
      "memory usage: 48.2+ MB\n"
     ]
    }
   ],
   "source": [
    "# Convert 'date' column to Date object\n",
    "df['date'] = pd.to_datetime(df['date'])\n",
    "\n",
    "\n",
    "# Conver 'team' column to Team Name\n",
    "df['team'] = np.where(df['team'], df['home'], df['visitor'])\n",
    "\n",
    "\n",
    "# Merge in opponents (see team defensive stats)\n",
    "df = pd.merge(\n",
    "    df, \n",
    "    df, \n",
    "    left_on=['date', 'visitor', 'home', 'quarter'], \n",
    "    right_on=['date', 'visitor', 'home', 'quarter'],\n",
    "    suffixes=('', '_opp'),\n",
    "    how='left')\n",
    "\n",
    "df = df[df['team'] != df['team_opp']]\n",
    "\n",
    "\n",
    "df.info()"
   ]
  },
  {
   "cell_type": "code",
   "execution_count": 7,
   "id": "0f7cba50",
   "metadata": {},
   "outputs": [],
   "source": [
    "total_df = df[df['quarter'] == 'total']\n",
    "q1_df = df[df['quarter'] == 'q1']\n",
    "q2_df = df[df['quarter'] == 'q2']\n",
    "q3_df = df[df['quarter'] == 'q3']\n",
    "q4_df = df[df['quarter'] == 'q4']"
   ]
  },
  {
   "cell_type": "code",
   "execution_count": 8,
   "id": "e2a17c48",
   "metadata": {
    "scrolled": false
   },
   "outputs": [
    {
     "name": "stdout",
     "output_type": "stream",
     "text": [
      "<class 'pandas.core.frame.DataFrame'>\n",
      "Int64Index: 40218 entries, 9 to 407698\n",
      "Data columns (total 30 columns):\n",
      " #   Column        Non-Null Count  Dtype         \n",
      "---  ------        --------------  -----         \n",
      " 0   date          40218 non-null  datetime64[ns]\n",
      " 1   visitor       40218 non-null  object        \n",
      " 2   home          40218 non-null  object        \n",
      " 3   team          40218 non-null  object        \n",
      " 4   quarter       40218 non-null  object        \n",
      " 5   fg            40202 non-null  float64       \n",
      " 6   fga           40202 non-null  float64       \n",
      " 7   fg_perc       40202 non-null  float64       \n",
      " 8   2p            40202 non-null  float64       \n",
      " 9   2pa           40202 non-null  float64       \n",
      " 10  2p_perc       40202 non-null  float64       \n",
      " 11  3p            40202 non-null  float64       \n",
      " 12  3pa           40202 non-null  float64       \n",
      " 13  3p_perc       40202 non-null  float64       \n",
      " 14  efg_perc      40202 non-null  float64       \n",
      " 15  ast           40202 non-null  float64       \n",
      " 16  ast_perc      40202 non-null  float64       \n",
      " 17  team_opp      40218 non-null  object        \n",
      " 18  fg_opp        40202 non-null  float64       \n",
      " 19  fga_opp       40202 non-null  float64       \n",
      " 20  fg_perc_opp   40202 non-null  float64       \n",
      " 21  2p_opp        40202 non-null  float64       \n",
      " 22  2pa_opp       40202 non-null  float64       \n",
      " 23  2p_perc_opp   40202 non-null  float64       \n",
      " 24  3p_opp        40202 non-null  float64       \n",
      " 25  3pa_opp       40202 non-null  float64       \n",
      " 26  3p_perc_opp   40202 non-null  float64       \n",
      " 27  efg_perc_opp  40202 non-null  float64       \n",
      " 28  ast_opp       40202 non-null  float64       \n",
      " 29  ast_perc_opp  40202 non-null  float64       \n",
      "dtypes: datetime64[ns](1), float64(24), object(5)\n",
      "memory usage: 9.5+ MB\n"
     ]
    }
   ],
   "source": [
    "total_df.info()"
   ]
  },
  {
   "cell_type": "markdown",
   "id": "e605fdbd",
   "metadata": {},
   "source": [
    "# Dataframe of team's last 15 performances"
   ]
  },
  {
   "cell_type": "code",
   "execution_count": null,
   "id": "8cc5d0a4",
   "metadata": {},
   "outputs": [],
   "source": [
    "# Totals\n",
    "total_df = df[df['quarter'] == 'total'].copy()\n",
    "\n",
    "# Return ten lastest dates team played\n",
    "def last_15_date(team, date):\n",
    "    schedule = total_df[total_df['team'] == team].sort_values(by='date').reset_index()\n",
    "    date_index = schedule[schedule['date'] == date].index[0]\n",
    "    if date_index - 15 < 0:\n",
    "        return None, None, None, None, None, None, None, None, None, None, None, None, None, None, None\n",
    "    else:\n",
    "        date_1, date_2 = schedule.iloc[date_index - 1]['date'], schedule.iloc[date_index - 2]['date']\n",
    "        date_3, date_4 = schedule.iloc[date_index - 3]['date'], schedule.iloc[date_index - 4]['date']\n",
    "        date_5, date_6 = schedule.iloc[date_index - 5]['date'], schedule.iloc[date_index - 6]['date']\n",
    "        date_7, date_8 = schedule.iloc[date_index - 7]['date'], schedule.iloc[date_index - 8]['date']\n",
    "        date_9, date_10 = schedule.iloc[date_index - 9]['date'], schedule.iloc[date_index - 10]['date']\n",
    "        date_11, date_12 = schedule.iloc[date_index - 11]['date'], schedule.iloc[date_index - 12]['date']\n",
    "        date_13, date_14 = schedule.iloc[date_index - 13]['date'], schedule.iloc[date_index - 14]['date']\n",
    "        date_15 = schedule.iloc[date_index - 15]['date']\n",
    "        return date_1, date_2, date_3, date_4, date_5, date_6, date_7, date_8, date_9, date_10, date_11, date_12, date_13, date_14, date_15\n",
    "\n",
    "total_df['dates'] = total_df.apply(lambda x: last_15_date(x.team, x.date), axis=1)\n",
    "total_df['date_1'], total_df['date_2'] = total_df['dates'].apply(lambda x: x[0]), total_df['dates'].apply(lambda x: x[1])\n",
    "total_df['date_3'], total_df['date_4'] = total_df['dates'].apply(lambda x: x[2]), total_df['dates'].apply(lambda x: x[3])\n",
    "total_df['date_5'], total_df['date_6'] = total_df['dates'].apply(lambda x: x[4]), total_df['dates'].apply(lambda x: x[5])\n",
    "total_df['date_7'], total_df['date_8'] = total_df['dates'].apply(lambda x: x[6]), total_df['dates'].apply(lambda x: x[7])\n",
    "total_df['date_9'], total_df['date_10'] = total_df['dates'].apply(lambda x: x[8]), total_df['dates'].apply(lambda x: x[9])\n",
    "total_df['date_11'], total_df['date_12'] = total_df['dates'].apply(lambda x: x[10]), total_df['dates'].apply(lambda x: x[11])\n",
    "total_df['date_13'], total_df['date_14'] = total_df['dates'].apply(lambda x: x[12]), total_df['dates'].apply(lambda x: x[13])\n",
    "total_df['date_15'] = total_df['dates'].apply(lambda x: x[14])"
   ]
  },
  {
   "cell_type": "code",
   "execution_count": null,
   "id": "826cf19e",
   "metadata": {},
   "outputs": [],
   "source": [
    "# Define statistics\n",
    "stats = ['fg', 'fga', '2p', '2pa', '3p', '3pa', 'ast',\n",
    "         'fg_opp', 'fga_opp', '2p_opp', '2pa_opp', '3p_opp', '3pa_opp', 'ast_opp']\n",
    "\n",
    "perc_stats = ['fg_perc', '2p_perc', '3p_perc', 'efg_perc', 'ast_perc',\n",
    "              'fg_perc_opp', '2p_perc_opp', '3p_perc_opp', 'efg_perc_opp', 'ast_perc_opp']\n",
    "\n",
    "# X and y column names to merge on\n",
    "x_cols = ['date', 'team'] + stats\n",
    "\n",
    "last_15_games = total_df.copy()\n",
    "last_15_games.loc[:, 'target'] = last_15_games.loc[:, '3p']\n",
    "X = total_df[x_cols].copy()\n",
    "\n",
    "# Dataframe of target (3pt made by each team) and of variables (last 5 games stats for each team)\n",
    "dates = ['_1', '_2', '_3', '_4', '_5', '_6', '_7', '_8', '_9', '_10', '_11', '_12', '_13', '_14', '_15']\n",
    "for date in dates:\n",
    "    last_15_games = pd.merge(last_15_games, X, left_on=['date' + date, 'team'], right_on=['date', 'team'], how='left', suffixes=('', date))"
   ]
  },
  {
   "cell_type": "code",
   "execution_count": null,
   "id": "86fd7552",
   "metadata": {},
   "outputs": [],
   "source": [
    "# Calculate z-score\n",
    "def z_score(value, mean, std):\n",
    "    return (value - mean) / std"
   ]
  },
  {
   "cell_type": "markdown",
   "id": "201bb135",
   "metadata": {},
   "source": [
    "### Last 15 Performances (Unweighted)"
   ]
  },
  {
   "cell_type": "code",
   "execution_count": null,
   "id": "9a081d56",
   "metadata": {},
   "outputs": [],
   "source": [
    "dates = ['_1', '_2', '_3', '_4', '_5', '_6', '_7', '_8', '_9', '_10', '_11', '_12', '_13', '_14', '_15']\n",
    "cols = ['date', 'visitor', 'home', 'team', 'target'] + \\\n",
    "    [tup[0] + tup[1] for tup in list(itertools.product(stats, dates))] \n",
    "\n",
    "last_15 = last_15_games[cols].copy()\n",
    "\n",
    "# Calculate mean for each stat over a team's last performance\n",
    "for stat in stats:\n",
    "    last_15[stat] = 0\n",
    "    for date in dates:\n",
    "        last_15[stat] = last_15[stat] + last_15[stat + date]\n",
    "    \n",
    "    last_15[stat] = last_15[stat] / len(dates)\n",
    "    \n",
    "# Calculate standard deviation for each stat over a team's last 15 game performance\n",
    "for stat in stats:\n",
    "    last_15[stat + '_std'] = 0\n",
    "    for date in dates:\n",
    "        last_15[stat + '_std'] = last_15[stat + '_std'] + ((last_15[stat + date] - last_15[stat]) ** 2)\n",
    "    \n",
    "    last_15[stat + '_std'] = last_15[stat + '_std'] / len(dates)\n",
    "    last_15[stat + '_std'] = last_15[stat + '_std'] ** .5\n",
    "\n",
    "# Feature engineer trends (how a team is trending in their last 3 games)\n",
    "for stat in stats:\n",
    "    last_15[stat + '_trend'] = 0\n",
    "    for date in dates[:3]:\n",
    "        last_15[stat + '_trend'] = last_15[stat + '_trend'] + \\\n",
    "                                    z_score(last_15[stat + date], last_15[stat], last_15[stat + '_std']).fillna(0)\n",
    "    \n",
    "    last_15[stat + '_trend'] = last_15[stat + '_trend'] / len(dates[:3])\n",
    "\n",
    "# Sum stats for opposing teams for each game\n",
    "last_15 = last_15.groupby(['date', 'visitor', 'home']).sum()\n",
    "\n",
    "# Standard deviation and trending cols\n",
    "std_cols = [stat + '_std' for stat in stats]\n",
    "trend_cols = [stat + '_trend' for stat in stats]\n",
    "\n",
    "# Keep columns\n",
    "last_15 = last_15[['target'] + stats + std_cols + trend_cols].dropna(axis=0)\n",
    "\n",
    "for perc in perc_stats:\n",
    "    stat = perc.split('_')[0]\n",
    "    opp = perc.split('_')[-1]\n",
    "    if opp == 'opp':\n",
    "        if stat == 'ast':\n",
    "            last_15[perc] = last_15[stat + '_opp'] / last_15['fg_opp']\n",
    "        elif stat == 'efg':\n",
    "            last_15[perc] = (last_15['fg_opp'] + (.5 * last_15['3p_opp'])) / last_15['fga_opp']\n",
    "        else:\n",
    "            last_15[perc] = last_15[stat + '_opp'] / last_15[stat + 'a_opp']\n",
    "    else:\n",
    "        if stat == 'ast':\n",
    "            last_15[perc] = last_15[stat] / last_15['fg']\n",
    "        elif stat == 'efg':\n",
    "            last_15[perc] = (last_15['fg'] + (.5 * last_15['3p'])) / last_15['fga']\n",
    "        else:\n",
    "            last_15[perc] = last_15[stat] / last_15[stat + 'a']\n",
    "\n",
    "        \n",
    "last_15 = last_15.dropna(axis=0)\n",
    "last_15.sample(5)"
   ]
  },
  {
   "cell_type": "markdown",
   "id": "006a5d49",
   "metadata": {},
   "source": [
    "## Correlations"
   ]
  },
  {
   "cell_type": "code",
   "execution_count": null,
   "id": "cee58307",
   "metadata": {
    "scrolled": true
   },
   "outputs": [],
   "source": [
    "corr_df = pd.DataFrame()\n",
    "\n",
    "# Correlations for last 15 game stats vs 3pt made (unweighted)\n",
    "for col in last_15:\n",
    "    corr_p = pearsonr(last_15['target'], last_15[col])\n",
    "    row = {'stat': col, 'corr': round(corr_p[0], 2), 'p-value': round(corr_p[1], 2)}\n",
    "    corr_df = corr_df.append(row, ignore_index=True)\n",
    "    \n",
    "# Print correlation\n",
    "corr_df = corr_df[corr_df['p-value'] < .05].drop(['p-value'], axis=1).sort_values(['corr'], axis=0, ascending=False)\n",
    "corr_df"
   ]
  },
  {
   "cell_type": "markdown",
   "id": "54f5f028",
   "metadata": {},
   "source": [
    "## Save dataframe with significantly correlated stats"
   ]
  },
  {
   "cell_type": "code",
   "execution_count": null,
   "id": "587bdb74",
   "metadata": {},
   "outputs": [],
   "source": [
    "stats = corr_df[corr_df['corr'].abs() >= .6]['stat']\n",
    "df = last_15[stats]\n",
    "\n",
    "stats\n",
    "\n",
    "df.to_csv('backend/data/inputs/3p/shooting.csv')"
   ]
  }
 ],
 "metadata": {
  "kernelspec": {
   "display_name": "Python 3 (ipykernel)",
   "language": "python",
   "name": "python3"
  },
  "language_info": {
   "codemirror_mode": {
    "name": "ipython",
    "version": 3
   },
   "file_extension": ".py",
   "mimetype": "text/x-python",
   "name": "python",
   "nbconvert_exporter": "python",
   "pygments_lexer": "ipython3",
   "version": "3.8.2"
  }
 },
 "nbformat": 4,
 "nbformat_minor": 5
}
