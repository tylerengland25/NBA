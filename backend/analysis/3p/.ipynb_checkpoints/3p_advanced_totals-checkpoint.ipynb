{
 "cells": [
  {
   "cell_type": "markdown",
   "id": "b645c185",
   "metadata": {},
   "source": [
    "# 3 Pointers Made against advanced_totals.csv"
   ]
  },
  {
   "cell_type": "markdown",
   "id": "8a99f5a6",
   "metadata": {},
   "source": [
    "### Import packages"
   ]
  },
  {
   "cell_type": "code",
   "execution_count": 1,
   "id": "1d554fab",
   "metadata": {},
   "outputs": [],
   "source": [
    "import os\n",
    "import numpy as np\n",
    "import pandas as pd\n",
    "%matplotlib inline\n",
    "from scipy.stats import pearsonr, zscore\n",
    "import itertools\n",
    "\n",
    "pd.set_option(\"display.max_columns\", None)"
   ]
  },
  {
   "cell_type": "markdown",
   "id": "7ab75de6",
   "metadata": {},
   "source": [
    "### Set working directory"
   ]
  },
  {
   "cell_type": "code",
   "execution_count": 2,
   "id": "28b4c71f",
   "metadata": {},
   "outputs": [
    {
     "name": "stdout",
     "output_type": "stream",
     "text": [
      "Directory: C:\\Users\\tyler\\OneDrive\\Documents\\Python\\NBA\\backend\\analysis\\3p\n",
      "Directory: C:\\Users\\tyler\\OneDrive\\Documents\\Python\\NBA\n"
     ]
    }
   ],
   "source": [
    "# Print working directory\n",
    "cwd = os.getcwd()\n",
    "print(f'Directory: {cwd}')\n",
    "\n",
    "# Change working directory\n",
    "os.chdir('/Users/tyler/OneDrive/Documents/Python/NBA')\n",
    "\n",
    "# Print working directory\n",
    "cwd = os.getcwd()\n",
    "print(f'Directory: {cwd}')"
   ]
  },
  {
   "cell_type": "markdown",
   "id": "d2d4a58e",
   "metadata": {},
   "source": [
    "## Exploratory Data Analysis"
   ]
  },
  {
   "cell_type": "markdown",
   "id": "14d3bf6a",
   "metadata": {},
   "source": [
    "### Import data"
   ]
  },
  {
   "cell_type": "code",
   "execution_count": 3,
   "id": "b4d38bae",
   "metadata": {},
   "outputs": [],
   "source": [
    "advanced_df = pd.read_csv('backend/data/totals/advanced_totals.csv').drop(['Unnamed: 0'], axis=1)\n",
    "shooting_df = pd.read_csv('backend/data/totals/game_totals.csv').drop(['Unnamed: 0'], axis=1)\n",
    "shooting_df = shooting_df[['date', 'visitor', 'home', 'team', '3p']]"
   ]
  },
  {
   "cell_type": "code",
   "execution_count": 4,
   "id": "5eb82fb8",
   "metadata": {},
   "outputs": [],
   "source": [
    "# Merge dataframes to have target variable\n",
    "df = pd.merge(shooting_df, advanced_df, \n",
    "              left_on=['date', 'visitor', 'home', 'team'], right_on=['date', 'visitor', 'home', 'team'],\n",
    "              how='left')"
   ]
  },
  {
   "cell_type": "markdown",
   "id": "90cb91a5",
   "metadata": {},
   "source": [
    "### Basic exploration"
   ]
  },
  {
   "cell_type": "code",
   "execution_count": 5,
   "id": "6ea56a4f",
   "metadata": {},
   "outputs": [
    {
     "name": "stdout",
     "output_type": "stream",
     "text": [
      "<class 'pandas.core.frame.DataFrame'>\n",
      "Int64Index: 40068 entries, 0 to 40067\n",
      "Data columns (total 19 columns):\n",
      " #   Column    Non-Null Count  Dtype  \n",
      "---  ------    --------------  -----  \n",
      " 0   date      40068 non-null  object \n",
      " 1   visitor   40068 non-null  object \n",
      " 2   home      40068 non-null  object \n",
      " 3   team      40068 non-null  int64  \n",
      " 4   3p        40054 non-null  float64\n",
      " 5   ts_perc   40054 non-null  float64\n",
      " 6   efg_perc  40054 non-null  float64\n",
      " 7   3par      40054 non-null  float64\n",
      " 8   ftr       40054 non-null  float64\n",
      " 9   orb_perc  40054 non-null  float64\n",
      " 10  drb_perc  40054 non-null  float64\n",
      " 11  trb_perc  40054 non-null  float64\n",
      " 12  ast_perc  40054 non-null  float64\n",
      " 13  stl_perc  40054 non-null  float64\n",
      " 14  blk_perc  40054 non-null  float64\n",
      " 15  tov_perc  40054 non-null  float64\n",
      " 16  usg_perc  40054 non-null  float64\n",
      " 17  ortg      40054 non-null  float64\n",
      " 18  drtg      40054 non-null  float64\n",
      "dtypes: float64(15), int64(1), object(3)\n",
      "memory usage: 6.1+ MB\n"
     ]
    }
   ],
   "source": [
    "df.info()"
   ]
  },
  {
   "cell_type": "code",
   "execution_count": 6,
   "id": "8c5ab601",
   "metadata": {
    "scrolled": true
   },
   "outputs": [
    {
     "name": "stdout",
     "output_type": "stream",
     "text": [
      "<class 'pandas.core.frame.DataFrame'>\n",
      "Int64Index: 40068 entries, 0 to 40067\n",
      "Data columns (total 19 columns):\n",
      " #   Column    Non-Null Count  Dtype         \n",
      "---  ------    --------------  -----         \n",
      " 0   date      40068 non-null  datetime64[ns]\n",
      " 1   visitor   40068 non-null  object        \n",
      " 2   home      40068 non-null  object        \n",
      " 3   team      40068 non-null  object        \n",
      " 4   target    40054 non-null  float64       \n",
      " 5   ts_perc   40054 non-null  float64       \n",
      " 6   efg_perc  40054 non-null  float64       \n",
      " 7   3par      40054 non-null  float64       \n",
      " 8   ftr       40054 non-null  float64       \n",
      " 9   orb_perc  40054 non-null  float64       \n",
      " 10  drb_perc  40054 non-null  float64       \n",
      " 11  trb_perc  40054 non-null  float64       \n",
      " 12  ast_perc  40054 non-null  float64       \n",
      " 13  stl_perc  40054 non-null  float64       \n",
      " 14  blk_perc  40054 non-null  float64       \n",
      " 15  tov_perc  40054 non-null  float64       \n",
      " 16  usg_perc  40054 non-null  float64       \n",
      " 17  ortg      40054 non-null  float64       \n",
      " 18  drtg      40054 non-null  float64       \n",
      "dtypes: datetime64[ns](1), float64(15), object(3)\n",
      "memory usage: 6.1+ MB\n"
     ]
    }
   ],
   "source": [
    "# Convert 'date' column to Date object\n",
    "df['date'] = pd.to_datetime(df['date'])\n",
    "\n",
    "# Convert 'team' column to Team Name\n",
    "df['team'] = np.where(df['team'], df['home'], df['visitor'])\n",
    "\n",
    "# Rename target variable\n",
    "df = df.rename({'3p': 'target'}, axis=1)\n",
    "\n",
    "# Define statistics\n",
    "stats = ['ts_perc', 'efg_perc', '3par', 'ftr', 'orb_perc', 'drb_perc', 'trb_perc', \n",
    "         'ast_perc', 'stl_perc', 'blk_perc', 'tov_perc', 'usg_perc', 'ortg', 'drtg']\n",
    "\n",
    "df.info()"
   ]
  },
  {
   "cell_type": "markdown",
   "id": "e605fdbd",
   "metadata": {},
   "source": [
    "# Dataframe of team's last 15 performances"
   ]
  },
  {
   "cell_type": "code",
   "execution_count": null,
   "id": "8cc5d0a4",
   "metadata": {},
   "outputs": [],
   "source": [
    "# Return ten lastest dates team played\n",
    "def last_15_date(team, date):\n",
    "    schedule = df[df['team'] == team].sort_values(by='date').reset_index()\n",
    "    date_index = schedule[schedule['date'] == date].index[0]\n",
    "    if date_index - 15 < 0:\n",
    "        return None, None, None, None, None, None, None, None, None, None, None, None, None, None, None\n",
    "    else:\n",
    "        date_1, date_2 = schedule.iloc[date_index - 1]['date'], schedule.iloc[date_index - 2]['date']\n",
    "        date_3, date_4 = schedule.iloc[date_index - 3]['date'], schedule.iloc[date_index - 4]['date']\n",
    "        date_5, date_6 = schedule.iloc[date_index - 5]['date'], schedule.iloc[date_index - 6]['date']\n",
    "        date_7, date_8 = schedule.iloc[date_index - 7]['date'], schedule.iloc[date_index - 8]['date']\n",
    "        date_9, date_10 = schedule.iloc[date_index - 9]['date'], schedule.iloc[date_index - 10]['date']\n",
    "        date_11, date_12 = schedule.iloc[date_index - 11]['date'], schedule.iloc[date_index - 12]['date']\n",
    "        date_13, date_14 = schedule.iloc[date_index - 13]['date'], schedule.iloc[date_index - 14]['date']\n",
    "        date_15 = schedule.iloc[date_index - 15]['date']\n",
    "        return date_1, date_2, date_3, date_4, date_5, date_6, date_7, date_8, date_9, date_10, date_11, date_12, date_13, date_14, date_15\n",
    "\n",
    "df['dates'] = df.apply(lambda x: last_15_date(x.team, x.date), axis=1)\n",
    "df['date_1'], df['date_2'] = df['dates'].apply(lambda x: x[0]), df['dates'].apply(lambda x: x[1])\n",
    "df['date_3'], df['date_4'] = df['dates'].apply(lambda x: x[2]), df['dates'].apply(lambda x: x[3])\n",
    "df['date_5'], df['date_6'] = df['dates'].apply(lambda x: x[4]), df['dates'].apply(lambda x: x[5])\n",
    "df['date_7'], df['date_8'] = df['dates'].apply(lambda x: x[6]), df['dates'].apply(lambda x: x[7])\n",
    "df['date_9'], df['date_10'] = df['dates'].apply(lambda x: x[8]), df['dates'].apply(lambda x: x[9])\n",
    "df['date_11'], df['date_12'] = df['dates'].apply(lambda x: x[10]), df['dates'].apply(lambda x: x[11])\n",
    "df['date_13'], df['date_14'] = df['dates'].apply(lambda x: x[12]), df['dates'].apply(lambda x: x[13])\n",
    "df['date_15'] = df['dates'].apply(lambda x: x[14])"
   ]
  },
  {
   "cell_type": "code",
   "execution_count": null,
   "id": "9054a4aa",
   "metadata": {},
   "outputs": [],
   "source": [
    "# X and y column names to merge on\n",
    "y_cols = df.columns\n",
    "x_cols = ['date', 'team'] + stats\n",
    "\n",
    "last_15_games = df[y_cols]\n",
    "X = df[x_cols]\n",
    "\n",
    "# Dataframe of target (3pt made by each team) and of variables (last 15 games stats for each team)\n",
    "dates = ['_1', '_2', '_3', '_4', '_5', '_6', '_7', '_8', '_9', '_10', '_11', '_12', '_13', '_14', '_15']\n",
    "for date in dates:\n",
    "    last_15_games = pd.merge(last_15_games, X, left_on=['date' + date, 'team'], right_on=['date', 'team'], how='left', suffixes=('', date))"
   ]
  },
  {
   "cell_type": "code",
   "execution_count": null,
   "id": "86fd7552",
   "metadata": {},
   "outputs": [],
   "source": [
    "# Calculate z-score\n",
    "def z_score(value, mean, std):\n",
    "    return (value - mean) / std"
   ]
  },
  {
   "cell_type": "code",
   "execution_count": null,
   "id": "e2d6f622",
   "metadata": {},
   "outputs": [],
   "source": [
    "# Calculate perc difference\n",
    "def perc_diff(value, mean):\n",
    "    return (value - mean) / mean"
   ]
  },
  {
   "cell_type": "markdown",
   "id": "1f0fbdcf",
   "metadata": {},
   "source": [
    "### Last 15 Performances (Unweighted)"
   ]
  },
  {
   "cell_type": "code",
   "execution_count": null,
   "id": "8ca61226",
   "metadata": {},
   "outputs": [],
   "source": [
    "dates = ['_1', '_2', '_3', '_4', '_5', '_6', '_7', '_8', '_9', '_10', '_11', '_12', '_13', '_14', '_15']\n",
    "cols = ['date', 'visitor', 'home', 'team', 'target'] + \\\n",
    "    [tup[0] + tup[1] for tup in list(itertools.product(stats, dates))]\n",
    "\n",
    "last_15_games_unweighted = last_15_games[cols].copy()\n",
    "\n",
    "# Calculate mean for each stat over a team's last performance\n",
    "for stat in stats:\n",
    "    last_15_games_unweighted[stat] = 0\n",
    "    for date in dates:\n",
    "        last_15_games_unweighted[stat] = last_15_games_unweighted[stat] + last_15_games_unweighted[stat + date]\n",
    "    \n",
    "    last_15_games_unweighted[stat] = last_15_games_unweighted[stat] / len(dates)\n",
    "    \n",
    "# Calculate standard deviation for each stat over a team's performance\n",
    "for stat in stats:\n",
    "    last_15_games_unweighted[stat + '_std'] = 0\n",
    "    for date in dates:\n",
    "        last_15_games_unweighted[stat + '_std'] = last_15_games_unweighted[stat + '_std'] + \\\n",
    "                                                    ((last_15_games_unweighted[stat + date] - last_15_games_unweighted[stat]) ** 2)\n",
    "    \n",
    "    last_15_games_unweighted[stat + '_std'] = last_15_games_unweighted[stat + '_std'] / len(dates)\n",
    "    last_15_games_unweighted[stat + '_std'] = last_15_games_unweighted[stat + '_std'] ** .5\n",
    "\n",
    "# Feature engineer trends\n",
    "for stat in stats:\n",
    "    last_15_games_unweighted[stat + '_trend'] = 0\n",
    "    for date in dates[:10]:\n",
    "        last_15_games_unweighted[stat + '_trend'] = last_15_games_unweighted[stat + '_trend'] + \\\n",
    "                                        z_score(last_15_games_unweighted[stat + date], last_15_games_unweighted[stat], last_15_games_unweighted[stat + '_std']).fillna(0)\n",
    "    \n",
    "    last_15_games_unweighted[stat + '_trend'] = last_15_games_unweighted[stat + '_trend'] / len(dates[:10])\n",
    "\n",
    "last_15_games_unweighted = last_15_games_unweighted.groupby(['date', 'visitor', 'home']).aggregate(['mean', 'sum'])\n",
    "\n",
    "last_15_game_cols = [col \n",
    "                    for col in last_15_games_unweighted.columns\n",
    "                    if (col[0] == 'target' and col[1] == 'sum') or \\\n",
    "                       (col[0] in stats and col[1] == 'sum' and '_perc' not in col[0]) or \\\n",
    "                       (col[0] in stats and col[1] == 'mean' and '_perc' in col[0]) or \\\n",
    "                       ('_trend' in col[0] and col[1] == 'sum')]\n",
    "\n",
    "last_15_games_unweighted = last_15_games_unweighted[last_15_game_cols].dropna(axis=0)\n",
    "last_15_games_unweighted.columns = [col[0] for col in last_15_games_unweighted.columns]\n",
    "last_15_games_unweighted.head()"
   ]
  },
  {
   "cell_type": "markdown",
   "id": "006a5d49",
   "metadata": {},
   "source": [
    "## Correlations"
   ]
  },
  {
   "cell_type": "code",
   "execution_count": null,
   "id": "cee58307",
   "metadata": {},
   "outputs": [],
   "source": [
    "corr_df = pd.DataFrame()\n",
    "\n",
    "# Correlations for last 15 game stats vs 3pt made (unweighted)\n",
    "for col in last_15_games_unweighted:\n",
    "    corr_p = pearsonr(last_15_games_unweighted['target'], last_15_games_unweighted[col])\n",
    "    row = {'stat': col, 'corr': round(corr_p[0], 2), 'p-value': round(corr_p[1], 2)}\n",
    "    corr_df = corr_df.append(row, ignore_index=True)\n",
    "    \n",
    "# Print correlations\n",
    "corr_df = corr_df[corr_df['p-value'] < .05].drop(['p-value'], axis=1).sort_values(['corr'], axis=0, ascending=False)\n",
    "corr_df"
   ]
  },
  {
   "cell_type": "markdown",
   "id": "54f5f028",
   "metadata": {},
   "source": [
    "## Save dataframe with significantly correlated stats"
   ]
  },
  {
   "cell_type": "code",
   "execution_count": null,
   "id": "587bdb74",
   "metadata": {},
   "outputs": [],
   "source": [
    "stats = corr_df[corr_df['corr'].abs() >= .4]['stat']\n",
    "df = last_15_games_unweighted[stats]\n",
    "\n",
    "df.to_csv('backend/data/inputs/3p/advanced_totals.csv')"
   ]
  }
 ],
 "metadata": {
  "kernelspec": {
   "display_name": "Python 3 (ipykernel)",
   "language": "python",
   "name": "python3"
  },
  "language_info": {
   "codemirror_mode": {
    "name": "ipython",
    "version": 3
   },
   "file_extension": ".py",
   "mimetype": "text/x-python",
   "name": "python",
   "nbconvert_exporter": "python",
   "pygments_lexer": "ipython3",
   "version": "3.8.2"
  }
 },
 "nbformat": 4,
 "nbformat_minor": 5
}
