{
 "cells": [
  {
   "cell_type": "markdown",
   "id": "2adf4802",
   "metadata": {},
   "source": [
    "# 3 Pointers Made against game_totals.csv"
   ]
  },
  {
   "cell_type": "markdown",
   "id": "2a13c3b0",
   "metadata": {},
   "source": [
    "### Import packages"
   ]
  },
  {
   "cell_type": "code",
   "execution_count": 1,
   "id": "75e8ba88",
   "metadata": {},
   "outputs": [],
   "source": [
    "import os\n",
    "import numpy as np\n",
    "import pandas as pd\n",
    "import seaborn as sns\n",
    "import matplotlib.pyplot as plt\n",
    "import matplotlib.ticker as ticker\n",
    "%matplotlib inline\n",
    "from scipy.stats import pearsonr\n",
    "import itertools\n",
    "\n",
    "pd.set_option(\"display.max_columns\", None)"
   ]
  },
  {
   "cell_type": "markdown",
   "id": "4ea46417",
   "metadata": {},
   "source": [
    "### Set working directory"
   ]
  },
  {
   "cell_type": "code",
   "execution_count": 2,
   "id": "c0889f64",
   "metadata": {},
   "outputs": [
    {
     "name": "stdout",
     "output_type": "stream",
     "text": [
      "Directory: C:\\Users\\tyler\\OneDrive\\Documents\\Python\\NBA\\backend\\analysis\\3p\n",
      "Directory: C:\\Users\\tyler\\OneDrive\\Documents\\Python\\NBA\n"
     ]
    }
   ],
   "source": [
    "# Print working directory\n",
    "cwd = os.getcwd()\n",
    "print(f'Directory: {cwd}')\n",
    "\n",
    "# Change working directory\n",
    "os.chdir('/Users/tyler/OneDrive/Documents/Python/NBA')\n",
    "\n",
    "# Print working directory\n",
    "cwd = os.getcwd()\n",
    "print(f'Directory: {cwd}')"
   ]
  },
  {
   "cell_type": "markdown",
   "id": "93dc3ba0",
   "metadata": {},
   "source": [
    "## Exploratory Data Analysis"
   ]
  },
  {
   "cell_type": "markdown",
   "id": "14d3bf6a",
   "metadata": {},
   "source": [
    "### Import data"
   ]
  },
  {
   "cell_type": "code",
   "execution_count": 3,
   "id": "2b892e68",
   "metadata": {},
   "outputs": [],
   "source": [
    "df = pd.read_csv('backend/data/totals/game_totals.csv').drop(['Unnamed: 0'], axis=1)"
   ]
  },
  {
   "cell_type": "markdown",
   "id": "90cb91a5",
   "metadata": {},
   "source": [
    "### Basic exploration"
   ]
  },
  {
   "cell_type": "code",
   "execution_count": 4,
   "id": "6ea56a4f",
   "metadata": {},
   "outputs": [
    {
     "name": "stdout",
     "output_type": "stream",
     "text": [
      "<class 'pandas.core.frame.DataFrame'>\n",
      "RangeIndex: 40068 entries, 0 to 40067\n",
      "Data columns (total 22 columns):\n",
      " #   Column   Non-Null Count  Dtype  \n",
      "---  ------   --------------  -----  \n",
      " 0   date     40068 non-null  object \n",
      " 1   visitor  40068 non-null  object \n",
      " 2   home     40068 non-null  object \n",
      " 3   team     40068 non-null  int64  \n",
      " 4   fg       40054 non-null  float64\n",
      " 5   fga      40054 non-null  float64\n",
      " 6   fg_perc  40054 non-null  float64\n",
      " 7   3p       40054 non-null  float64\n",
      " 8   3pa      40054 non-null  float64\n",
      " 9   3p_perc  40054 non-null  float64\n",
      " 10  ft       40054 non-null  float64\n",
      " 11  fta      40054 non-null  float64\n",
      " 12  ft_perc  40054 non-null  float64\n",
      " 13  orb      40054 non-null  float64\n",
      " 14  drb      40054 non-null  float64\n",
      " 15  trb      40054 non-null  float64\n",
      " 16  ast      40054 non-null  float64\n",
      " 17  stl      40054 non-null  float64\n",
      " 18  blk      40054 non-null  float64\n",
      " 19  tov      40054 non-null  float64\n",
      " 20  pf       40054 non-null  float64\n",
      " 21  pts      40054 non-null  float64\n",
      "dtypes: float64(18), int64(1), object(3)\n",
      "memory usage: 6.7+ MB\n"
     ]
    }
   ],
   "source": [
    "df.info()"
   ]
  },
  {
   "cell_type": "code",
   "execution_count": 5,
   "id": "246f881c",
   "metadata": {
    "scrolled": false
   },
   "outputs": [
    {
     "data": {
      "text/html": [
       "<div>\n",
       "<style scoped>\n",
       "    .dataframe tbody tr th:only-of-type {\n",
       "        vertical-align: middle;\n",
       "    }\n",
       "\n",
       "    .dataframe tbody tr th {\n",
       "        vertical-align: top;\n",
       "    }\n",
       "\n",
       "    .dataframe thead th {\n",
       "        text-align: right;\n",
       "    }\n",
       "</style>\n",
       "<table border=\"1\" class=\"dataframe\">\n",
       "  <thead>\n",
       "    <tr style=\"text-align: right;\">\n",
       "      <th></th>\n",
       "      <th>date</th>\n",
       "      <th>visitor</th>\n",
       "      <th>home</th>\n",
       "      <th>team</th>\n",
       "      <th>fg</th>\n",
       "      <th>fga</th>\n",
       "      <th>fg_perc</th>\n",
       "      <th>3p</th>\n",
       "      <th>3pa</th>\n",
       "      <th>3p_perc</th>\n",
       "      <th>ft</th>\n",
       "      <th>fta</th>\n",
       "      <th>ft_perc</th>\n",
       "      <th>orb</th>\n",
       "      <th>drb</th>\n",
       "      <th>trb</th>\n",
       "      <th>ast</th>\n",
       "      <th>stl</th>\n",
       "      <th>blk</th>\n",
       "      <th>tov</th>\n",
       "      <th>pf</th>\n",
       "      <th>pts</th>\n",
       "    </tr>\n",
       "  </thead>\n",
       "  <tbody>\n",
       "    <tr>\n",
       "      <th>17809</th>\n",
       "      <td>Thu, May 2, 2013</td>\n",
       "      <td>Brooklyn Nets</td>\n",
       "      <td>Chicago Bulls</td>\n",
       "      <td>1</td>\n",
       "      <td>36.0</td>\n",
       "      <td>89.0</td>\n",
       "      <td>0.404</td>\n",
       "      <td>7.0</td>\n",
       "      <td>18.0</td>\n",
       "      <td>0.389</td>\n",
       "      <td>13.0</td>\n",
       "      <td>18.0</td>\n",
       "      <td>0.722</td>\n",
       "      <td>15.0</td>\n",
       "      <td>31.0</td>\n",
       "      <td>46.0</td>\n",
       "      <td>23.0</td>\n",
       "      <td>4.0</td>\n",
       "      <td>7.0</td>\n",
       "      <td>16.0</td>\n",
       "      <td>26.0</td>\n",
       "      <td>92.0</td>\n",
       "    </tr>\n",
       "    <tr>\n",
       "      <th>12434</th>\n",
       "      <td>Fri, Mar 11, 2011</td>\n",
       "      <td>Los Angeles Clippers</td>\n",
       "      <td>New Jersey Nets</td>\n",
       "      <td>0</td>\n",
       "      <td>41.0</td>\n",
       "      <td>91.0</td>\n",
       "      <td>0.451</td>\n",
       "      <td>4.0</td>\n",
       "      <td>17.0</td>\n",
       "      <td>0.235</td>\n",
       "      <td>12.0</td>\n",
       "      <td>20.0</td>\n",
       "      <td>0.600</td>\n",
       "      <td>11.0</td>\n",
       "      <td>34.0</td>\n",
       "      <td>45.0</td>\n",
       "      <td>22.0</td>\n",
       "      <td>13.0</td>\n",
       "      <td>5.0</td>\n",
       "      <td>15.0</td>\n",
       "      <td>19.0</td>\n",
       "      <td>98.0</td>\n",
       "    </tr>\n",
       "    <tr>\n",
       "      <th>27972</th>\n",
       "      <td>Sun, Mar 26, 2017</td>\n",
       "      <td>Chicago Bulls</td>\n",
       "      <td>Milwaukee Bucks</td>\n",
       "      <td>0</td>\n",
       "      <td>46.0</td>\n",
       "      <td>85.0</td>\n",
       "      <td>0.541</td>\n",
       "      <td>10.0</td>\n",
       "      <td>21.0</td>\n",
       "      <td>0.476</td>\n",
       "      <td>7.0</td>\n",
       "      <td>10.0</td>\n",
       "      <td>0.700</td>\n",
       "      <td>10.0</td>\n",
       "      <td>39.0</td>\n",
       "      <td>49.0</td>\n",
       "      <td>33.0</td>\n",
       "      <td>4.0</td>\n",
       "      <td>2.0</td>\n",
       "      <td>14.0</td>\n",
       "      <td>16.0</td>\n",
       "      <td>109.0</td>\n",
       "    </tr>\n",
       "    <tr>\n",
       "      <th>29415</th>\n",
       "      <td>Tue, Dec 26, 2017</td>\n",
       "      <td>Brooklyn Nets</td>\n",
       "      <td>San Antonio Spurs</td>\n",
       "      <td>1</td>\n",
       "      <td>41.0</td>\n",
       "      <td>80.0</td>\n",
       "      <td>0.513</td>\n",
       "      <td>7.0</td>\n",
       "      <td>16.0</td>\n",
       "      <td>0.438</td>\n",
       "      <td>20.0</td>\n",
       "      <td>24.0</td>\n",
       "      <td>0.833</td>\n",
       "      <td>5.0</td>\n",
       "      <td>38.0</td>\n",
       "      <td>43.0</td>\n",
       "      <td>18.0</td>\n",
       "      <td>7.0</td>\n",
       "      <td>5.0</td>\n",
       "      <td>12.0</td>\n",
       "      <td>14.0</td>\n",
       "      <td>109.0</td>\n",
       "    </tr>\n",
       "    <tr>\n",
       "      <th>32721</th>\n",
       "      <td>Mon, Feb 11, 2019</td>\n",
       "      <td>Milwaukee Bucks</td>\n",
       "      <td>Chicago Bulls</td>\n",
       "      <td>1</td>\n",
       "      <td>37.0</td>\n",
       "      <td>96.0</td>\n",
       "      <td>0.385</td>\n",
       "      <td>9.0</td>\n",
       "      <td>28.0</td>\n",
       "      <td>0.321</td>\n",
       "      <td>16.0</td>\n",
       "      <td>18.0</td>\n",
       "      <td>0.889</td>\n",
       "      <td>9.0</td>\n",
       "      <td>36.0</td>\n",
       "      <td>45.0</td>\n",
       "      <td>24.0</td>\n",
       "      <td>8.0</td>\n",
       "      <td>2.0</td>\n",
       "      <td>13.0</td>\n",
       "      <td>22.0</td>\n",
       "      <td>99.0</td>\n",
       "    </tr>\n",
       "  </tbody>\n",
       "</table>\n",
       "</div>"
      ],
      "text/plain": [
       "                    date               visitor               home  team    fg  \\\n",
       "17809   Thu, May 2, 2013         Brooklyn Nets      Chicago Bulls     1  36.0   \n",
       "12434  Fri, Mar 11, 2011  Los Angeles Clippers    New Jersey Nets     0  41.0   \n",
       "27972  Sun, Mar 26, 2017         Chicago Bulls    Milwaukee Bucks     0  46.0   \n",
       "29415  Tue, Dec 26, 2017         Brooklyn Nets  San Antonio Spurs     1  41.0   \n",
       "32721  Mon, Feb 11, 2019       Milwaukee Bucks      Chicago Bulls     1  37.0   \n",
       "\n",
       "        fga  fg_perc    3p   3pa  3p_perc    ft   fta  ft_perc   orb   drb  \\\n",
       "17809  89.0    0.404   7.0  18.0    0.389  13.0  18.0    0.722  15.0  31.0   \n",
       "12434  91.0    0.451   4.0  17.0    0.235  12.0  20.0    0.600  11.0  34.0   \n",
       "27972  85.0    0.541  10.0  21.0    0.476   7.0  10.0    0.700  10.0  39.0   \n",
       "29415  80.0    0.513   7.0  16.0    0.438  20.0  24.0    0.833   5.0  38.0   \n",
       "32721  96.0    0.385   9.0  28.0    0.321  16.0  18.0    0.889   9.0  36.0   \n",
       "\n",
       "        trb   ast   stl  blk   tov    pf    pts  \n",
       "17809  46.0  23.0   4.0  7.0  16.0  26.0   92.0  \n",
       "12434  45.0  22.0  13.0  5.0  15.0  19.0   98.0  \n",
       "27972  49.0  33.0   4.0  2.0  14.0  16.0  109.0  \n",
       "29415  43.0  18.0   7.0  5.0  12.0  14.0  109.0  \n",
       "32721  45.0  24.0   8.0  2.0  13.0  22.0   99.0  "
      ]
     },
     "execution_count": 5,
     "metadata": {},
     "output_type": "execute_result"
    }
   ],
   "source": [
    "df.sample(5)"
   ]
  },
  {
   "cell_type": "code",
   "execution_count": 6,
   "id": "8c5ab601",
   "metadata": {
    "scrolled": false
   },
   "outputs": [
    {
     "name": "stdout",
     "output_type": "stream",
     "text": [
      "<class 'pandas.core.frame.DataFrame'>\n",
      "RangeIndex: 40068 entries, 0 to 40067\n",
      "Data columns (total 22 columns):\n",
      " #   Column   Non-Null Count  Dtype         \n",
      "---  ------   --------------  -----         \n",
      " 0   date     40068 non-null  datetime64[ns]\n",
      " 1   visitor  40068 non-null  object        \n",
      " 2   home     40068 non-null  object        \n",
      " 3   team     40068 non-null  object        \n",
      " 4   fg       40054 non-null  float64       \n",
      " 5   fga      40054 non-null  float64       \n",
      " 6   fg_perc  40054 non-null  float64       \n",
      " 7   3p       40054 non-null  float64       \n",
      " 8   3pa      40054 non-null  float64       \n",
      " 9   3p_perc  40054 non-null  float64       \n",
      " 10  ft       40054 non-null  float64       \n",
      " 11  fta      40054 non-null  float64       \n",
      " 12  ft_perc  40054 non-null  float64       \n",
      " 13  orb      40054 non-null  float64       \n",
      " 14  drb      40054 non-null  float64       \n",
      " 15  trb      40054 non-null  float64       \n",
      " 16  ast      40054 non-null  float64       \n",
      " 17  stl      40054 non-null  float64       \n",
      " 18  blk      40054 non-null  float64       \n",
      " 19  tov      40054 non-null  float64       \n",
      " 20  pf       40054 non-null  float64       \n",
      " 21  pts      40054 non-null  float64       \n",
      "dtypes: datetime64[ns](1), float64(18), object(3)\n",
      "memory usage: 6.7+ MB\n"
     ]
    }
   ],
   "source": [
    "# Convert 'date' column to Date object\n",
    "df['date'] = pd.to_datetime(df['date'])\n",
    "\n",
    "# Conver 'team' column to Team Name\n",
    "df['team'] = np.where(df['team'], df['home'], df['visitor'])\n",
    "\n",
    "# Statistics\n",
    "stats = ['fg', 'fga', 'fg_perc', '3p', '3pa', '3p_perc', 'ft', 'fta', 'ft_perc', \n",
    "         'orb', 'drb', 'trb', 'ast', 'stl', 'blk', 'tov', 'pf', 'pts']\n",
    "\n",
    "df.info()"
   ]
  },
  {
   "cell_type": "markdown",
   "id": "e605fdbd",
   "metadata": {},
   "source": [
    "# Dataframe of team's last 15 performances"
   ]
  },
  {
   "cell_type": "code",
   "execution_count": null,
   "id": "8cc5d0a4",
   "metadata": {},
   "outputs": [],
   "source": [
    "# Return ten lastest dates team played\n",
    "def last_15_date(team, date):\n",
    "    schedule = df[df['team'] == team].sort_values(by='date').reset_index()\n",
    "    date_index = schedule[schedule['date'] == date].index[0]\n",
    "    if date_index - 15 < 0:\n",
    "        return None, None, None, None, None, None, None, None, None, None, None, None, None, None, None\n",
    "    else:\n",
    "        date_1, date_2 = schedule.iloc[date_index - 1]['date'], schedule.iloc[date_index - 2]['date']\n",
    "        date_3, date_4 = schedule.iloc[date_index - 3]['date'], schedule.iloc[date_index - 4]['date']\n",
    "        date_5, date_6 = schedule.iloc[date_index - 5]['date'], schedule.iloc[date_index - 6]['date']\n",
    "        date_7, date_8 = schedule.iloc[date_index - 7]['date'], schedule.iloc[date_index - 8]['date']\n",
    "        date_9, date_10 = schedule.iloc[date_index - 9]['date'], schedule.iloc[date_index - 10]['date']\n",
    "        date_11, date_12 = schedule.iloc[date_index - 11]['date'], schedule.iloc[date_index - 12]['date']\n",
    "        date_13, date_14 = schedule.iloc[date_index - 13]['date'], schedule.iloc[date_index - 14]['date']\n",
    "        date_15 = schedule.iloc[date_index - 15]['date']\n",
    "        return date_1, date_2, date_3, date_4, date_5, date_6, date_7, date_8, date_9, date_10, date_11, date_12, date_13, date_14, date_15\n",
    "\n",
    "df['dates'] = df.apply(lambda x: last_15_date(x.team, x.date), axis=1)\n",
    "df['date_1'], df['date_2'] = df['dates'].apply(lambda x: x[0]), df['dates'].apply(lambda x: x[1])\n",
    "df['date_3'], df['date_4'] = df['dates'].apply(lambda x: x[2]), df['dates'].apply(lambda x: x[3])\n",
    "df['date_5'], df['date_6'] = df['dates'].apply(lambda x: x[4]), df['dates'].apply(lambda x: x[5])\n",
    "df['date_7'], df['date_8'] = df['dates'].apply(lambda x: x[6]), df['dates'].apply(lambda x: x[7])\n",
    "df['date_9'], df['date_10'] = df['dates'].apply(lambda x: x[8]), df['dates'].apply(lambda x: x[9])\n",
    "df['date_11'], df['date_12'] = df['dates'].apply(lambda x: x[10]), df['dates'].apply(lambda x: x[11])\n",
    "df['date_13'], df['date_14'] = df['dates'].apply(lambda x: x[12]), df['dates'].apply(lambda x: x[13])\n",
    "df['date_15'] = df['dates'].apply(lambda x: x[14])"
   ]
  },
  {
   "cell_type": "code",
   "execution_count": null,
   "id": "ed92a099",
   "metadata": {},
   "outputs": [],
   "source": [
    "# X and y column names to merge on\n",
    "y_cols = df.columns\n",
    "x_cols = ['date', 'team'] + stats\n",
    "\n",
    "last_15_games = df[y_cols]\n",
    "last_15_games['target'] = last_15_games['3p']\n",
    "X = df[x_cols]\n",
    "\n",
    "# Dataframe of target (3pt made by each team) and of variables (last 5 games stats for each team)\n",
    "dates = ['_1', '_2', '_3', '_4', '_5', '_6', '_7', '_8', '_9', '_10', '_11', '_12', '_13', '_14', '_15']\n",
    "for date in dates:\n",
    "    last_15_games = pd.merge(last_15_games, X, left_on=['date' + date, 'team'], right_on=['date', 'team'], how='left', suffixes=('', date))"
   ]
  },
  {
   "cell_type": "code",
   "execution_count": null,
   "id": "47d28f34",
   "metadata": {},
   "outputs": [],
   "source": [
    "# Calculate z-score\n",
    "def z_score(value, mean, std):\n",
    "    return (value - mean) / std"
   ]
  },
  {
   "cell_type": "code",
   "execution_count": null,
   "id": "9c1fe62d",
   "metadata": {},
   "outputs": [],
   "source": [
    "# Calculate perc difference\n",
    "def perc_diff(value, mean):\n",
    "    return (value - mean) / mean"
   ]
  },
  {
   "cell_type": "markdown",
   "id": "bab8b04b",
   "metadata": {},
   "source": [
    "### Last 15 Performances (Unweighted)"
   ]
  },
  {
   "cell_type": "code",
   "execution_count": null,
   "id": "afd174d2",
   "metadata": {},
   "outputs": [],
   "source": [
    "dates = ['_1', '_2', '_3', '_4', '_5', '_6', '_7', '_8', '_9', '_10', '_11', '_12', '_13', '_14', '_15']\n",
    "cols = ['date', 'visitor', 'home', 'team', 'target'] + \\\n",
    "    [tup[0] + tup[1] for tup in list(itertools.product(stats, dates))]\n",
    "\n",
    "last_15_games_unweighted = last_15_games[cols].copy()\n",
    "\n",
    "# Calculate mean for each stat over a team's last performance\n",
    "for stat in stats:\n",
    "    last_15_games_unweighted[stat] = 0\n",
    "    for date in dates:\n",
    "        last_15_games_unweighted[stat] = last_15_games_unweighted[stat] + last_15_games_unweighted[stat + date]\n",
    "    \n",
    "    last_15_games_unweighted[stat] = last_15_games_unweighted[stat] / len(dates)\n",
    "    \n",
    "# Calculate standard deviation for each stat over a team's performance\n",
    "for stat in stats:\n",
    "    last_15_games_unweighted[stat + '_std'] = 0\n",
    "    for date in dates:\n",
    "        last_15_games_unweighted[stat + '_std'] = last_15_games_unweighted[stat + '_std'] + \\\n",
    "                                                    ((last_15_games_unweighted[stat + date] - last_15_games_unweighted[stat]) ** 2)\n",
    "    \n",
    "    last_15_games_unweighted[stat + '_std'] = last_15_games_unweighted[stat + '_std'] / len(dates)\n",
    "    last_15_games_unweighted[stat + '_std'] = last_15_games_unweighted[stat + '_std'] ** .5\n",
    "\n",
    "# Feature engineer trends\n",
    "for stat in stats:\n",
    "    last_15_games_unweighted[stat + '_trend'] = 0\n",
    "    for date in dates[:10]:\n",
    "        last_15_games_unweighted[stat + '_trend'] = last_15_games_unweighted[stat + '_trend'] + \\\n",
    "                                        z_score(last_15_games_unweighted[stat + date], last_15_games_unweighted[stat], last_15_games_unweighted[stat + '_std']).fillna(0)\n",
    "    \n",
    "    last_15_games_unweighted[stat + '_trend'] = last_15_games_unweighted[stat + '_trend'] / len(dates[:10])\n",
    "\n",
    "last_15_games_unweighted = last_15_games_unweighted.groupby(['date', 'visitor', 'home']).aggregate(['mean', 'sum'])\n",
    "\n",
    "last_15_game_cols = [col \n",
    "                    for col in last_15_games_unweighted.columns\n",
    "                    if (col[0] == 'target' and col[1] == 'sum') or \\\n",
    "                       (col[0] in stats and col[1] == 'sum' and '_perc' not in col[0]) or \\\n",
    "                       (col[0] in stats and col[1] == 'mean' and '_perc' in col[0]) or \\\n",
    "                       ('_trend' in col[0] and col[1] == 'sum')]\n",
    "\n",
    "last_15_games_unweighted = last_15_games_unweighted[last_15_game_cols].dropna(axis=0)\n",
    "last_15_games_unweighted.columns = [col[0] for col in last_15_games_unweighted.columns]\n",
    "last_15_games_unweighted.head()"
   ]
  },
  {
   "cell_type": "markdown",
   "id": "006a5d49",
   "metadata": {},
   "source": [
    "## Correlations"
   ]
  },
  {
   "cell_type": "code",
   "execution_count": null,
   "id": "cee58307",
   "metadata": {
    "scrolled": true
   },
   "outputs": [],
   "source": [
    "corr_df = pd.DataFrame()\n",
    "\n",
    "# Correlations for last 15 game stats vs 3pt made (unweighted)\n",
    "for col in last_15_games_unweighted:\n",
    "    corr_p = pearsonr(last_15_games_unweighted['target'], last_15_games_unweighted[col])\n",
    "    row = {'stat': col, 'corr': round(corr_p[0], 2), 'p-value': round(corr_p[1], 2)}\n",
    "    corr_df = corr_df.append(row, ignore_index=True)\n",
    "    \n",
    "# Print correlations\n",
    "corr_df = corr_df[corr_df['p-value'] < .05].drop(['p-value'], axis=1).sort_values(['corr'], axis=0, ascending=False)\n",
    "corr_df"
   ]
  },
  {
   "cell_type": "markdown",
   "id": "54f5f028",
   "metadata": {},
   "source": [
    "## Save dataframe with significantly correlated stats"
   ]
  },
  {
   "cell_type": "code",
   "execution_count": null,
   "id": "587bdb74",
   "metadata": {},
   "outputs": [],
   "source": [
    "stats = corr_df[corr_df['corr'].abs() >= .4]['stat']\n",
    "df = last_15_games_unweighted[stats]\n",
    "\n",
    "df.to_csv('backend/data/inputs/3p/game_totals.csv')"
   ]
  }
 ],
 "metadata": {
  "kernelspec": {
   "display_name": "Python 3 (ipykernel)",
   "language": "python",
   "name": "python3"
  },
  "language_info": {
   "codemirror_mode": {
    "name": "ipython",
    "version": 3
   },
   "file_extension": ".py",
   "mimetype": "text/x-python",
   "name": "python",
   "nbconvert_exporter": "python",
   "pygments_lexer": "ipython3",
   "version": "3.8.2"
  }
 },
 "nbformat": 4,
 "nbformat_minor": 5
}
