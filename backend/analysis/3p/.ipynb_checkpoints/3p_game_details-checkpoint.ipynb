{
 "cells": [
  {
   "cell_type": "markdown",
   "id": "2adf4802",
   "metadata": {},
   "source": [
    "# 3 Pointers Made against game_details.csv"
   ]
  },
  {
   "cell_type": "markdown",
   "id": "2a13c3b0",
   "metadata": {},
   "source": [
    "### Import packages"
   ]
  },
  {
   "cell_type": "code",
   "execution_count": 1,
   "id": "75e8ba88",
   "metadata": {},
   "outputs": [],
   "source": [
    "import os\n",
    "import numpy as np\n",
    "import pandas as pd\n",
    "import seaborn as sns\n",
    "from scipy.stats import pearsonr\n",
    "import itertools\n",
    "\n",
    "pd.set_option(\"display.max_columns\", None)"
   ]
  },
  {
   "cell_type": "markdown",
   "id": "4ea46417",
   "metadata": {},
   "source": [
    "### Set working directory"
   ]
  },
  {
   "cell_type": "code",
   "execution_count": 2,
   "id": "c0889f64",
   "metadata": {},
   "outputs": [
    {
     "name": "stdout",
     "output_type": "stream",
     "text": [
      "Directory: C:\\Users\\tyler\\OneDrive\\Documents\\Python\\NBA\\backend\\analysis\\3p\n",
      "Directory: C:\\Users\\tyler\\OneDrive\\Documents\\Python\\NBA\n"
     ]
    }
   ],
   "source": [
    "# Print working directory\n",
    "cwd = os.getcwd()\n",
    "print(f'Directory: {cwd}')\n",
    "\n",
    "# Change working directory\n",
    "os.chdir('/Users/tyler/OneDrive/Documents/Python/NBA')\n",
    "\n",
    "# Print working directory\n",
    "cwd = os.getcwd()\n",
    "print(f'Directory: {cwd}')"
   ]
  },
  {
   "cell_type": "markdown",
   "id": "93dc3ba0",
   "metadata": {},
   "source": [
    "## Exploratory Data Analysis"
   ]
  },
  {
   "cell_type": "markdown",
   "id": "14d3bf6a",
   "metadata": {},
   "source": [
    "### Import data"
   ]
  },
  {
   "cell_type": "code",
   "execution_count": 3,
   "id": "2b892e68",
   "metadata": {},
   "outputs": [],
   "source": [
    "df = pd.read_csv('backend/data/details/game_details.csv').drop(['Unnamed: 0'], axis=1)\n",
    "shooting_df = pd.read_csv('backend/data/totals/game_totals.csv').drop(['Unnamed: 0'], axis=1)\n",
    "shooting_df = shooting_df[['date', 'visitor', 'home', 'team', '3p']]"
   ]
  },
  {
   "cell_type": "markdown",
   "id": "90cb91a5",
   "metadata": {},
   "source": [
    "### Basic exploration"
   ]
  },
  {
   "cell_type": "code",
   "execution_count": 4,
   "id": "6ea56a4f",
   "metadata": {},
   "outputs": [
    {
     "name": "stdout",
     "output_type": "stream",
     "text": [
      "<class 'pandas.core.frame.DataFrame'>\n",
      "RangeIndex: 501892 entries, 0 to 501891\n",
      "Data columns (total 26 columns):\n",
      " #   Column      Non-Null Count   Dtype  \n",
      "---  ------      --------------   -----  \n",
      " 0   date        501892 non-null  object \n",
      " 1   visitor     501892 non-null  object \n",
      " 2   home        501892 non-null  object \n",
      " 3   team        501892 non-null  int64  \n",
      " 4   starter     501850 non-null  float64\n",
      " 5   player      501850 non-null  object \n",
      " 6   mp          501850 non-null  object \n",
      " 7   fg          501850 non-null  float64\n",
      " 8   fga         501850 non-null  float64\n",
      " 9   fg_perc     480554 non-null  float64\n",
      " 10  3p          501850 non-null  float64\n",
      " 11  3pa         501850 non-null  float64\n",
      " 12  3p_perc     351479 non-null  float64\n",
      " 13  ft          501850 non-null  float64\n",
      " 14  fta         501850 non-null  float64\n",
      " 15  ft_perc     325671 non-null  float64\n",
      " 16  orb         501850 non-null  float64\n",
      " 17  drb         501850 non-null  float64\n",
      " 18  trb         501850 non-null  float64\n",
      " 19  ast         501850 non-null  float64\n",
      " 20  stl         501850 non-null  float64\n",
      " 21  blk         501850 non-null  float64\n",
      " 22  tov         501850 non-null  float64\n",
      " 23  pf          501850 non-null  float64\n",
      " 24  pts         501850 non-null  float64\n",
      " 25  plus_minus  501780 non-null  float64\n",
      "dtypes: float64(20), int64(1), object(5)\n",
      "memory usage: 99.6+ MB\n"
     ]
    }
   ],
   "source": [
    "df.info()"
   ]
  },
  {
   "cell_type": "code",
   "execution_count": 5,
   "id": "246f881c",
   "metadata": {
    "scrolled": true
   },
   "outputs": [
    {
     "data": {
      "text/html": [
       "<div>\n",
       "<style scoped>\n",
       "    .dataframe tbody tr th:only-of-type {\n",
       "        vertical-align: middle;\n",
       "    }\n",
       "\n",
       "    .dataframe tbody tr th {\n",
       "        vertical-align: top;\n",
       "    }\n",
       "\n",
       "    .dataframe thead th {\n",
       "        text-align: right;\n",
       "    }\n",
       "</style>\n",
       "<table border=\"1\" class=\"dataframe\">\n",
       "  <thead>\n",
       "    <tr style=\"text-align: right;\">\n",
       "      <th></th>\n",
       "      <th>date</th>\n",
       "      <th>visitor</th>\n",
       "      <th>home</th>\n",
       "      <th>team</th>\n",
       "      <th>starter</th>\n",
       "      <th>player</th>\n",
       "      <th>mp</th>\n",
       "      <th>fg</th>\n",
       "      <th>fga</th>\n",
       "      <th>fg_perc</th>\n",
       "      <th>3p</th>\n",
       "      <th>3pa</th>\n",
       "      <th>3p_perc</th>\n",
       "      <th>ft</th>\n",
       "      <th>fta</th>\n",
       "      <th>ft_perc</th>\n",
       "      <th>orb</th>\n",
       "      <th>drb</th>\n",
       "      <th>trb</th>\n",
       "      <th>ast</th>\n",
       "      <th>stl</th>\n",
       "      <th>blk</th>\n",
       "      <th>tov</th>\n",
       "      <th>pf</th>\n",
       "      <th>pts</th>\n",
       "      <th>plus_minus</th>\n",
       "    </tr>\n",
       "  </thead>\n",
       "  <tbody>\n",
       "    <tr>\n",
       "      <th>25222</th>\n",
       "      <td>Tue, Mar 27, 2007</td>\n",
       "      <td>Cleveland Cavaliers</td>\n",
       "      <td>Indiana Pacers</td>\n",
       "      <td>0</td>\n",
       "      <td>1.0</td>\n",
       "      <td>Drew Gooden</td>\n",
       "      <td>31:17</td>\n",
       "      <td>6.0</td>\n",
       "      <td>8.0</td>\n",
       "      <td>0.750</td>\n",
       "      <td>0.0</td>\n",
       "      <td>0.0</td>\n",
       "      <td>NaN</td>\n",
       "      <td>0.0</td>\n",
       "      <td>1.0</td>\n",
       "      <td>0.000</td>\n",
       "      <td>2.0</td>\n",
       "      <td>5.0</td>\n",
       "      <td>7.0</td>\n",
       "      <td>3.0</td>\n",
       "      <td>0.0</td>\n",
       "      <td>0.0</td>\n",
       "      <td>1.0</td>\n",
       "      <td>2.0</td>\n",
       "      <td>12.0</td>\n",
       "      <td>0.0</td>\n",
       "    </tr>\n",
       "    <tr>\n",
       "      <th>23870</th>\n",
       "      <td>Tue, Mar 20, 2007</td>\n",
       "      <td>Cleveland Cavaliers</td>\n",
       "      <td>Charlotte Bobcats</td>\n",
       "      <td>1</td>\n",
       "      <td>0.0</td>\n",
       "      <td>Jeff McInnis</td>\n",
       "      <td>12:47</td>\n",
       "      <td>2.0</td>\n",
       "      <td>3.0</td>\n",
       "      <td>0.667</td>\n",
       "      <td>0.0</td>\n",
       "      <td>0.0</td>\n",
       "      <td>NaN</td>\n",
       "      <td>0.0</td>\n",
       "      <td>0.0</td>\n",
       "      <td>NaN</td>\n",
       "      <td>0.0</td>\n",
       "      <td>0.0</td>\n",
       "      <td>0.0</td>\n",
       "      <td>3.0</td>\n",
       "      <td>0.0</td>\n",
       "      <td>0.0</td>\n",
       "      <td>2.0</td>\n",
       "      <td>2.0</td>\n",
       "      <td>4.0</td>\n",
       "      <td>-1.0</td>\n",
       "    </tr>\n",
       "    <tr>\n",
       "      <th>378220</th>\n",
       "      <td>Mon, Mar 12, 2018</td>\n",
       "      <td>Sacramento Kings</td>\n",
       "      <td>Oklahoma City Thunder</td>\n",
       "      <td>1</td>\n",
       "      <td>0.0</td>\n",
       "      <td>Patrick Patterson</td>\n",
       "      <td>20:50</td>\n",
       "      <td>1.0</td>\n",
       "      <td>5.0</td>\n",
       "      <td>0.200</td>\n",
       "      <td>0.0</td>\n",
       "      <td>4.0</td>\n",
       "      <td>0.000</td>\n",
       "      <td>0.0</td>\n",
       "      <td>0.0</td>\n",
       "      <td>NaN</td>\n",
       "      <td>0.0</td>\n",
       "      <td>7.0</td>\n",
       "      <td>7.0</td>\n",
       "      <td>0.0</td>\n",
       "      <td>1.0</td>\n",
       "      <td>0.0</td>\n",
       "      <td>0.0</td>\n",
       "      <td>1.0</td>\n",
       "      <td>2.0</td>\n",
       "      <td>-5.0</td>\n",
       "    </tr>\n",
       "    <tr>\n",
       "      <th>432977</th>\n",
       "      <td>Wed, Jan 8, 2020</td>\n",
       "      <td>Denver Nuggets</td>\n",
       "      <td>Dallas Mavericks</td>\n",
       "      <td>0</td>\n",
       "      <td>1.0</td>\n",
       "      <td>Nikola Jokić</td>\n",
       "      <td>31:15</td>\n",
       "      <td>12.0</td>\n",
       "      <td>20.0</td>\n",
       "      <td>0.600</td>\n",
       "      <td>4.0</td>\n",
       "      <td>6.0</td>\n",
       "      <td>0.667</td>\n",
       "      <td>5.0</td>\n",
       "      <td>8.0</td>\n",
       "      <td>0.625</td>\n",
       "      <td>2.0</td>\n",
       "      <td>4.0</td>\n",
       "      <td>6.0</td>\n",
       "      <td>7.0</td>\n",
       "      <td>1.0</td>\n",
       "      <td>1.0</td>\n",
       "      <td>3.0</td>\n",
       "      <td>1.0</td>\n",
       "      <td>33.0</td>\n",
       "      <td>-3.0</td>\n",
       "    </tr>\n",
       "    <tr>\n",
       "      <th>494331</th>\n",
       "      <td>Sat, Jan 8, 2022</td>\n",
       "      <td>Utah Jazz</td>\n",
       "      <td>Indiana Pacers</td>\n",
       "      <td>0</td>\n",
       "      <td>1.0</td>\n",
       "      <td>Donovan Mitchell</td>\n",
       "      <td>37:07</td>\n",
       "      <td>13.0</td>\n",
       "      <td>27.0</td>\n",
       "      <td>0.481</td>\n",
       "      <td>6.0</td>\n",
       "      <td>12.0</td>\n",
       "      <td>0.500</td>\n",
       "      <td>4.0</td>\n",
       "      <td>4.0</td>\n",
       "      <td>1.000</td>\n",
       "      <td>1.0</td>\n",
       "      <td>1.0</td>\n",
       "      <td>2.0</td>\n",
       "      <td>9.0</td>\n",
       "      <td>1.0</td>\n",
       "      <td>0.0</td>\n",
       "      <td>2.0</td>\n",
       "      <td>5.0</td>\n",
       "      <td>36.0</td>\n",
       "      <td>-3.0</td>\n",
       "    </tr>\n",
       "  </tbody>\n",
       "</table>\n",
       "</div>"
      ],
      "text/plain": [
       "                     date              visitor                   home  team  \\\n",
       "25222   Tue, Mar 27, 2007  Cleveland Cavaliers         Indiana Pacers     0   \n",
       "23870   Tue, Mar 20, 2007  Cleveland Cavaliers      Charlotte Bobcats     1   \n",
       "378220  Mon, Mar 12, 2018     Sacramento Kings  Oklahoma City Thunder     1   \n",
       "432977   Wed, Jan 8, 2020       Denver Nuggets       Dallas Mavericks     0   \n",
       "494331   Sat, Jan 8, 2022            Utah Jazz         Indiana Pacers     0   \n",
       "\n",
       "        starter             player     mp    fg   fga  fg_perc   3p   3pa  \\\n",
       "25222       1.0        Drew Gooden  31:17   6.0   8.0    0.750  0.0   0.0   \n",
       "23870       0.0       Jeff McInnis  12:47   2.0   3.0    0.667  0.0   0.0   \n",
       "378220      0.0  Patrick Patterson  20:50   1.0   5.0    0.200  0.0   4.0   \n",
       "432977      1.0       Nikola Jokić  31:15  12.0  20.0    0.600  4.0   6.0   \n",
       "494331      1.0   Donovan Mitchell  37:07  13.0  27.0    0.481  6.0  12.0   \n",
       "\n",
       "        3p_perc   ft  fta  ft_perc  orb  drb  trb  ast  stl  blk  tov   pf  \\\n",
       "25222       NaN  0.0  1.0    0.000  2.0  5.0  7.0  3.0  0.0  0.0  1.0  2.0   \n",
       "23870       NaN  0.0  0.0      NaN  0.0  0.0  0.0  3.0  0.0  0.0  2.0  2.0   \n",
       "378220    0.000  0.0  0.0      NaN  0.0  7.0  7.0  0.0  1.0  0.0  0.0  1.0   \n",
       "432977    0.667  5.0  8.0    0.625  2.0  4.0  6.0  7.0  1.0  1.0  3.0  1.0   \n",
       "494331    0.500  4.0  4.0    1.000  1.0  1.0  2.0  9.0  1.0  0.0  2.0  5.0   \n",
       "\n",
       "         pts  plus_minus  \n",
       "25222   12.0         0.0  \n",
       "23870    4.0        -1.0  \n",
       "378220   2.0        -5.0  \n",
       "432977  33.0        -3.0  \n",
       "494331  36.0        -3.0  "
      ]
     },
     "execution_count": 5,
     "metadata": {},
     "output_type": "execute_result"
    }
   ],
   "source": [
    "df.sample(5)"
   ]
  },
  {
   "cell_type": "code",
   "execution_count": 6,
   "id": "f6e5faf1",
   "metadata": {},
   "outputs": [],
   "source": [
    "def convert_mp(mp):\n",
    "    if mp == '0':\n",
    "        return 0\n",
    "    else:\n",
    "        mins = int(mp.split(':')[0])\n",
    "        secs = int(mp.split(':')[1]) / 60\n",
    "        return mins + secs"
   ]
  },
  {
   "cell_type": "code",
   "execution_count": 7,
   "id": "8c5ab601",
   "metadata": {
    "scrolled": false
   },
   "outputs": [
    {
     "ename": "AttributeError",
     "evalue": "'int' object has no attribute 'split'",
     "output_type": "error",
     "traceback": [
      "\u001b[1;31m---------------------------------------------------------------------------\u001b[0m",
      "\u001b[1;31mAttributeError\u001b[0m                            Traceback (most recent call last)",
      "\u001b[1;32m~\\AppData\\Local\\Temp/ipykernel_11380/474994510.py\u001b[0m in \u001b[0;36m<module>\u001b[1;34m\u001b[0m\n\u001b[0;32m      9\u001b[0m \u001b[1;33m\u001b[0m\u001b[0m\n\u001b[0;32m     10\u001b[0m \u001b[1;31m# Convert 'minutes played' to float\u001b[0m\u001b[1;33m\u001b[0m\u001b[1;33m\u001b[0m\u001b[1;33m\u001b[0m\u001b[0m\n\u001b[1;32m---> 11\u001b[1;33m \u001b[0mdf\u001b[0m\u001b[1;33m[\u001b[0m\u001b[1;34m'mp'\u001b[0m\u001b[1;33m]\u001b[0m \u001b[1;33m=\u001b[0m \u001b[0mdf\u001b[0m\u001b[1;33m[\u001b[0m\u001b[1;34m'mp'\u001b[0m\u001b[1;33m]\u001b[0m\u001b[1;33m.\u001b[0m\u001b[0mapply\u001b[0m\u001b[1;33m(\u001b[0m\u001b[1;32mlambda\u001b[0m \u001b[0mx\u001b[0m\u001b[1;33m:\u001b[0m \u001b[0mconvert_mp\u001b[0m\u001b[1;33m(\u001b[0m\u001b[0mx\u001b[0m\u001b[1;33m)\u001b[0m\u001b[1;33m)\u001b[0m\u001b[1;33m\u001b[0m\u001b[1;33m\u001b[0m\u001b[0m\n\u001b[0m\u001b[0;32m     12\u001b[0m \u001b[1;33m\u001b[0m\u001b[0m\n\u001b[0;32m     13\u001b[0m \u001b[1;31m# Set stats\u001b[0m\u001b[1;33m\u001b[0m\u001b[1;33m\u001b[0m\u001b[1;33m\u001b[0m\u001b[0m\n",
      "\u001b[1;32mc:\\python38\\lib\\site-packages\\pandas\\core\\series.py\u001b[0m in \u001b[0;36mapply\u001b[1;34m(self, func, convert_dtype, args, **kwds)\u001b[0m\n\u001b[0;32m   4136\u001b[0m             \u001b[1;32melse\u001b[0m\u001b[1;33m:\u001b[0m\u001b[1;33m\u001b[0m\u001b[1;33m\u001b[0m\u001b[0m\n\u001b[0;32m   4137\u001b[0m                 \u001b[0mvalues\u001b[0m \u001b[1;33m=\u001b[0m \u001b[0mself\u001b[0m\u001b[1;33m.\u001b[0m\u001b[0mastype\u001b[0m\u001b[1;33m(\u001b[0m\u001b[0mobject\u001b[0m\u001b[1;33m)\u001b[0m\u001b[1;33m.\u001b[0m\u001b[0m_values\u001b[0m\u001b[1;33m\u001b[0m\u001b[1;33m\u001b[0m\u001b[0m\n\u001b[1;32m-> 4138\u001b[1;33m                 \u001b[0mmapped\u001b[0m \u001b[1;33m=\u001b[0m \u001b[0mlib\u001b[0m\u001b[1;33m.\u001b[0m\u001b[0mmap_infer\u001b[0m\u001b[1;33m(\u001b[0m\u001b[0mvalues\u001b[0m\u001b[1;33m,\u001b[0m \u001b[0mf\u001b[0m\u001b[1;33m,\u001b[0m \u001b[0mconvert\u001b[0m\u001b[1;33m=\u001b[0m\u001b[0mconvert_dtype\u001b[0m\u001b[1;33m)\u001b[0m\u001b[1;33m\u001b[0m\u001b[1;33m\u001b[0m\u001b[0m\n\u001b[0m\u001b[0;32m   4139\u001b[0m \u001b[1;33m\u001b[0m\u001b[0m\n\u001b[0;32m   4140\u001b[0m         \u001b[1;32mif\u001b[0m \u001b[0mlen\u001b[0m\u001b[1;33m(\u001b[0m\u001b[0mmapped\u001b[0m\u001b[1;33m)\u001b[0m \u001b[1;32mand\u001b[0m \u001b[0misinstance\u001b[0m\u001b[1;33m(\u001b[0m\u001b[0mmapped\u001b[0m\u001b[1;33m[\u001b[0m\u001b[1;36m0\u001b[0m\u001b[1;33m]\u001b[0m\u001b[1;33m,\u001b[0m \u001b[0mSeries\u001b[0m\u001b[1;33m)\u001b[0m\u001b[1;33m:\u001b[0m\u001b[1;33m\u001b[0m\u001b[1;33m\u001b[0m\u001b[0m\n",
      "\u001b[1;32mpandas\\_libs\\lib.pyx\u001b[0m in \u001b[0;36mpandas._libs.lib.map_infer\u001b[1;34m()\u001b[0m\n",
      "\u001b[1;32m~\\AppData\\Local\\Temp/ipykernel_11380/474994510.py\u001b[0m in \u001b[0;36m<lambda>\u001b[1;34m(x)\u001b[0m\n\u001b[0;32m      9\u001b[0m \u001b[1;33m\u001b[0m\u001b[0m\n\u001b[0;32m     10\u001b[0m \u001b[1;31m# Convert 'minutes played' to float\u001b[0m\u001b[1;33m\u001b[0m\u001b[1;33m\u001b[0m\u001b[1;33m\u001b[0m\u001b[0m\n\u001b[1;32m---> 11\u001b[1;33m \u001b[0mdf\u001b[0m\u001b[1;33m[\u001b[0m\u001b[1;34m'mp'\u001b[0m\u001b[1;33m]\u001b[0m \u001b[1;33m=\u001b[0m \u001b[0mdf\u001b[0m\u001b[1;33m[\u001b[0m\u001b[1;34m'mp'\u001b[0m\u001b[1;33m]\u001b[0m\u001b[1;33m.\u001b[0m\u001b[0mapply\u001b[0m\u001b[1;33m(\u001b[0m\u001b[1;32mlambda\u001b[0m \u001b[0mx\u001b[0m\u001b[1;33m:\u001b[0m \u001b[0mconvert_mp\u001b[0m\u001b[1;33m(\u001b[0m\u001b[0mx\u001b[0m\u001b[1;33m)\u001b[0m\u001b[1;33m)\u001b[0m\u001b[1;33m\u001b[0m\u001b[1;33m\u001b[0m\u001b[0m\n\u001b[0m\u001b[0;32m     12\u001b[0m \u001b[1;33m\u001b[0m\u001b[0m\n\u001b[0;32m     13\u001b[0m \u001b[1;31m# Set stats\u001b[0m\u001b[1;33m\u001b[0m\u001b[1;33m\u001b[0m\u001b[1;33m\u001b[0m\u001b[0m\n",
      "\u001b[1;32m~\\AppData\\Local\\Temp/ipykernel_11380/3965574942.py\u001b[0m in \u001b[0;36mconvert_mp\u001b[1;34m(mp)\u001b[0m\n\u001b[0;32m      3\u001b[0m         \u001b[1;32mreturn\u001b[0m \u001b[1;36m0\u001b[0m\u001b[1;33m\u001b[0m\u001b[1;33m\u001b[0m\u001b[0m\n\u001b[0;32m      4\u001b[0m     \u001b[1;32melse\u001b[0m\u001b[1;33m:\u001b[0m\u001b[1;33m\u001b[0m\u001b[1;33m\u001b[0m\u001b[0m\n\u001b[1;32m----> 5\u001b[1;33m         \u001b[0mmins\u001b[0m \u001b[1;33m=\u001b[0m \u001b[0mint\u001b[0m\u001b[1;33m(\u001b[0m\u001b[0mmp\u001b[0m\u001b[1;33m.\u001b[0m\u001b[0msplit\u001b[0m\u001b[1;33m(\u001b[0m\u001b[1;34m':'\u001b[0m\u001b[1;33m)\u001b[0m\u001b[1;33m[\u001b[0m\u001b[1;36m0\u001b[0m\u001b[1;33m]\u001b[0m\u001b[1;33m)\u001b[0m\u001b[1;33m\u001b[0m\u001b[1;33m\u001b[0m\u001b[0m\n\u001b[0m\u001b[0;32m      6\u001b[0m         \u001b[0msecs\u001b[0m \u001b[1;33m=\u001b[0m \u001b[0mint\u001b[0m\u001b[1;33m(\u001b[0m\u001b[0mmp\u001b[0m\u001b[1;33m.\u001b[0m\u001b[0msplit\u001b[0m\u001b[1;33m(\u001b[0m\u001b[1;34m':'\u001b[0m\u001b[1;33m)\u001b[0m\u001b[1;33m[\u001b[0m\u001b[1;36m1\u001b[0m\u001b[1;33m]\u001b[0m\u001b[1;33m)\u001b[0m \u001b[1;33m/\u001b[0m \u001b[1;36m60\u001b[0m\u001b[1;33m\u001b[0m\u001b[1;33m\u001b[0m\u001b[0m\n\u001b[0;32m      7\u001b[0m         \u001b[1;32mreturn\u001b[0m \u001b[0mmins\u001b[0m \u001b[1;33m+\u001b[0m \u001b[0msecs\u001b[0m\u001b[1;33m\u001b[0m\u001b[1;33m\u001b[0m\u001b[0m\n",
      "\u001b[1;31mAttributeError\u001b[0m: 'int' object has no attribute 'split'"
     ]
    }
   ],
   "source": [
    "# Fill NaN\n",
    "df = df.fillna(0)\n",
    "\n",
    "# Convert 'date' column to Date object\n",
    "df['date'] = pd.to_datetime(df['date'])\n",
    "\n",
    "# Convert 'team' column to Team Name\n",
    "df['team'] = np.where(df['team'], df['home'], df['visitor'])\n",
    "\n",
    "# Convert 'minutes played' to float\n",
    "df['mp'] = df['mp'].apply(lambda x: convert_mp(x))\n",
    "\n",
    "# Set stats\n",
    "stats = ['fg', 'fga', 'fg_perc', '3p', '3pa', '3p_perc', 'ft', 'fta', 'ft_perc', \n",
    "         'orb', 'drb', 'trb', 'ast', 'stl', 'blk', 'tov', 'pf', 'pts', 'plus_minus', 'mp']\n",
    "\n",
    "df.info()"
   ]
  },
  {
   "cell_type": "code",
   "execution_count": null,
   "id": "db4d31c3",
   "metadata": {},
   "outputs": [],
   "source": [
    "# Team total stats\n",
    "teams_df = df.groupby(['date', 'visitor', 'home', 'team']).sum().reset_index()"
   ]
  },
  {
   "cell_type": "code",
   "execution_count": null,
   "id": "cf4173eb",
   "metadata": {},
   "outputs": [],
   "source": [
    "# Rename target variable\n",
    "shooting_df = shooting_df.rename({'3p': 'target'}, axis=1)\n",
    "\n",
    "# Convert 'date' column to Date object\n",
    "shooting_df['date'] = pd.to_datetime(shooting_df['date'])\n",
    "\n",
    "# Convert 'team' column to Team Name\n",
    "shooting_df['team'] = np.where(shooting_df['team'], shooting_df['home'], shooting_df['visitor'])"
   ]
  },
  {
   "cell_type": "code",
   "execution_count": null,
   "id": "ef5b7422",
   "metadata": {},
   "outputs": [],
   "source": [
    "# Starters total stats\n",
    "starters_df = df[df['starter'] == 1].groupby(['date', 'visitor', 'home', 'team']).aggregate(['sum', 'mean'])\n",
    "cols = [col for col in starters_df.columns\n",
    "        if (col[0] in stats and col[1] == 'mean' and '_perc' in col[0]) or \\\n",
    "           (col[0] in stats and col[1] == 'sum' and '_perc' not in col[0])]\n",
    "starters_df = starters_df[cols]\n",
    "starters_df.columns = [col[0] for col in starters_df.columns]\n",
    "starters_df = starters_df.reset_index()\n",
    "\n",
    "# Merge dataframes to have target variable\n",
    "starters_df = pd.merge(starters_df, shooting_df, \n",
    "                       left_on=['date', 'visitor', 'home', 'team'], right_on=['date', 'visitor', 'home', 'team'],\n",
    "                       how='left')"
   ]
  },
  {
   "cell_type": "code",
   "execution_count": null,
   "id": "1b75dd4b",
   "metadata": {},
   "outputs": [],
   "source": [
    "# Bench total stats\n",
    "bench_df = df[df['starter'] == 0].groupby(['date', 'visitor', 'home', 'team']).aggregate(['sum', 'mean'])\n",
    "cols = [col for col in bench_df.columns\n",
    "        if (col[0] in stats and col[1] == 'mean' and '_perc' in col[0]) or \\\n",
    "           (col[0] in stats and col[1] == 'sum' and '_perc' not in col[0])]\n",
    "bench_df = bench_df[cols]\n",
    "bench_df.columns = [col[0] for col in bench_df.columns]\n",
    "bench_df = bench_df.reset_index()\n",
    "\n",
    "# Merge dataframes to have target variable\n",
    "bench_df = pd.merge(bench_df, shooting_df, \n",
    "                    left_on=['date', 'visitor', 'home', 'team'], right_on=['date', 'visitor', 'home', 'team'],\n",
    "                    how='left')"
   ]
  },
  {
   "cell_type": "markdown",
   "id": "e605fdbd",
   "metadata": {},
   "source": [
    "# Dataframe of team's last 15 performances"
   ]
  },
  {
   "cell_type": "code",
   "execution_count": null,
   "id": "8cc5d0a4",
   "metadata": {},
   "outputs": [],
   "source": [
    "# Return ten lastest dates team played\n",
    "def last_15_date(team, date):\n",
    "    schedule = teams_df[teams_df['team'] == team].sort_values(by='date').reset_index()\n",
    "    date_index = schedule[schedule['date'] == date].index[0]\n",
    "    if date_index - 15 < 0:\n",
    "        return None, None, None, None, None, None, None, None, None, None, None, None, None, None, None\n",
    "    else:\n",
    "        date_1, date_2 = schedule.iloc[date_index - 1]['date'], schedule.iloc[date_index - 2]['date']\n",
    "        date_3, date_4 = schedule.iloc[date_index - 3]['date'], schedule.iloc[date_index - 4]['date']\n",
    "        date_5, date_6 = schedule.iloc[date_index - 5]['date'], schedule.iloc[date_index - 6]['date']\n",
    "        date_7, date_8 = schedule.iloc[date_index - 7]['date'], schedule.iloc[date_index - 8]['date']\n",
    "        date_9, date_10 = schedule.iloc[date_index - 9]['date'], schedule.iloc[date_index - 10]['date']\n",
    "        date_11, date_12 = schedule.iloc[date_index - 11]['date'], schedule.iloc[date_index - 12]['date']\n",
    "        date_13, date_14 = schedule.iloc[date_index - 13]['date'], schedule.iloc[date_index - 14]['date']\n",
    "        date_15 = schedule.iloc[date_index - 15]['date']\n",
    "        return date_1, date_2, date_3, date_4, date_5, date_6, date_7, date_8, date_9, date_10, date_11, date_12, date_13, date_14, date_15\n",
    "\n",
    "teams_df['dates'] = teams_df.apply(lambda x: last_15_date(x.team, x.date), axis=1)\n",
    "teams_df['date_1'], teams_df['date_2'] = teams_df['dates'].apply(lambda x: x[0]), teams_df['dates'].apply(lambda x: x[1])\n",
    "teams_df['date_3'], teams_df['date_4'] = teams_df['dates'].apply(lambda x: x[2]), teams_df['dates'].apply(lambda x: x[3])\n",
    "teams_df['date_5'], teams_df['date_6'] = teams_df['dates'].apply(lambda x: x[4]), teams_df['dates'].apply(lambda x: x[5])\n",
    "teams_df['date_7'], teams_df['date_8'] = teams_df['dates'].apply(lambda x: x[6]), teams_df['dates'].apply(lambda x: x[7])\n",
    "teams_df['date_9'], teams_df['date_10'] = teams_df['dates'].apply(lambda x: x[8]), teams_df['dates'].apply(lambda x: x[9])\n",
    "teams_df['date_11'], teams_df['date_12'] = teams_df['dates'].apply(lambda x: x[10]), teams_df['dates'].apply(lambda x: x[11])\n",
    "teams_df['date_13'], teams_df['date_14'] = teams_df['dates'].apply(lambda x: x[12]), teams_df['dates'].apply(lambda x: x[13])\n",
    "teams_df['date_15'] = teams_df['dates'].apply(lambda x: x[14])"
   ]
  },
  {
   "cell_type": "code",
   "execution_count": null,
   "id": "877f71a7",
   "metadata": {},
   "outputs": [],
   "source": [
    "# Keep date columns in teams\n",
    "cols = [col for col in teams_df.columns\n",
    "        if ('date_' in col) or \\\n",
    "        (col in ['date', 'visitor', 'home', 'team'])]\n",
    "teams_df = teams_df[cols]\n",
    "\n",
    "# Merge dates with starters\n",
    "starters_df = pd.merge(starters_df, teams_df, \n",
    "                       left_on=['date', 'visitor', 'home', 'team'], \n",
    "                       right_on=['date', 'visitor', 'home', 'team'],\n",
    "                       how='left')\n",
    "\n",
    "# Merge dates with bench\n",
    "bench_df = pd.merge(bench_df, teams_df, \n",
    "                    left_on=['date', 'visitor', 'home', 'team'], \n",
    "                    right_on=['date', 'visitor', 'home', 'team'],\n",
    "                    how='left')"
   ]
  },
  {
   "cell_type": "code",
   "execution_count": null,
   "id": "47d28f34",
   "metadata": {},
   "outputs": [],
   "source": [
    "# Calculate z-score\n",
    "def z_score(value, mean, std):\n",
    "    return (value - mean) / std"
   ]
  },
  {
   "cell_type": "code",
   "execution_count": null,
   "id": "c6a5e1a8",
   "metadata": {},
   "outputs": [],
   "source": [
    "# Calculate perc difference\n",
    "def perc_diff(value, mean):\n",
    "    return (value - mean) / mean"
   ]
  },
  {
   "cell_type": "markdown",
   "id": "27b31e56",
   "metadata": {},
   "source": [
    "# Starters Analysis"
   ]
  },
  {
   "cell_type": "code",
   "execution_count": null,
   "id": "ed92a099",
   "metadata": {},
   "outputs": [],
   "source": [
    "# X and y column names to merge on\n",
    "y_cols = starters_df.columns\n",
    "x_cols = ['date', 'team'] + stats\n",
    "\n",
    "last_15_games = starters_df[y_cols]\n",
    "X = starters_df[x_cols]\n",
    "\n",
    "# Dataframe of target (3pt made by each team) and of variables (last 5 games stats for each team)\n",
    "dates = ['_1', '_2', '_3', '_4', '_5', '_6', '_7', '_8', '_9', '_10', '_11', '_12', '_13', '_14', '_15']\n",
    "for date in dates:\n",
    "    last_15_games = pd.merge(last_15_games, X, left_on=['date' + date, 'team'], right_on=['date', 'team'], how='left', suffixes=('', date))\n",
    "\n",
    "last_15_games.head()"
   ]
  },
  {
   "cell_type": "markdown",
   "id": "bab8b04b",
   "metadata": {},
   "source": [
    "### Last 15 Performances (Unweighted)"
   ]
  },
  {
   "cell_type": "code",
   "execution_count": null,
   "id": "afd174d2",
   "metadata": {},
   "outputs": [],
   "source": [
    "dates = ['_1', '_2', '_3', '_4', '_5', '_6', '_7', '_8', '_9', '_10', '_11', '_12', '_13', '_14', '_15']\n",
    "cols = ['date', 'visitor', 'home', 'team', 'target'] + \\\n",
    "    [tup[0] + tup[1] for tup in list(itertools.product(stats, dates))]\n",
    "\n",
    "last_15_games_unweighted = last_15_games[cols].copy()\n",
    "\n",
    "# Calculate mean for each stat over a team's last performance\n",
    "for stat in stats:\n",
    "    last_15_games_unweighted[stat] = 0\n",
    "    for date in dates:\n",
    "        last_15_games_unweighted[stat] = last_15_games_unweighted[stat] + last_15_games_unweighted[stat + date]\n",
    "    \n",
    "    last_15_games_unweighted[stat] = last_15_games_unweighted[stat] / len(dates)\n",
    "    \n",
    "# Calculate standard deviation for each stat over a team's performance\n",
    "for stat in stats:\n",
    "    last_15_games_unweighted[stat + '_std'] = 0\n",
    "    for date in dates:\n",
    "        last_15_games_unweighted[stat + '_std'] = last_15_games_unweighted[stat + '_std'] + \\\n",
    "                                                    ((last_15_games_unweighted[stat + date] - last_15_games_unweighted[stat]) ** 2)\n",
    "    \n",
    "    last_15_games_unweighted[stat + '_std'] = last_15_games_unweighted[stat + '_std'] / len(dates)\n",
    "    last_15_games_unweighted[stat + '_std'] = last_15_games_unweighted[stat + '_std'] ** .5\n",
    "\n",
    "# Feature engineer trends\n",
    "for stat in stats:\n",
    "    last_15_games_unweighted[stat + '_trend'] = 0\n",
    "    for date in dates[:10]:\n",
    "        last_15_games_unweighted[stat + '_trend'] = last_15_games_unweighted[stat + '_trend'] + \\\n",
    "                                        z_score(last_15_games_unweighted[stat + date], last_15_games_unweighted[stat], last_15_games_unweighted[stat + '_std']).fillna(0)\n",
    "    \n",
    "    last_15_games_unweighted[stat + '_trend'] = last_15_games_unweighted[stat + '_trend'] / len(dates[:10])\n",
    "\n",
    "last_15_games_unweighted = last_15_games_unweighted.groupby(['date', 'visitor', 'home']).aggregate(['mean', 'sum'])\n",
    "\n",
    "last_15_game_cols = [col \n",
    "                    for col in last_15_games_unweighted.columns\n",
    "                    if (col[0] == 'target' and col[1] == 'sum') or \\\n",
    "                       (col[0] in stats and col[1] == 'sum' and '_perc' not in col[0]) or \\\n",
    "                       (col[0] in stats and col[1] == 'mean' and '_perc' in col[0]) or \\\n",
    "                       ('_trend' in col[0] and col[1] == 'sum')]\n",
    "\n",
    "starters_15_games = last_15_games_unweighted[last_15_game_cols].dropna(axis=0).copy()\n",
    "starters_15_games.columns = [col[0] for col in starters_15_games.columns]"
   ]
  },
  {
   "cell_type": "markdown",
   "id": "006a5d49",
   "metadata": {},
   "source": [
    "## Correlations"
   ]
  },
  {
   "cell_type": "code",
   "execution_count": null,
   "id": "cee58307",
   "metadata": {
    "scrolled": false
   },
   "outputs": [],
   "source": [
    "corr_df = pd.DataFrame()\n",
    "\n",
    "# Correlations for last 15 game stats vs 3pt made (unweighted)\n",
    "for col in starters_15_games:\n",
    "    corr_p = pearsonr(starters_15_games['target'], starters_15_games[col])\n",
    "    row = {'stat': col, 'corr': round(corr_p[0], 2), 'p-value': round(corr_p[1], 2)}\n",
    "    corr_df = corr_df.append(row, ignore_index=True)\n",
    "    \n",
    "# Print statistically significant correlations\n",
    "starters_corr = corr_df[corr_df['p-value'] < .05].sort_values(['corr'], axis=0, ascending=False)\n",
    "starters_corr"
   ]
  },
  {
   "cell_type": "markdown",
   "id": "9a6f20f7",
   "metadata": {},
   "source": [
    "## Bench Analysis"
   ]
  },
  {
   "cell_type": "code",
   "execution_count": null,
   "id": "a6f7e8ab",
   "metadata": {},
   "outputs": [],
   "source": [
    "# X and y column names to merge on\n",
    "y_cols = bench_df.columns\n",
    "x_cols = ['date', 'team'] + stats\n",
    "\n",
    "last_15_games = bench_df[y_cols]\n",
    "X = bench_df[x_cols]\n",
    "\n",
    "# Dataframe of target (3pt made by each team) and of variables (last 5 games stats for each team)\n",
    "dates = ['_1', '_2', '_3', '_4', '_5', '_6', '_7', '_8', '_9', '_10', '_11', '_12', '_13', '_14', '_15']\n",
    "for date in dates:\n",
    "    last_15_games = pd.merge(last_15_games, X, left_on=['date' + date, 'team'], right_on=['date', 'team'], how='left', suffixes=('', date))"
   ]
  },
  {
   "cell_type": "markdown",
   "id": "05bc652b",
   "metadata": {},
   "source": [
    "### Last 15 Performances (Unweighted)"
   ]
  },
  {
   "cell_type": "code",
   "execution_count": null,
   "id": "5c1bebb5",
   "metadata": {},
   "outputs": [],
   "source": [
    "dates = ['_1', '_2', '_3', '_4', '_5', '_6', '_7', '_8', '_9', '_10', '_11', '_12', '_13', '_14', '_15']\n",
    "cols = ['date', 'visitor', 'home', 'team', 'target'] + \\\n",
    "    [tup[0] + tup[1] for tup in list(itertools.product(stats, dates))]\n",
    "\n",
    "last_15_games_unweighted = last_15_games[cols].copy()\n",
    "\n",
    "# Calculate mean for each stat over a team's last performance\n",
    "for stat in stats:\n",
    "    last_15_games_unweighted[stat] = 0\n",
    "    for date in dates:\n",
    "        last_15_games_unweighted[stat] = last_15_games_unweighted[stat] + last_15_games_unweighted[stat + date]\n",
    "    \n",
    "    last_15_games_unweighted[stat] = last_15_games_unweighted[stat] / len(dates)\n",
    "    \n",
    "# Calculate standard deviation for each stat over a team's performance\n",
    "for stat in stats:\n",
    "    last_15_games_unweighted[stat + '_std'] = 0\n",
    "    for date in dates:\n",
    "        last_15_games_unweighted[stat + '_std'] = last_15_games_unweighted[stat + '_std'] + \\\n",
    "                                                    ((last_15_games_unweighted[stat + date] - last_15_games_unweighted[stat]) ** 2)\n",
    "    \n",
    "    last_15_games_unweighted[stat + '_std'] = last_15_games_unweighted[stat + '_std'] / len(dates)\n",
    "    last_15_games_unweighted[stat + '_std'] = last_15_games_unweighted[stat + '_std'] ** .5\n",
    "\n",
    "# Feature engineer trends\n",
    "for stat in stats:\n",
    "    last_15_games_unweighted[stat + '_trend'] = 0\n",
    "    for date in dates[:10]:\n",
    "        last_15_games_unweighted[stat + '_trend'] = last_15_games_unweighted[stat + '_trend'] + \\\n",
    "                                        z_score(last_15_games_unweighted[stat + date], last_15_games_unweighted[stat], last_15_games_unweighted[stat + '_std']).fillna(0)\n",
    "    \n",
    "    last_15_games_unweighted[stat + '_trend'] = last_15_games_unweighted[stat + '_trend'] / len(dates[:10])\n",
    "\n",
    "last_15_games_unweighted = last_15_games_unweighted.groupby(['date', 'visitor', 'home']).aggregate(['mean', 'sum'])\n",
    "\n",
    "last_15_game_cols = [col \n",
    "                    for col in last_15_games_unweighted.columns\n",
    "                    if (col[0] == 'target' and col[1] == 'sum') or \\\n",
    "                       (col[0] in stats and col[1] == 'sum' and '_perc' not in col[0]) or \\\n",
    "                       (col[0] in stats and col[1] == 'mean' and '_perc' in col[0]) or \\\n",
    "                       ('_trend' in col[0] and col[1] == 'sum')]\n",
    "\n",
    "bench_15_games = last_15_games_unweighted[last_15_game_cols].dropna(axis=0).copy()\n",
    "bench_15_games.columns = [col[0] for col in bench_15_games.columns]"
   ]
  },
  {
   "cell_type": "markdown",
   "id": "f9cb5fb2",
   "metadata": {},
   "source": [
    "## Correlations of Bench"
   ]
  },
  {
   "cell_type": "code",
   "execution_count": null,
   "id": "e8c9f3c5",
   "metadata": {},
   "outputs": [],
   "source": [
    "corr_df = pd.DataFrame()\n",
    "\n",
    "# Correlations for last 15 game stats vs 3pt made (unweighted)\n",
    "for col in bench_15_games:\n",
    "    corr_p = pearsonr(bench_15_games['target'], bench_15_games[col])\n",
    "    row = {'stat': col, 'corr': round(corr_p[0], 2), 'p-value': round(corr_p[1], 2)}\n",
    "    corr_df = corr_df.append(row, ignore_index=True)\n",
    "    \n",
    "# Print statistically significant correlations\n",
    "bench_corr = corr_df[corr_df['p-value'] < .05].sort_values(['corr'], axis=0, ascending=False)\n",
    "bench_corr"
   ]
  },
  {
   "cell_type": "markdown",
   "id": "5967d7cd",
   "metadata": {},
   "source": [
    "# Comparison of Starters to Bench"
   ]
  },
  {
   "cell_type": "code",
   "execution_count": null,
   "id": "16d10cb5",
   "metadata": {
    "scrolled": true
   },
   "outputs": [],
   "source": [
    "corr_df = pd.merge(starters_corr.drop(['p-value'], axis=1), \n",
    "                   bench_corr.drop(['p-value'], axis=1),\n",
    "                   left_on=['stat'], right_on=['stat'],\n",
    "                   how='outer',\n",
    "                   suffixes=['_starter', '_bench'])\n",
    "corr_df.sort_values(['stat'], axis=0)"
   ]
  },
  {
   "cell_type": "markdown",
   "id": "54f5f028",
   "metadata": {},
   "source": [
    "## Save dataframe with significantly correlated stats"
   ]
  },
  {
   "cell_type": "code",
   "execution_count": null,
   "id": "587bdb74",
   "metadata": {},
   "outputs": [],
   "source": [
    "starter_stats = starters_corr[starters_corr['corr'].abs() >= .4]['stat']\n",
    "starters_df = starters_15_games[starter_stats]\n",
    "\n",
    "bench_stats = bench_corr[bench_corr['corr'].abs() >= .4]['stat']\n",
    "bench_df = bench_15_games[bench_stats]\n",
    "\n",
    "df = pd.merge(starters_df, bench_df, \n",
    "              left_on=['date', 'visitor', 'home'], \n",
    "              right_on=['date', 'visitor', 'home'], \n",
    "              how='outer', suffixes=['_starters', '_bench'])\n",
    "\n",
    "df = df.drop(['target_bench', 'target_starters'], axis=1)\n",
    "\n",
    "df.to_csv('backend/data/inputs/3p/game_details.csv')"
   ]
  }
 ],
 "metadata": {
  "kernelspec": {
   "display_name": "Python 3 (ipykernel)",
   "language": "python",
   "name": "python3"
  },
  "language_info": {
   "codemirror_mode": {
    "name": "ipython",
    "version": 3
   },
   "file_extension": ".py",
   "mimetype": "text/x-python",
   "name": "python",
   "nbconvert_exporter": "python",
   "pygments_lexer": "ipython3",
   "version": "3.8.2"
  }
 },
 "nbformat": 4,
 "nbformat_minor": 5
}
