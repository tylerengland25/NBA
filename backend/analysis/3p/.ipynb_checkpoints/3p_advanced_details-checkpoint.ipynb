{
 "cells": [
  {
   "cell_type": "markdown",
   "id": "2adf4802",
   "metadata": {},
   "source": [
    "# 3 Pointers Made against advanced_details.csv"
   ]
  },
  {
   "cell_type": "markdown",
   "id": "2a13c3b0",
   "metadata": {},
   "source": [
    "### Import packages"
   ]
  },
  {
   "cell_type": "code",
   "execution_count": 1,
   "id": "75e8ba88",
   "metadata": {},
   "outputs": [],
   "source": [
    "import os\n",
    "import numpy as np\n",
    "import pandas as pd\n",
    "import seaborn as sns\n",
    "from scipy.stats import pearsonr\n",
    "import itertools\n",
    "\n",
    "pd.set_option(\"display.max_columns\", None)"
   ]
  },
  {
   "cell_type": "markdown",
   "id": "4ea46417",
   "metadata": {},
   "source": [
    "### Set working directory"
   ]
  },
  {
   "cell_type": "code",
   "execution_count": 2,
   "id": "c0889f64",
   "metadata": {},
   "outputs": [
    {
     "name": "stdout",
     "output_type": "stream",
     "text": [
      "Directory: C:\\Users\\tyler\\OneDrive\\Documents\\Python\\NBA\\backend\\analysis\\3p\n",
      "Directory: C:\\Users\\tyler\\OneDrive\\Documents\\Python\\NBA\n"
     ]
    }
   ],
   "source": [
    "# Print working directory\n",
    "cwd = os.getcwd()\n",
    "print(f'Directory: {cwd}')\n",
    "\n",
    "# Change working directory\n",
    "os.chdir('/Users/tyler/OneDrive/Documents/Python/NBA')\n",
    "\n",
    "# Print working directory\n",
    "cwd = os.getcwd()\n",
    "print(f'Directory: {cwd}')"
   ]
  },
  {
   "cell_type": "markdown",
   "id": "93dc3ba0",
   "metadata": {},
   "source": [
    "## Exploratory Data Analysis"
   ]
  },
  {
   "cell_type": "markdown",
   "id": "14d3bf6a",
   "metadata": {},
   "source": [
    "### Import data"
   ]
  },
  {
   "cell_type": "code",
   "execution_count": null,
   "id": "2b892e68",
   "metadata": {},
   "outputs": [],
   "source": [
    "df = pd.read_csv('backend/data/details/advanced_details.csv').drop(['Unnamed: 0'], axis=1)\n",
    "shooting_df = pd.read_csv('backend/data/totals/game_totals.csv').drop(['Unnamed: 0'], axis=1)\n",
    "shooting_df = shooting_df[['date', 'visitor', 'home', 'team', '3p']]"
   ]
  },
  {
   "cell_type": "code",
   "execution_count": null,
   "id": "7edc04f7",
   "metadata": {},
   "outputs": [],
   "source": [
    "# Rename target variable\n",
    "shooting_df = shooting_df.rename({'3p': 'target'}, axis=1)\n",
    "\n",
    "# Merge dataframes to have target variable\n",
    "df = pd.merge(df, shooting_df, \n",
    "              left_on=['date', 'visitor', 'home', 'team'], right_on=['date', 'visitor', 'home', 'team'],\n",
    "              how='left')"
   ]
  },
  {
   "cell_type": "markdown",
   "id": "90cb91a5",
   "metadata": {},
   "source": [
    "### Basic exploration"
   ]
  },
  {
   "cell_type": "code",
   "execution_count": null,
   "id": "6ea56a4f",
   "metadata": {},
   "outputs": [],
   "source": [
    "df.info()"
   ]
  },
  {
   "cell_type": "code",
   "execution_count": null,
   "id": "246f881c",
   "metadata": {
    "scrolled": false
   },
   "outputs": [],
   "source": [
    "df.sample(5)"
   ]
  },
  {
   "cell_type": "code",
   "execution_count": null,
   "id": "910ff26e",
   "metadata": {},
   "outputs": [],
   "source": [
    "def convert_mp(mp):\n",
    "    if mp == '0':\n",
    "        return 0\n",
    "    else:\n",
    "        mins = int(mp.split(':')[0])\n",
    "        secs = int(mp.split(':')[1]) / 60\n",
    "        return mins + secs"
   ]
  },
  {
   "cell_type": "code",
   "execution_count": null,
   "id": "8c5ab601",
   "metadata": {
    "scrolled": true
   },
   "outputs": [],
   "source": [
    "# Fill NaN\n",
    "df = df.fillna(0)\n",
    "\n",
    "# Convert 'date' column to Date object\n",
    "df['date'] = pd.to_datetime(df['date'])\n",
    "\n",
    "# Conver 'team' column to Team Name\n",
    "df['team'] = np.where(df['team'], df['home'], df['visitor'])\n",
    "\n",
    "# Convert 'minutes played' to float\n",
    "df['mp'] = df['mp'].apply(lambda x: convert_mp(x))\n",
    "\n",
    "# Set stats\n",
    "stats = ['ts_perc', 'efg_perc', '3par', 'ftr', 'orb_perc', 'drb_perc', 'trb_perc', \n",
    "         'ast_perc', 'stl_perc', 'blk_perc', 'tov_perc', 'usg_perc', 'ortg', 'drtg', 'bpm', 'mp']\n",
    "\n",
    "df.info()"
   ]
  },
  {
   "cell_type": "code",
   "execution_count": null,
   "id": "db4d31c3",
   "metadata": {},
   "outputs": [],
   "source": [
    "# Team total stats\n",
    "teams_df = df.groupby(['date', 'visitor', 'home', 'team']).sum().reset_index()"
   ]
  },
  {
   "cell_type": "code",
   "execution_count": null,
   "id": "ef5b7422",
   "metadata": {},
   "outputs": [],
   "source": [
    "# Starters total stats\n",
    "starters_df = df[df['starter'] == 1].groupby(['date', 'visitor', 'home', 'team']).aggregate(['sum', 'mean'])\n",
    "cols = [col for col in starters_df.columns\n",
    "        if (col[0] == 'target' and col[1] == 'sum') or \\\n",
    "           (col[0] in stats and col[1] == 'mean' and '_perc' in col[0]) or \\\n",
    "           (col[0] in stats and col[1] == 'sum' and '_perc' not in col[0])]\n",
    "starters_df = starters_df[cols]\n",
    "starters_df.columns = [col[0] for col in starters_df.columns]\n",
    "starters_df = starters_df.reset_index()"
   ]
  },
  {
   "cell_type": "code",
   "execution_count": null,
   "id": "1b75dd4b",
   "metadata": {},
   "outputs": [],
   "source": [
    "# Bench total stats\n",
    "bench_df = df[df['starter'] == 0].groupby(['date', 'visitor', 'home', 'team']).aggregate(['sum', 'mean'])\n",
    "cols = [col for col in bench_df.columns\n",
    "        if (col[0] == 'target' and col[1] == 'sum') or \\\n",
    "           (col[0] in stats and col[1] == 'mean' and '_perc' in col[0]) or \\\n",
    "           (col[0] in stats and col[1] == 'sum' and '_perc' not in col[0])]\n",
    "bench_df = bench_df[cols]\n",
    "bench_df.columns = [col[0] for col in bench_df.columns]\n",
    "bench_df = bench_df.reset_index()"
   ]
  },
  {
   "cell_type": "markdown",
   "id": "e605fdbd",
   "metadata": {},
   "source": [
    "# Dataframe of team's last 15 performances"
   ]
  },
  {
   "cell_type": "code",
   "execution_count": null,
   "id": "8cc5d0a4",
   "metadata": {},
   "outputs": [],
   "source": [
    "# Return ten lastest dates team played\n",
    "def last_15_date(team, date):\n",
    "    schedule = teams_df[teams_df['team'] == team].sort_values(by='date').reset_index()\n",
    "    date_index = schedule[schedule['date'] == date].index[0]\n",
    "    if date_index - 15 < 0:\n",
    "        return None, None, None, None, None, None, None, None, None, None, None, None, None, None, None\n",
    "    else:\n",
    "        date_1, date_2 = schedule.iloc[date_index - 1]['date'], schedule.iloc[date_index - 2]['date']\n",
    "        date_3, date_4 = schedule.iloc[date_index - 3]['date'], schedule.iloc[date_index - 4]['date']\n",
    "        date_5, date_6 = schedule.iloc[date_index - 5]['date'], schedule.iloc[date_index - 6]['date']\n",
    "        date_7, date_8 = schedule.iloc[date_index - 7]['date'], schedule.iloc[date_index - 8]['date']\n",
    "        date_9, date_10 = schedule.iloc[date_index - 9]['date'], schedule.iloc[date_index - 10]['date']\n",
    "        date_11, date_12 = schedule.iloc[date_index - 11]['date'], schedule.iloc[date_index - 12]['date']\n",
    "        date_13, date_14 = schedule.iloc[date_index - 13]['date'], schedule.iloc[date_index - 14]['date']\n",
    "        date_15 = schedule.iloc[date_index - 15]['date']\n",
    "        return date_1, date_2, date_3, date_4, date_5, date_6, date_7, date_8, date_9, date_10, date_11, date_12, date_13, date_14, date_15\n",
    "\n",
    "teams_df['dates'] = teams_df.apply(lambda x: last_15_date(x.team, x.date), axis=1)\n",
    "teams_df['date_1'], teams_df['date_2'] = teams_df['dates'].apply(lambda x: x[0]), teams_df['dates'].apply(lambda x: x[1])\n",
    "teams_df['date_3'], teams_df['date_4'] = teams_df['dates'].apply(lambda x: x[2]), teams_df['dates'].apply(lambda x: x[3])\n",
    "teams_df['date_5'], teams_df['date_6'] = teams_df['dates'].apply(lambda x: x[4]), teams_df['dates'].apply(lambda x: x[5])\n",
    "teams_df['date_7'], teams_df['date_8'] = teams_df['dates'].apply(lambda x: x[6]), teams_df['dates'].apply(lambda x: x[7])\n",
    "teams_df['date_9'], teams_df['date_10'] = teams_df['dates'].apply(lambda x: x[8]), teams_df['dates'].apply(lambda x: x[9])\n",
    "teams_df['date_11'], teams_df['date_12'] = teams_df['dates'].apply(lambda x: x[10]), teams_df['dates'].apply(lambda x: x[11])\n",
    "teams_df['date_13'], teams_df['date_14'] = teams_df['dates'].apply(lambda x: x[12]), teams_df['dates'].apply(lambda x: x[13])\n",
    "teams_df['date_15'] = teams_df['dates'].apply(lambda x: x[14])"
   ]
  },
  {
   "cell_type": "code",
   "execution_count": null,
   "id": "877f71a7",
   "metadata": {},
   "outputs": [],
   "source": [
    "# Keep date columns in teams\n",
    "cols = [col for col in teams_df.columns\n",
    "        if ('date_' in col) or \\\n",
    "        (col in ['date', 'visitor', 'home', 'team'])]\n",
    "teams_df = teams_df[cols]\n",
    "\n",
    "# Merge dates with starters\n",
    "starters_df = pd.merge(starters_df, teams_df, \n",
    "                       left_on=['date', 'visitor', 'home', 'team'], \n",
    "                       right_on=['date', 'visitor', 'home', 'team'],\n",
    "                       how='left')\n",
    "\n",
    "# Merge dates with bench\n",
    "bench_df = pd.merge(bench_df, teams_df, \n",
    "                    left_on=['date', 'visitor', 'home', 'team'], \n",
    "                    right_on=['date', 'visitor', 'home', 'team'],\n",
    "                    how='left')"
   ]
  },
  {
   "cell_type": "code",
   "execution_count": null,
   "id": "47d28f34",
   "metadata": {},
   "outputs": [],
   "source": [
    "# Calculate z-score\n",
    "def z_score(value, mean, std):\n",
    "    return (value - mean) / std"
   ]
  },
  {
   "cell_type": "code",
   "execution_count": null,
   "id": "c6a5e1a8",
   "metadata": {},
   "outputs": [],
   "source": [
    "# Calculate perc difference\n",
    "def perc_diff(value, mean):\n",
    "    return (value - mean) / mean"
   ]
  },
  {
   "cell_type": "markdown",
   "id": "27b31e56",
   "metadata": {},
   "source": [
    "# Starters Analysis"
   ]
  },
  {
   "cell_type": "code",
   "execution_count": null,
   "id": "ed92a099",
   "metadata": {},
   "outputs": [],
   "source": [
    "# X and y column names to merge on\n",
    "y_cols = starters_df.columns\n",
    "x_cols = ['date', 'team'] + stats\n",
    "\n",
    "last_15_games = starters_df[y_cols]\n",
    "X = starters_df[x_cols]\n",
    "\n",
    "# Dataframe of target (3pt made by each team) and of variables (last 5 games stats for each team)\n",
    "dates = ['_1', '_2', '_3', '_4', '_5', '_6', '_7', '_8', '_9', '_10', '_11', '_12', '_13', '_14', '_15']\n",
    "for date in dates:\n",
    "    last_15_games = pd.merge(last_15_games, X, left_on=['date' + date, 'team'], right_on=['date', 'team'], how='left', suffixes=('', date))\n",
    "\n",
    "last_15_games.head()"
   ]
  },
  {
   "cell_type": "markdown",
   "id": "bab8b04b",
   "metadata": {},
   "source": [
    "### Last 15 Performances (Unweighted)"
   ]
  },
  {
   "cell_type": "code",
   "execution_count": null,
   "id": "afd174d2",
   "metadata": {},
   "outputs": [],
   "source": [
    "dates = ['_1', '_2', '_3', '_4', '_5', '_6', '_7', '_8', '_9', '_10', '_11', '_12', '_13', '_14', '_15']\n",
    "cols = ['date', 'visitor', 'home', 'team', 'target'] + \\\n",
    "    [tup[0] + tup[1] for tup in list(itertools.product(stats, dates))]\n",
    "\n",
    "last_15_games_unweighted = last_15_games[cols].copy()\n",
    "\n",
    "# Calculate mean for each stat over a team's last performance\n",
    "for stat in stats:\n",
    "    last_15_games_unweighted[stat] = 0\n",
    "    for date in dates:\n",
    "        last_15_games_unweighted[stat] = last_15_games_unweighted[stat] + last_15_games_unweighted[stat + date]\n",
    "    \n",
    "    last_15_games_unweighted[stat] = last_15_games_unweighted[stat] / len(dates)\n",
    "    \n",
    "# Calculate standard deviation for each stat over a team's performance\n",
    "for stat in stats:\n",
    "    last_15_games_unweighted[stat + '_std'] = 0\n",
    "    for date in dates:\n",
    "        last_15_games_unweighted[stat + '_std'] = last_15_games_unweighted[stat + '_std'] + \\\n",
    "                                                    ((last_15_games_unweighted[stat + date] - last_15_games_unweighted[stat]) ** 2)\n",
    "    \n",
    "    last_15_games_unweighted[stat + '_std'] = last_15_games_unweighted[stat + '_std'] / len(dates)\n",
    "    last_15_games_unweighted[stat + '_std'] = last_15_games_unweighted[stat + '_std'] ** .5\n",
    "\n",
    "# Feature engineer trends\n",
    "for stat in stats:\n",
    "    last_15_games_unweighted[stat + '_trend'] = 0\n",
    "    for date in dates[:10]:\n",
    "        last_15_games_unweighted[stat + '_trend'] = last_15_games_unweighted[stat + '_trend'] + \\\n",
    "                                        z_score(last_15_games_unweighted[stat + date], last_15_games_unweighted[stat], last_15_games_unweighted[stat + '_std']).fillna(0)\n",
    "    \n",
    "    last_15_games_unweighted[stat + '_trend'] = last_15_games_unweighted[stat + '_trend'] / len(dates[:10])\n",
    "\n",
    "last_15_games_unweighted = last_15_games_unweighted.groupby(['date', 'visitor', 'home']).aggregate(['mean', 'sum'])\n",
    "\n",
    "last_15_game_cols = [col \n",
    "                    for col in last_15_games_unweighted.columns\n",
    "                    if (col[0] == 'target' and col[1] == 'sum') or \\\n",
    "                       (col[0] in stats and col[1] == 'sum' and '_perc' not in col[0]) or \\\n",
    "                       (col[0] in stats and col[1] == 'mean' and '_perc' in col[0]) or \\\n",
    "                       ('_trend' in col[0] and col[1] == 'sum')]\n",
    "\n",
    "starters_15_games = last_15_games_unweighted[last_15_game_cols].dropna(axis=0).copy()\n",
    "starters_15_games.columns = [col[0] for col in starters_15_games.columns]"
   ]
  },
  {
   "cell_type": "markdown",
   "id": "006a5d49",
   "metadata": {},
   "source": [
    "## Correlations"
   ]
  },
  {
   "cell_type": "code",
   "execution_count": null,
   "id": "cee58307",
   "metadata": {
    "scrolled": false
   },
   "outputs": [],
   "source": [
    "corr_df = pd.DataFrame()\n",
    "\n",
    "# Correlations for last 15 game stats vs 3pt made (unweighted)\n",
    "for col in starters_15_games:\n",
    "    corr_p = pearsonr(starters_15_games['target'], starters_15_games[col])\n",
    "    row = {'stat': col, 'corr': round(corr_p[0], 2), 'p-value': round(corr_p[1], 2)}\n",
    "    corr_df = corr_df.append(row, ignore_index=True)\n",
    "    \n",
    "# Print statistically significant correlations\n",
    "starters_corr = corr_df[corr_df['p-value'] < .05].sort_values(['corr'], axis=0, ascending=False)\n",
    "starters_corr"
   ]
  },
  {
   "cell_type": "markdown",
   "id": "9a6f20f7",
   "metadata": {},
   "source": [
    "## Bench Analysis"
   ]
  },
  {
   "cell_type": "code",
   "execution_count": null,
   "id": "a6f7e8ab",
   "metadata": {},
   "outputs": [],
   "source": [
    "# X and y column names to merge on\n",
    "y_cols = bench_df.columns\n",
    "x_cols = ['date', 'team'] + stats\n",
    "\n",
    "last_15_games = bench_df[y_cols]\n",
    "X = bench_df[x_cols]\n",
    "\n",
    "# Dataframe of target (3pt made by each team) and of variables (last 5 games stats for each team)\n",
    "dates = ['_1', '_2', '_3', '_4', '_5', '_6', '_7', '_8', '_9', '_10', '_11', '_12', '_13', '_14', '_15']\n",
    "for date in dates:\n",
    "    last_15_games = pd.merge(last_15_games, X, left_on=['date' + date, 'team'], right_on=['date', 'team'], how='left', suffixes=('', date))"
   ]
  },
  {
   "cell_type": "markdown",
   "id": "05bc652b",
   "metadata": {},
   "source": [
    "### Last 15 Performances (Unweighted)"
   ]
  },
  {
   "cell_type": "code",
   "execution_count": null,
   "id": "5c1bebb5",
   "metadata": {},
   "outputs": [],
   "source": [
    "dates = ['_1', '_2', '_3', '_4', '_5', '_6', '_7', '_8', '_9', '_10', '_11', '_12', '_13', '_14', '_15']\n",
    "cols = ['date', 'visitor', 'home', 'team', 'target'] + \\\n",
    "    [tup[0] + tup[1] for tup in list(itertools.product(stats, dates))]\n",
    "\n",
    "last_15_games_unweighted = last_15_games[cols].copy()\n",
    "\n",
    "# Calculate mean for each stat over a team's last performance\n",
    "for stat in stats:\n",
    "    last_15_games_unweighted[stat] = 0\n",
    "    for date in dates:\n",
    "        last_15_games_unweighted[stat] = last_15_games_unweighted[stat] + last_15_games_unweighted[stat + date]\n",
    "    \n",
    "    last_15_games_unweighted[stat] = last_15_games_unweighted[stat] / len(dates)\n",
    "    \n",
    "# Calculate standard deviation for each stat over a team's performance\n",
    "for stat in stats:\n",
    "    last_15_games_unweighted[stat + '_std'] = 0\n",
    "    for date in dates:\n",
    "        last_15_games_unweighted[stat + '_std'] = last_15_games_unweighted[stat + '_std'] + \\\n",
    "                                                    ((last_15_games_unweighted[stat + date] - last_15_games_unweighted[stat]) ** 2)\n",
    "    \n",
    "    last_15_games_unweighted[stat + '_std'] = last_15_games_unweighted[stat + '_std'] / len(dates)\n",
    "    last_15_games_unweighted[stat + '_std'] = last_15_games_unweighted[stat + '_std'] ** .5\n",
    "\n",
    "# Feature engineer trends\n",
    "for stat in stats:\n",
    "    last_15_games_unweighted[stat + '_trend'] = 0\n",
    "    for date in dates[:10]:\n",
    "        last_15_games_unweighted[stat + '_trend'] = last_15_games_unweighted[stat + '_trend'] + \\\n",
    "                                        z_score(last_15_games_unweighted[stat + date], last_15_games_unweighted[stat], last_15_games_unweighted[stat + '_std']).fillna(0)\n",
    "    \n",
    "    last_15_games_unweighted[stat + '_trend'] = last_15_games_unweighted[stat + '_trend'] / len(dates[:10])\n",
    "\n",
    "last_15_games_unweighted = last_15_games_unweighted.groupby(['date', 'visitor', 'home']).aggregate(['mean', 'sum'])\n",
    "\n",
    "last_15_game_cols = [col \n",
    "                    for col in last_15_games_unweighted.columns\n",
    "                    if (col[0] == 'target' and col[1] == 'sum') or \\\n",
    "                       (col[0] in stats and col[1] == 'sum' and '_perc' not in col[0]) or \\\n",
    "                       (col[0] in stats and col[1] == 'mean' and '_perc' in col[0]) or \\\n",
    "                       ('_trend' in col[0] and col[1] == 'sum')]\n",
    "\n",
    "bench_15_games = last_15_games_unweighted[last_15_game_cols].dropna(axis=0).copy()\n",
    "bench_15_games.columns = [col[0] for col in bench_15_games.columns]"
   ]
  },
  {
   "cell_type": "markdown",
   "id": "f9cb5fb2",
   "metadata": {},
   "source": [
    "## Correlations of Bench"
   ]
  },
  {
   "cell_type": "code",
   "execution_count": null,
   "id": "e8c9f3c5",
   "metadata": {},
   "outputs": [],
   "source": [
    "corr_df = pd.DataFrame()\n",
    "\n",
    "# Correlations for last 15 game stats vs 3pt made (unweighted)\n",
    "for col in bench_15_games:\n",
    "    corr_p = pearsonr(bench_15_games['target'], bench_15_games[col])\n",
    "    row = {'stat': col, 'corr': round(corr_p[0], 2), 'p-value': round(corr_p[1], 2)}\n",
    "    corr_df = corr_df.append(row, ignore_index=True)\n",
    "    \n",
    "# Print statistically significant correlations\n",
    "bench_corr = corr_df[corr_df['p-value'] < .05].sort_values(['corr'], axis=0, ascending=False)\n",
    "bench_corr"
   ]
  },
  {
   "cell_type": "markdown",
   "id": "5967d7cd",
   "metadata": {},
   "source": [
    "# Comparison of Starters to Bench"
   ]
  },
  {
   "cell_type": "code",
   "execution_count": null,
   "id": "16d10cb5",
   "metadata": {
    "scrolled": true
   },
   "outputs": [],
   "source": [
    "corr_df = pd.merge(starters_corr.drop(['p-value'], axis=1), \n",
    "                   bench_corr.drop(['p-value'], axis=1),\n",
    "                   left_on=['stat'], right_on=['stat'],\n",
    "                   how='outer',\n",
    "                   suffixes=['_starter', '_bench'])\n",
    "corr_df.sort_values(['stat'], axis=0)"
   ]
  },
  {
   "cell_type": "markdown",
   "id": "54f5f028",
   "metadata": {},
   "source": [
    "## Save dataframe with significantly correlated stats"
   ]
  },
  {
   "cell_type": "code",
   "execution_count": null,
   "id": "587bdb74",
   "metadata": {},
   "outputs": [],
   "source": [
    "starter_stats = starters_corr[starters_corr['corr'].abs() >= .4]['stat']\n",
    "starters_df = starters_15_games[starter_stats]\n",
    "\n",
    "bench_stats = bench_corr[bench_corr['corr'].abs() >= .4]['stat']\n",
    "bench_df = bench_15_games[bench_stats]\n",
    "\n",
    "df = pd.merge(starters_df, bench_df, \n",
    "              left_on=['date', 'visitor', 'home'], \n",
    "              right_on=['date', 'visitor', 'home'], \n",
    "              how='outer', suffixes=['_starters', '_bench'])\n",
    "df.to_csv('backend/data/inputs/advanced_details.csv')"
   ]
  }
 ],
 "metadata": {
  "kernelspec": {
   "display_name": "Python 3 (ipykernel)",
   "language": "python",
   "name": "python3"
  },
  "language_info": {
   "codemirror_mode": {
    "name": "ipython",
    "version": 3
   },
   "file_extension": ".py",
   "mimetype": "text/x-python",
   "name": "python",
   "nbconvert_exporter": "python",
   "pygments_lexer": "ipython3",
   "version": "3.8.2"
  }
 },
 "nbformat": 4,
 "nbformat_minor": 5
}
