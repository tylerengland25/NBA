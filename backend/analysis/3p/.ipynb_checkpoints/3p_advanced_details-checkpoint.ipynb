{
 "cells": [
  {
   "cell_type": "markdown",
   "id": "2adf4802",
   "metadata": {},
   "source": [
    "# 3 Pointers Made against advanced_details.csv"
   ]
  },
  {
   "cell_type": "markdown",
   "id": "2a13c3b0",
   "metadata": {},
   "source": [
    "### Import packages"
   ]
  },
  {
   "cell_type": "code",
   "execution_count": 8,
   "id": "75e8ba88",
   "metadata": {},
   "outputs": [],
   "source": [
    "import os\n",
    "import numpy as np\n",
    "import pandas as pd\n",
    "import seaborn as sns\n",
    "from scipy.stats import pearsonr\n",
    "import itertools\n",
    "\n",
    "pd.set_option(\"display.max_columns\", None)"
   ]
  },
  {
   "cell_type": "markdown",
   "id": "4ea46417",
   "metadata": {},
   "source": [
    "### Set working directory"
   ]
  },
  {
   "cell_type": "code",
   "execution_count": 9,
   "id": "c0889f64",
   "metadata": {},
   "outputs": [
    {
     "name": "stdout",
     "output_type": "stream",
     "text": [
      "Directory: C:\\Users\\tyler\\OneDrive\\Documents\\Python\\NBA\n",
      "Directory: C:\\Users\\tyler\\OneDrive\\Documents\\Python\\NBA\n"
     ]
    }
   ],
   "source": [
    "# Print working directory\n",
    "cwd = os.getcwd()\n",
    "print(f'Directory: {cwd}')\n",
    "\n",
    "# Change working directory\n",
    "os.chdir('/Users/tyler/OneDrive/Documents/Python/NBA')\n",
    "\n",
    "# Print working directory\n",
    "cwd = os.getcwd()\n",
    "print(f'Directory: {cwd}')"
   ]
  },
  {
   "cell_type": "markdown",
   "id": "93dc3ba0",
   "metadata": {},
   "source": [
    "## Exploratory Data Analysis"
   ]
  },
  {
   "cell_type": "markdown",
   "id": "14d3bf6a",
   "metadata": {},
   "source": [
    "### Import data"
   ]
  },
  {
   "cell_type": "code",
   "execution_count": 10,
   "id": "2b892e68",
   "metadata": {},
   "outputs": [],
   "source": [
    "df = pd.read_csv('backend/data/details/advanced_details.csv').drop(['Unnamed: 0'], axis=1)\n",
    "shooting_df = pd.read_csv('backend/data/totals/game_totals.csv').drop(['Unnamed: 0'], axis=1)\n",
    "shooting_df = shooting_df[['date', 'visitor', 'home', 'team', '3p']]"
   ]
  },
  {
   "cell_type": "markdown",
   "id": "90cb91a5",
   "metadata": {},
   "source": [
    "### Basic exploration"
   ]
  },
  {
   "cell_type": "code",
   "execution_count": 11,
   "id": "6ea56a4f",
   "metadata": {},
   "outputs": [
    {
     "name": "stdout",
     "output_type": "stream",
     "text": [
      "<class 'pandas.core.frame.DataFrame'>\n",
      "RangeIndex: 501892 entries, 0 to 501891\n",
      "Data columns (total 22 columns):\n",
      " #   Column    Non-Null Count   Dtype  \n",
      "---  ------    --------------   -----  \n",
      " 0   date      501892 non-null  object \n",
      " 1   visitor   501892 non-null  object \n",
      " 2   home      501892 non-null  object \n",
      " 3   team      501892 non-null  int64  \n",
      " 4   starter   501850 non-null  float64\n",
      " 5   player    501850 non-null  object \n",
      " 6   mp        501850 non-null  object \n",
      " 7   ts_perc   483325 non-null  float64\n",
      " 8   efg_perc  480564 non-null  float64\n",
      " 9   3par      480564 non-null  float64\n",
      " 10  ftr       480564 non-null  float64\n",
      " 11  orb_perc  501772 non-null  float64\n",
      " 12  drb_perc  501772 non-null  float64\n",
      " 13  trb_perc  501772 non-null  float64\n",
      " 14  ast_perc  501768 non-null  float64\n",
      " 15  stl_perc  501772 non-null  float64\n",
      " 16  blk_perc  501772 non-null  float64\n",
      " 17  tov_perc  487102 non-null  float64\n",
      " 18  usg_perc  501772 non-null  float64\n",
      " 19  ortg      501772 non-null  float64\n",
      " 20  drtg      501775 non-null  float64\n",
      " 21  bpm       501850 non-null  float64\n",
      "dtypes: float64(16), int64(1), object(5)\n",
      "memory usage: 84.2+ MB\n"
     ]
    }
   ],
   "source": [
    "df.info()"
   ]
  },
  {
   "cell_type": "code",
   "execution_count": 12,
   "id": "246f881c",
   "metadata": {
    "scrolled": false
   },
   "outputs": [
    {
     "data": {
      "text/html": [
       "<div>\n",
       "<style scoped>\n",
       "    .dataframe tbody tr th:only-of-type {\n",
       "        vertical-align: middle;\n",
       "    }\n",
       "\n",
       "    .dataframe tbody tr th {\n",
       "        vertical-align: top;\n",
       "    }\n",
       "\n",
       "    .dataframe thead th {\n",
       "        text-align: right;\n",
       "    }\n",
       "</style>\n",
       "<table border=\"1\" class=\"dataframe\">\n",
       "  <thead>\n",
       "    <tr style=\"text-align: right;\">\n",
       "      <th></th>\n",
       "      <th>date</th>\n",
       "      <th>visitor</th>\n",
       "      <th>home</th>\n",
       "      <th>team</th>\n",
       "      <th>starter</th>\n",
       "      <th>player</th>\n",
       "      <th>mp</th>\n",
       "      <th>ts_perc</th>\n",
       "      <th>efg_perc</th>\n",
       "      <th>3par</th>\n",
       "      <th>ftr</th>\n",
       "      <th>orb_perc</th>\n",
       "      <th>drb_perc</th>\n",
       "      <th>trb_perc</th>\n",
       "      <th>ast_perc</th>\n",
       "      <th>stl_perc</th>\n",
       "      <th>blk_perc</th>\n",
       "      <th>tov_perc</th>\n",
       "      <th>usg_perc</th>\n",
       "      <th>ortg</th>\n",
       "      <th>drtg</th>\n",
       "      <th>bpm</th>\n",
       "    </tr>\n",
       "  </thead>\n",
       "  <tbody>\n",
       "    <tr>\n",
       "      <th>111283</th>\n",
       "      <td>Sun, Jan 31, 2010</td>\n",
       "      <td>Golden State Warriors</td>\n",
       "      <td>Oklahoma City Thunder</td>\n",
       "      <td>0</td>\n",
       "      <td>0.0</td>\n",
       "      <td>Coby Karl</td>\n",
       "      <td>24:26</td>\n",
       "      <td>0.615</td>\n",
       "      <td>0.500</td>\n",
       "      <td>0.000</td>\n",
       "      <td>0.500</td>\n",
       "      <td>4.9</td>\n",
       "      <td>0.0</td>\n",
       "      <td>2.6</td>\n",
       "      <td>35.6</td>\n",
       "      <td>4.1</td>\n",
       "      <td>3.0</td>\n",
       "      <td>0.0</td>\n",
       "      <td>8.7</td>\n",
       "      <td>158.0</td>\n",
       "      <td>113.0</td>\n",
       "      <td>8.2</td>\n",
       "    </tr>\n",
       "    <tr>\n",
       "      <th>358472</th>\n",
       "      <td>Thu, Nov 16, 2017</td>\n",
       "      <td>Houston Rockets</td>\n",
       "      <td>Phoenix Suns</td>\n",
       "      <td>0</td>\n",
       "      <td>1.0</td>\n",
       "      <td>Chris Paul</td>\n",
       "      <td>20:45</td>\n",
       "      <td>0.661</td>\n",
       "      <td>0.571</td>\n",
       "      <td>0.571</td>\n",
       "      <td>0.429</td>\n",
       "      <td>0.0</td>\n",
       "      <td>16.8</td>\n",
       "      <td>9.4</td>\n",
       "      <td>64.1</td>\n",
       "      <td>4.3</td>\n",
       "      <td>0.0</td>\n",
       "      <td>10.7</td>\n",
       "      <td>17.9</td>\n",
       "      <td>161.0</td>\n",
       "      <td>102.0</td>\n",
       "      <td>11.2</td>\n",
       "    </tr>\n",
       "    <tr>\n",
       "      <th>235883</th>\n",
       "      <td>Wed, Jan 29, 2014</td>\n",
       "      <td>New Orleans Pelicans</td>\n",
       "      <td>Minnesota Timberwolves</td>\n",
       "      <td>0</td>\n",
       "      <td>0.0</td>\n",
       "      <td>Tyreke Evans</td>\n",
       "      <td>23:40</td>\n",
       "      <td>0.320</td>\n",
       "      <td>0.267</td>\n",
       "      <td>0.200</td>\n",
       "      <td>0.333</td>\n",
       "      <td>11.9</td>\n",
       "      <td>12.9</td>\n",
       "      <td>12.4</td>\n",
       "      <td>29.1</td>\n",
       "      <td>0.0</td>\n",
       "      <td>0.0</td>\n",
       "      <td>10.4</td>\n",
       "      <td>37.0</td>\n",
       "      <td>74.0</td>\n",
       "      <td>101.0</td>\n",
       "      <td>-2.1</td>\n",
       "    </tr>\n",
       "    <tr>\n",
       "      <th>70071</th>\n",
       "      <td>Sun, Dec 7, 2008</td>\n",
       "      <td>Detroit Pistons</td>\n",
       "      <td>New York Knicks</td>\n",
       "      <td>1</td>\n",
       "      <td>0.0</td>\n",
       "      <td>Jerome James</td>\n",
       "      <td>0</td>\n",
       "      <td>0.000</td>\n",
       "      <td>0.000</td>\n",
       "      <td>0.000</td>\n",
       "      <td>0.000</td>\n",
       "      <td>0.0</td>\n",
       "      <td>0.0</td>\n",
       "      <td>0.0</td>\n",
       "      <td>0.0</td>\n",
       "      <td>0.0</td>\n",
       "      <td>0.0</td>\n",
       "      <td>0.0</td>\n",
       "      <td>0.0</td>\n",
       "      <td>0.0</td>\n",
       "      <td>0.0</td>\n",
       "      <td>0.0</td>\n",
       "    </tr>\n",
       "    <tr>\n",
       "      <th>195328</th>\n",
       "      <td>Tue, Dec 25, 2012</td>\n",
       "      <td>Oklahoma City Thunder</td>\n",
       "      <td>Miami Heat</td>\n",
       "      <td>0</td>\n",
       "      <td>0.0</td>\n",
       "      <td>Nick Collison</td>\n",
       "      <td>19:27</td>\n",
       "      <td>0.773</td>\n",
       "      <td>0.667</td>\n",
       "      <td>0.000</td>\n",
       "      <td>0.667</td>\n",
       "      <td>13.7</td>\n",
       "      <td>13.3</td>\n",
       "      <td>13.5</td>\n",
       "      <td>19.7</td>\n",
       "      <td>2.8</td>\n",
       "      <td>0.0</td>\n",
       "      <td>0.0</td>\n",
       "      <td>9.2</td>\n",
       "      <td>180.0</td>\n",
       "      <td>114.0</td>\n",
       "      <td>10.2</td>\n",
       "    </tr>\n",
       "  </tbody>\n",
       "</table>\n",
       "</div>"
      ],
      "text/plain": [
       "                     date                visitor                    home  \\\n",
       "111283  Sun, Jan 31, 2010  Golden State Warriors   Oklahoma City Thunder   \n",
       "358472  Thu, Nov 16, 2017        Houston Rockets            Phoenix Suns   \n",
       "235883  Wed, Jan 29, 2014   New Orleans Pelicans  Minnesota Timberwolves   \n",
       "70071    Sun, Dec 7, 2008        Detroit Pistons         New York Knicks   \n",
       "195328  Tue, Dec 25, 2012  Oklahoma City Thunder              Miami Heat   \n",
       "\n",
       "        team  starter         player     mp  ts_perc  efg_perc   3par    ftr  \\\n",
       "111283     0      0.0      Coby Karl  24:26    0.615     0.500  0.000  0.500   \n",
       "358472     0      1.0     Chris Paul  20:45    0.661     0.571  0.571  0.429   \n",
       "235883     0      0.0   Tyreke Evans  23:40    0.320     0.267  0.200  0.333   \n",
       "70071      1      0.0   Jerome James      0    0.000     0.000  0.000  0.000   \n",
       "195328     0      0.0  Nick Collison  19:27    0.773     0.667  0.000  0.667   \n",
       "\n",
       "        orb_perc  drb_perc  trb_perc  ast_perc  stl_perc  blk_perc  tov_perc  \\\n",
       "111283       4.9       0.0       2.6      35.6       4.1       3.0       0.0   \n",
       "358472       0.0      16.8       9.4      64.1       4.3       0.0      10.7   \n",
       "235883      11.9      12.9      12.4      29.1       0.0       0.0      10.4   \n",
       "70071        0.0       0.0       0.0       0.0       0.0       0.0       0.0   \n",
       "195328      13.7      13.3      13.5      19.7       2.8       0.0       0.0   \n",
       "\n",
       "        usg_perc   ortg   drtg   bpm  \n",
       "111283       8.7  158.0  113.0   8.2  \n",
       "358472      17.9  161.0  102.0  11.2  \n",
       "235883      37.0   74.0  101.0  -2.1  \n",
       "70071        0.0    0.0    0.0   0.0  \n",
       "195328       9.2  180.0  114.0  10.2  "
      ]
     },
     "execution_count": 12,
     "metadata": {},
     "output_type": "execute_result"
    }
   ],
   "source": [
    "df.sample(5)"
   ]
  },
  {
   "cell_type": "code",
   "execution_count": 13,
   "id": "910ff26e",
   "metadata": {},
   "outputs": [],
   "source": [
    "def convert_mp(mp):\n",
    "    if mp == '0' or mp == 0:\n",
    "        return 0\n",
    "    else:\n",
    "        mins = int(mp.split(':')[0])\n",
    "        secs = int(mp.split(':')[1]) / 60\n",
    "        return mins + secs"
   ]
  },
  {
   "cell_type": "code",
   "execution_count": 14,
   "id": "8c5ab601",
   "metadata": {
    "scrolled": true
   },
   "outputs": [
    {
     "name": "stdout",
     "output_type": "stream",
     "text": [
      "<class 'pandas.core.frame.DataFrame'>\n",
      "RangeIndex: 501892 entries, 0 to 501891\n",
      "Data columns (total 22 columns):\n",
      " #   Column    Non-Null Count   Dtype         \n",
      "---  ------    --------------   -----         \n",
      " 0   date      501892 non-null  datetime64[ns]\n",
      " 1   visitor   501892 non-null  object        \n",
      " 2   home      501892 non-null  object        \n",
      " 3   team      501892 non-null  object        \n",
      " 4   starter   501892 non-null  float64       \n",
      " 5   player    501892 non-null  object        \n",
      " 6   mp        501892 non-null  float64       \n",
      " 7   ts_perc   501892 non-null  float64       \n",
      " 8   efg_perc  501892 non-null  float64       \n",
      " 9   3par      501892 non-null  float64       \n",
      " 10  ftr       501892 non-null  float64       \n",
      " 11  orb_perc  501892 non-null  float64       \n",
      " 12  drb_perc  501892 non-null  float64       \n",
      " 13  trb_perc  501892 non-null  float64       \n",
      " 14  ast_perc  501892 non-null  float64       \n",
      " 15  stl_perc  501892 non-null  float64       \n",
      " 16  blk_perc  501892 non-null  float64       \n",
      " 17  tov_perc  501892 non-null  float64       \n",
      " 18  usg_perc  501892 non-null  float64       \n",
      " 19  ortg      501892 non-null  float64       \n",
      " 20  drtg      501892 non-null  float64       \n",
      " 21  bpm       501892 non-null  float64       \n",
      "dtypes: datetime64[ns](1), float64(17), object(4)\n",
      "memory usage: 84.2+ MB\n"
     ]
    }
   ],
   "source": [
    "# Fill NaN\n",
    "df = df.fillna(0)\n",
    "\n",
    "# Convert 'date' column to Date object\n",
    "df['date'] = pd.to_datetime(df['date'])\n",
    "\n",
    "# Conver 'team' column to Team Name\n",
    "df['team'] = np.where(df['team'], df['home'], df['visitor'])\n",
    "\n",
    "# Convert 'minutes played' to float\n",
    "df['mp'] = df['mp'].apply(lambda x: convert_mp(x))\n",
    "\n",
    "# Set stats\n",
    "stats = ['ts_perc', 'efg_perc', '3par', 'ftr', 'orb_perc', 'drb_perc', 'trb_perc', \n",
    "         'ast_perc', 'stl_perc', 'blk_perc', 'tov_perc', 'usg_perc', 'ortg', 'drtg', 'bpm', 'mp']\n",
    "\n",
    "df.info()"
   ]
  },
  {
   "cell_type": "code",
   "execution_count": 15,
   "id": "db4d31c3",
   "metadata": {},
   "outputs": [],
   "source": [
    "# Team total stats\n",
    "teams_df = df.groupby(['date', 'visitor', 'home', 'team']).sum().reset_index()"
   ]
  },
  {
   "cell_type": "code",
   "execution_count": 16,
   "id": "74ce98be",
   "metadata": {},
   "outputs": [],
   "source": [
    "# Rename target variable\n",
    "shooting_df = shooting_df.rename({'3p': 'target'}, axis=1)\n",
    "\n",
    "# Convert 'date' column to Date object\n",
    "shooting_df['date'] = pd.to_datetime(shooting_df['date'])\n",
    "\n",
    "# Convert 'team' column to Team Name\n",
    "shooting_df['team'] = np.where(shooting_df['team'], shooting_df['home'], shooting_df['visitor'])"
   ]
  },
  {
   "cell_type": "code",
   "execution_count": 17,
   "id": "ef5b7422",
   "metadata": {},
   "outputs": [],
   "source": [
    "# Starters total stats\n",
    "starters_df = df[df['starter'] == 1].groupby(['date', 'visitor', 'home', 'team']).aggregate(['sum', 'mean'])\n",
    "cols = [col for col in starters_df.columns\n",
    "        if (col[0] == 'target' and col[1] == 'sum') or \\\n",
    "           (col[0] in stats and col[1] == 'mean' and '_perc' in col[0]) or \\\n",
    "           (col[0] in stats and col[1] == 'sum' and '_perc' not in col[0])]\n",
    "starters_df = starters_df[cols]\n",
    "starters_df.columns = [col[0] for col in starters_df.columns]\n",
    "starters_df = starters_df.reset_index()\n",
    "\n",
    "# Merge dataframes to have target variable\n",
    "starters_df = pd.merge(starters_df, shooting_df, \n",
    "                       left_on=['date', 'visitor', 'home', 'team'], right_on=['date', 'visitor', 'home', 'team'],\n",
    "                       how='left')"
   ]
  },
  {
   "cell_type": "code",
   "execution_count": null,
   "id": "1b75dd4b",
   "metadata": {},
   "outputs": [],
   "source": [
    "# Bench total stats\n",
    "bench_df = df[df['starter'] == 0].groupby(['date', 'visitor', 'home', 'team']).aggregate(['sum', 'mean'])\n",
    "cols = [col for col in bench_df.columns\n",
    "        if (col[0] == 'target' and col[1] == 'sum') or \\\n",
    "           (col[0] in stats and col[1] == 'mean' and '_perc' in col[0]) or \\\n",
    "           (col[0] in stats and col[1] == 'sum' and '_perc' not in col[0])]\n",
    "bench_df = bench_df[cols]\n",
    "bench_df.columns = [col[0] for col in bench_df.columns]\n",
    "bench_df = bench_df.reset_index()\n",
    "\n",
    "# Merge dataframes to have target variable\n",
    "bench_df = pd.merge(bench_df, shooting_df, \n",
    "                    left_on=['date', 'visitor', 'home', 'team'], right_on=['date', 'visitor', 'home', 'team'],\n",
    "                    how='left')"
   ]
  },
  {
   "cell_type": "markdown",
   "id": "e605fdbd",
   "metadata": {},
   "source": [
    "# Dataframe of team's last 15 performances"
   ]
  },
  {
   "cell_type": "code",
   "execution_count": null,
   "id": "8cc5d0a4",
   "metadata": {},
   "outputs": [],
   "source": [
    "# Return ten lastest dates team played\n",
    "def last_15_date(team, date):\n",
    "    schedule = teams_df[teams_df['team'] == team].sort_values(by='date').reset_index()\n",
    "    date_index = schedule[schedule['date'] == date].index[0]\n",
    "    if date_index - 15 < 0:\n",
    "        return None, None, None, None, None, None, None, None, None, None, None, None, None, None, None\n",
    "    else:\n",
    "        date_1, date_2 = schedule.iloc[date_index - 1]['date'], schedule.iloc[date_index - 2]['date']\n",
    "        date_3, date_4 = schedule.iloc[date_index - 3]['date'], schedule.iloc[date_index - 4]['date']\n",
    "        date_5, date_6 = schedule.iloc[date_index - 5]['date'], schedule.iloc[date_index - 6]['date']\n",
    "        date_7, date_8 = schedule.iloc[date_index - 7]['date'], schedule.iloc[date_index - 8]['date']\n",
    "        date_9, date_10 = schedule.iloc[date_index - 9]['date'], schedule.iloc[date_index - 10]['date']\n",
    "        date_11, date_12 = schedule.iloc[date_index - 11]['date'], schedule.iloc[date_index - 12]['date']\n",
    "        date_13, date_14 = schedule.iloc[date_index - 13]['date'], schedule.iloc[date_index - 14]['date']\n",
    "        date_15 = schedule.iloc[date_index - 15]['date']\n",
    "        return date_1, date_2, date_3, date_4, date_5, date_6, date_7, date_8, date_9, date_10, date_11, date_12, date_13, date_14, date_15\n",
    "\n",
    "teams_df['dates'] = teams_df.apply(lambda x: last_15_date(x.team, x.date), axis=1)\n",
    "teams_df['date_1'], teams_df['date_2'] = teams_df['dates'].apply(lambda x: x[0]), teams_df['dates'].apply(lambda x: x[1])\n",
    "teams_df['date_3'], teams_df['date_4'] = teams_df['dates'].apply(lambda x: x[2]), teams_df['dates'].apply(lambda x: x[3])\n",
    "teams_df['date_5'], teams_df['date_6'] = teams_df['dates'].apply(lambda x: x[4]), teams_df['dates'].apply(lambda x: x[5])\n",
    "teams_df['date_7'], teams_df['date_8'] = teams_df['dates'].apply(lambda x: x[6]), teams_df['dates'].apply(lambda x: x[7])\n",
    "teams_df['date_9'], teams_df['date_10'] = teams_df['dates'].apply(lambda x: x[8]), teams_df['dates'].apply(lambda x: x[9])\n",
    "teams_df['date_11'], teams_df['date_12'] = teams_df['dates'].apply(lambda x: x[10]), teams_df['dates'].apply(lambda x: x[11])\n",
    "teams_df['date_13'], teams_df['date_14'] = teams_df['dates'].apply(lambda x: x[12]), teams_df['dates'].apply(lambda x: x[13])\n",
    "teams_df['date_15'] = teams_df['dates'].apply(lambda x: x[14])"
   ]
  },
  {
   "cell_type": "code",
   "execution_count": null,
   "id": "877f71a7",
   "metadata": {},
   "outputs": [],
   "source": [
    "# Keep date columns in teams\n",
    "cols = [col for col in teams_df.columns\n",
    "        if ('date_' in col) or \\\n",
    "        (col in ['date', 'visitor', 'home', 'team'])]\n",
    "teams_df = teams_df[cols]\n",
    "\n",
    "# Merge dates with starters\n",
    "starters_df = pd.merge(starters_df, teams_df, \n",
    "                       left_on=['date', 'visitor', 'home', 'team'], \n",
    "                       right_on=['date', 'visitor', 'home', 'team'],\n",
    "                       how='left')\n",
    "\n",
    "# Merge dates with bench\n",
    "bench_df = pd.merge(bench_df, teams_df, \n",
    "                    left_on=['date', 'visitor', 'home', 'team'], \n",
    "                    right_on=['date', 'visitor', 'home', 'team'],\n",
    "                    how='left')"
   ]
  },
  {
   "cell_type": "code",
   "execution_count": null,
   "id": "47d28f34",
   "metadata": {},
   "outputs": [],
   "source": [
    "# Calculate z-score\n",
    "def z_score(value, mean, std):\n",
    "    return (value - mean) / std"
   ]
  },
  {
   "cell_type": "code",
   "execution_count": null,
   "id": "c6a5e1a8",
   "metadata": {},
   "outputs": [],
   "source": [
    "# Calculate perc difference\n",
    "def perc_diff(value, mean):\n",
    "    return (value - mean) / mean"
   ]
  },
  {
   "cell_type": "markdown",
   "id": "27b31e56",
   "metadata": {},
   "source": [
    "# Starters Analysis"
   ]
  },
  {
   "cell_type": "code",
   "execution_count": null,
   "id": "ed92a099",
   "metadata": {},
   "outputs": [],
   "source": [
    "# X and y column names to merge on\n",
    "y_cols = starters_df.columns\n",
    "x_cols = ['date', 'team'] + stats\n",
    "\n",
    "last_15_games = starters_df[y_cols]\n",
    "X = starters_df[x_cols]\n",
    "\n",
    "# Dataframe of target (3pt made by each team) and of variables (last 5 games stats for each team)\n",
    "dates = ['_1', '_2', '_3', '_4', '_5', '_6', '_7', '_8', '_9', '_10', '_11', '_12', '_13', '_14', '_15']\n",
    "for date in dates:\n",
    "    last_15_games = pd.merge(last_15_games, X, left_on=['date' + date, 'team'], right_on=['date', 'team'], how='left', suffixes=('', date))\n",
    "\n",
    "last_15_games.head()"
   ]
  },
  {
   "cell_type": "markdown",
   "id": "bab8b04b",
   "metadata": {},
   "source": [
    "### Last 15 Performances (Unweighted)"
   ]
  },
  {
   "cell_type": "code",
   "execution_count": null,
   "id": "afd174d2",
   "metadata": {},
   "outputs": [],
   "source": [
    "dates = ['_1', '_2', '_3', '_4', '_5', '_6', '_7', '_8', '_9', '_10', '_11', '_12', '_13', '_14', '_15']\n",
    "cols = ['date', 'visitor', 'home', 'team', 'target'] + \\\n",
    "    [tup[0] + tup[1] for tup in list(itertools.product(stats, dates))]\n",
    "\n",
    "last_15_games_unweighted = last_15_games[cols].copy()\n",
    "\n",
    "# Calculate mean for each stat over a team's last performance\n",
    "for stat in stats:\n",
    "    last_15_games_unweighted[stat] = 0\n",
    "    for date in dates:\n",
    "        last_15_games_unweighted[stat] = last_15_games_unweighted[stat] + last_15_games_unweighted[stat + date]\n",
    "    \n",
    "    last_15_games_unweighted[stat] = last_15_games_unweighted[stat] / len(dates)\n",
    "    \n",
    "# Calculate standard deviation for each stat over a team's performance\n",
    "for stat in stats:\n",
    "    last_15_games_unweighted[stat + '_std'] = 0\n",
    "    for date in dates:\n",
    "        last_15_games_unweighted[stat + '_std'] = last_15_games_unweighted[stat + '_std'] + \\\n",
    "                                                    ((last_15_games_unweighted[stat + date] - last_15_games_unweighted[stat]) ** 2)\n",
    "    \n",
    "    last_15_games_unweighted[stat + '_std'] = last_15_games_unweighted[stat + '_std'] / len(dates)\n",
    "    last_15_games_unweighted[stat + '_std'] = last_15_games_unweighted[stat + '_std'] ** .5\n",
    "\n",
    "# Feature engineer trends\n",
    "for stat in stats:\n",
    "    last_15_games_unweighted[stat + '_trend'] = 0\n",
    "    for date in dates[:10]:\n",
    "        last_15_games_unweighted[stat + '_trend'] = last_15_games_unweighted[stat + '_trend'] + \\\n",
    "                                        z_score(last_15_games_unweighted[stat + date], last_15_games_unweighted[stat], last_15_games_unweighted[stat + '_std']).fillna(0)\n",
    "    \n",
    "    last_15_games_unweighted[stat + '_trend'] = last_15_games_unweighted[stat + '_trend'] / len(dates[:10])\n",
    "\n",
    "last_15_games_unweighted = last_15_games_unweighted.groupby(['date', 'visitor', 'home']).aggregate(['mean', 'sum'])\n",
    "\n",
    "last_15_game_cols = [col \n",
    "                    for col in last_15_games_unweighted.columns\n",
    "                    if (col[0] == 'target' and col[1] == 'sum') or \\\n",
    "                       (col[0] in stats and col[1] == 'sum' and '_perc' not in col[0]) or \\\n",
    "                       (col[0] in stats and col[1] == 'mean' and '_perc' in col[0]) or \\\n",
    "                       ('_trend' in col[0] and col[1] == 'sum')]\n",
    "\n",
    "starters_15_games = last_15_games_unweighted[last_15_game_cols].dropna(axis=0).copy()\n",
    "starters_15_games.columns = [col[0] for col in starters_15_games.columns]"
   ]
  },
  {
   "cell_type": "markdown",
   "id": "006a5d49",
   "metadata": {},
   "source": [
    "## Correlations"
   ]
  },
  {
   "cell_type": "code",
   "execution_count": null,
   "id": "cee58307",
   "metadata": {
    "scrolled": false
   },
   "outputs": [],
   "source": [
    "corr_df = pd.DataFrame()\n",
    "\n",
    "# Correlations for last 15 game stats vs 3pt made (unweighted)\n",
    "for col in starters_15_games:\n",
    "    corr_p = pearsonr(starters_15_games['target'], starters_15_games[col])\n",
    "    row = {'stat': col, 'corr': round(corr_p[0], 2), 'p-value': round(corr_p[1], 2)}\n",
    "    corr_df = corr_df.append(row, ignore_index=True)\n",
    "    \n",
    "# Print statistically significant correlations\n",
    "starters_corr = corr_df[corr_df['p-value'] < .05].sort_values(['corr'], axis=0, ascending=False)\n",
    "starters_corr"
   ]
  },
  {
   "cell_type": "markdown",
   "id": "9a6f20f7",
   "metadata": {},
   "source": [
    "## Bench Analysis"
   ]
  },
  {
   "cell_type": "code",
   "execution_count": null,
   "id": "a6f7e8ab",
   "metadata": {},
   "outputs": [],
   "source": [
    "# X and y column names to merge on\n",
    "y_cols = bench_df.columns\n",
    "x_cols = ['date', 'team'] + stats\n",
    "\n",
    "last_15_games = bench_df[y_cols]\n",
    "X = bench_df[x_cols]\n",
    "\n",
    "# Dataframe of target (3pt made by each team) and of variables (last 5 games stats for each team)\n",
    "dates = ['_1', '_2', '_3', '_4', '_5', '_6', '_7', '_8', '_9', '_10', '_11', '_12', '_13', '_14', '_15']\n",
    "for date in dates:\n",
    "    last_15_games = pd.merge(last_15_games, X, left_on=['date' + date, 'team'], right_on=['date', 'team'], how='left', suffixes=('', date))"
   ]
  },
  {
   "cell_type": "markdown",
   "id": "05bc652b",
   "metadata": {},
   "source": [
    "### Last 15 Performances (Unweighted)"
   ]
  },
  {
   "cell_type": "code",
   "execution_count": null,
   "id": "5c1bebb5",
   "metadata": {},
   "outputs": [],
   "source": [
    "dates = ['_1', '_2', '_3', '_4', '_5', '_6', '_7', '_8', '_9', '_10', '_11', '_12', '_13', '_14', '_15']\n",
    "cols = ['date', 'visitor', 'home', 'team', 'target'] + \\\n",
    "    [tup[0] + tup[1] for tup in list(itertools.product(stats, dates))]\n",
    "\n",
    "last_15_games_unweighted = last_15_games[cols].copy()\n",
    "\n",
    "# Calculate mean for each stat over a team's last performance\n",
    "for stat in stats:\n",
    "    last_15_games_unweighted[stat] = 0\n",
    "    for date in dates:\n",
    "        last_15_games_unweighted[stat] = last_15_games_unweighted[stat] + last_15_games_unweighted[stat + date]\n",
    "    \n",
    "    last_15_games_unweighted[stat] = last_15_games_unweighted[stat] / len(dates)\n",
    "    \n",
    "# Calculate standard deviation for each stat over a team's performance\n",
    "for stat in stats:\n",
    "    last_15_games_unweighted[stat + '_std'] = 0\n",
    "    for date in dates:\n",
    "        last_15_games_unweighted[stat + '_std'] = last_15_games_unweighted[stat + '_std'] + \\\n",
    "                                                    ((last_15_games_unweighted[stat + date] - last_15_games_unweighted[stat]) ** 2)\n",
    "    \n",
    "    last_15_games_unweighted[stat + '_std'] = last_15_games_unweighted[stat + '_std'] / len(dates)\n",
    "    last_15_games_unweighted[stat + '_std'] = last_15_games_unweighted[stat + '_std'] ** .5\n",
    "\n",
    "# Feature engineer trends\n",
    "for stat in stats:\n",
    "    last_15_games_unweighted[stat + '_trend'] = 0\n",
    "    for date in dates[:10]:\n",
    "        last_15_games_unweighted[stat + '_trend'] = last_15_games_unweighted[stat + '_trend'] + \\\n",
    "                                        z_score(last_15_games_unweighted[stat + date], last_15_games_unweighted[stat], last_15_games_unweighted[stat + '_std']).fillna(0)\n",
    "    \n",
    "    last_15_games_unweighted[stat + '_trend'] = last_15_games_unweighted[stat + '_trend'] / len(dates[:10])\n",
    "\n",
    "last_15_games_unweighted = last_15_games_unweighted.groupby(['date', 'visitor', 'home']).aggregate(['mean', 'sum'])\n",
    "\n",
    "last_15_game_cols = [col \n",
    "                    for col in last_15_games_unweighted.columns\n",
    "                    if (col[0] == 'target' and col[1] == 'sum') or \\\n",
    "                       (col[0] in stats and col[1] == 'sum' and '_perc' not in col[0]) or \\\n",
    "                       (col[0] in stats and col[1] == 'mean' and '_perc' in col[0]) or \\\n",
    "                       ('_trend' in col[0] and col[1] == 'sum')]\n",
    "\n",
    "bench_15_games = last_15_games_unweighted[last_15_game_cols].dropna(axis=0).copy()\n",
    "bench_15_games.columns = [col[0] for col in bench_15_games.columns]"
   ]
  },
  {
   "cell_type": "markdown",
   "id": "f9cb5fb2",
   "metadata": {},
   "source": [
    "## Correlations of Bench"
   ]
  },
  {
   "cell_type": "code",
   "execution_count": null,
   "id": "e8c9f3c5",
   "metadata": {},
   "outputs": [],
   "source": [
    "corr_df = pd.DataFrame()\n",
    "\n",
    "# Correlations for last 15 game stats vs 3pt made (unweighted)\n",
    "for col in bench_15_games:\n",
    "    corr_p = pearsonr(bench_15_games['target'], bench_15_games[col])\n",
    "    row = {'stat': col, 'corr': round(corr_p[0], 2), 'p-value': round(corr_p[1], 2)}\n",
    "    corr_df = corr_df.append(row, ignore_index=True)\n",
    "    \n",
    "# Print statistically significant correlations\n",
    "bench_corr = corr_df[corr_df['p-value'] < .05].sort_values(['corr'], axis=0, ascending=False)\n",
    "bench_corr"
   ]
  },
  {
   "cell_type": "markdown",
   "id": "5967d7cd",
   "metadata": {},
   "source": [
    "# Comparison of Starters to Bench"
   ]
  },
  {
   "cell_type": "code",
   "execution_count": null,
   "id": "16d10cb5",
   "metadata": {
    "scrolled": true
   },
   "outputs": [],
   "source": [
    "corr_df = pd.merge(starters_corr.drop(['p-value'], axis=1), \n",
    "                   bench_corr.drop(['p-value'], axis=1),\n",
    "                   left_on=['stat'], right_on=['stat'],\n",
    "                   how='outer',\n",
    "                   suffixes=['_starter', '_bench'])\n",
    "corr_df.sort_values(['stat'], axis=0)"
   ]
  },
  {
   "cell_type": "markdown",
   "id": "54f5f028",
   "metadata": {},
   "source": [
    "## Save dataframe with significantly correlated stats"
   ]
  },
  {
   "cell_type": "code",
   "execution_count": null,
   "id": "587bdb74",
   "metadata": {},
   "outputs": [],
   "source": [
    "starter_stats = starters_corr[starters_corr['corr'].abs() >= .4]['stat']\n",
    "starters_df = starters_15_games[starter_stats]\n",
    "\n",
    "bench_stats = bench_corr[bench_corr['corr'].abs() >= .4]['stat']\n",
    "bench_df = bench_15_games[bench_stats]\n",
    "\n",
    "df = pd.merge(starters_df, bench_df, \n",
    "              left_on=['date', 'visitor', 'home'], \n",
    "              right_on=['date', 'visitor', 'home'], \n",
    "              how='outer', suffixes=['_starters', '_bench'])\n",
    "df.to_csv('backend/data/inputs/3p/advanced_details.csv')"
   ]
  }
 ],
 "metadata": {
  "kernelspec": {
   "display_name": "Python 3 (ipykernel)",
   "language": "python",
   "name": "python3"
  },
  "language_info": {
   "codemirror_mode": {
    "name": "ipython",
    "version": 3
   },
   "file_extension": ".py",
   "mimetype": "text/x-python",
   "name": "python",
   "nbconvert_exporter": "python",
   "pygments_lexer": "ipython3",
   "version": "3.8.2"
  }
 },
 "nbformat": 4,
 "nbformat_minor": 5
}
