{
 "cells": [
  {
   "cell_type": "markdown",
   "id": "2adf4802",
   "metadata": {},
   "source": [
    "# 3 Pointers Made against game_details.csv"
   ]
  },
  {
   "cell_type": "markdown",
   "id": "2a13c3b0",
   "metadata": {},
   "source": [
    "### Import packages"
   ]
  },
  {
   "cell_type": "code",
   "execution_count": null,
   "id": "75e8ba88",
   "metadata": {},
   "outputs": [],
   "source": [
    "import os\n",
    "import numpy as np\n",
    "import pandas as pd\n",
    "import seaborn as sns\n",
    "from scipy.stats import pearsonr\n",
    "import itertools\n",
    "\n",
    "pd.set_option(\"display.max_columns\", None)"
   ]
  },
  {
   "cell_type": "markdown",
   "id": "4ea46417",
   "metadata": {},
   "source": [
    "### Set working directory"
   ]
  },
  {
   "cell_type": "code",
   "execution_count": null,
   "id": "c0889f64",
   "metadata": {},
   "outputs": [],
   "source": [
    "# Print working directory\n",
    "cwd = os.getcwd()\n",
    "print(f'Directory: {cwd}')\n",
    "\n",
    "# Change working directory\n",
    "os.chdir('/Users/tyler/OneDrive/Documents/Python/NBA')\n",
    "\n",
    "# Print working directory\n",
    "cwd = os.getcwd()\n",
    "print(f'Directory: {cwd}')"
   ]
  },
  {
   "cell_type": "markdown",
   "id": "93dc3ba0",
   "metadata": {},
   "source": [
    "## Exploratory Data Analysis"
   ]
  },
  {
   "cell_type": "markdown",
   "id": "14d3bf6a",
   "metadata": {},
   "source": [
    "### Import data"
   ]
  },
  {
   "cell_type": "code",
   "execution_count": null,
   "id": "2b892e68",
   "metadata": {},
   "outputs": [],
   "source": [
    "df = pd.read_csv('backend/data/details/game_details.csv').drop(['Unnamed: 0'], axis=1)\n",
    "shooting_df = pd.read_csv('backend/data/totals/game_totals.csv').drop(['Unnamed: 0'], axis=1)\n",
    "shooting_df = shooting_df[['date', 'visitor', 'home', 'team', '3p']]"
   ]
  },
  {
   "cell_type": "code",
   "execution_count": null,
   "id": "7edc04f7",
   "metadata": {},
   "outputs": [],
   "source": [
    "# Rename target variable\n",
    "shooting_df = shooting_df.rename({'3p': 'target'}, axis=1)\n",
    "\n",
    "# Merge dataframes to have target variable\n",
    "df = pd.merge(df, shooting_df, \n",
    "              left_on=['date', 'visitor', 'home', 'team'], right_on=['date', 'visitor', 'home', 'team'],\n",
    "              how='left')"
   ]
  },
  {
   "cell_type": "markdown",
   "id": "90cb91a5",
   "metadata": {},
   "source": [
    "### Basic exploration"
   ]
  },
  {
   "cell_type": "code",
   "execution_count": null,
   "id": "6ea56a4f",
   "metadata": {},
   "outputs": [],
   "source": [
    "df.info()"
   ]
  },
  {
   "cell_type": "code",
   "execution_count": null,
   "id": "246f881c",
   "metadata": {
    "scrolled": true
   },
   "outputs": [],
   "source": [
    "df.sample(5)"
   ]
  },
  {
   "cell_type": "code",
   "execution_count": null,
   "id": "f6e5faf1",
   "metadata": {},
   "outputs": [],
   "source": [
    "def convert_mp(mp):\n",
    "    if mp == '0':\n",
    "        return 0\n",
    "    else:\n",
    "        mins = int(mp.split(':')[0])\n",
    "        secs = int(mp.split(':')[1]) / 60\n",
    "        return mins + secs"
   ]
  },
  {
   "cell_type": "code",
   "execution_count": null,
   "id": "8c5ab601",
   "metadata": {
    "scrolled": false
   },
   "outputs": [],
   "source": [
    "# Fill NaN\n",
    "df = df.fillna(0)\n",
    "\n",
    "# Convert 'date' column to Date object\n",
    "df['date'] = pd.to_datetime(df['date'])\n",
    "\n",
    "# Convert 'team' column to Team Name\n",
    "df['team'] = np.where(df['team'], df['home'], df['visitor'])\n",
    "\n",
    "# Convert 'minutes played' to float\n",
    "df['mp'] = df['mp'].apply(lambda x: convert_mp(x))\n",
    "\n",
    "# Set stats\n",
    "stats = ['fg', 'fga', 'fg_perc', '3p', '3pa', '3p_perc', 'ft', 'fta', 'ft_perc', \n",
    "         'orb', 'drb', 'trb', 'ast', 'stl', 'blk', 'tov', 'pf', 'pts', 'plus_minus', 'mp']\n",
    "\n",
    "df.info()"
   ]
  },
  {
   "cell_type": "code",
   "execution_count": null,
   "id": "db4d31c3",
   "metadata": {},
   "outputs": [],
   "source": [
    "# Team total stats\n",
    "teams_df = df.groupby(['date', 'visitor', 'home', 'team']).sum().reset_index()"
   ]
  },
  {
   "cell_type": "code",
   "execution_count": null,
   "id": "ef5b7422",
   "metadata": {},
   "outputs": [],
   "source": [
    "# Starters total stats\n",
    "starters_df = df[df['starter'] == 1].groupby(['date', 'visitor', 'home', 'team']).aggregate(['sum', 'mean'])\n",
    "cols = [col for col in starters_df.columns\n",
    "        if (col[0] == 'target' and col[1] == 'sum') or \\\n",
    "           (col[0] in stats and col[1] == 'mean' and '_perc' in col[0]) or \\\n",
    "           (col[0] in stats and col[1] == 'sum' and '_perc' not in col[0])]\n",
    "starters_df = starters_df[cols]\n",
    "starters_df.columns = [col[0] for col in starters_df.columns]\n",
    "starters_df = starters_df.reset_index()"
   ]
  },
  {
   "cell_type": "code",
   "execution_count": null,
   "id": "1b75dd4b",
   "metadata": {},
   "outputs": [],
   "source": [
    "# Bench total stats\n",
    "bench_df = df[df['starter'] == 0].groupby(['date', 'visitor', 'home', 'team']).aggregate(['sum', 'mean'])\n",
    "cols = [col for col in bench_df.columns\n",
    "        if (col[0] == 'target' and col[1] == 'sum') or \\\n",
    "           (col[0] in stats and col[1] == 'mean' and '_perc' in col[0]) or \\\n",
    "           (col[0] in stats and col[1] == 'sum' and '_perc' not in col[0])]\n",
    "bench_df = bench_df[cols]\n",
    "bench_df.columns = [col[0] for col in bench_df.columns]\n",
    "bench_df = bench_df.reset_index()"
   ]
  },
  {
   "cell_type": "markdown",
   "id": "e605fdbd",
   "metadata": {},
   "source": [
    "# Dataframe of team's last 15 performances"
   ]
  },
  {
   "cell_type": "code",
   "execution_count": null,
   "id": "8cc5d0a4",
   "metadata": {},
   "outputs": [],
   "source": [
    "# Return ten lastest dates team played\n",
    "def last_15_date(team, date):\n",
    "    schedule = teams_df[teams_df['team'] == team].sort_values(by='date').reset_index()\n",
    "    date_index = schedule[schedule['date'] == date].index[0]\n",
    "    if date_index - 15 < 0:\n",
    "        return None, None, None, None, None, None, None, None, None, None, None, None, None, None, None\n",
    "    else:\n",
    "        date_1, date_2 = schedule.iloc[date_index - 1]['date'], schedule.iloc[date_index - 2]['date']\n",
    "        date_3, date_4 = schedule.iloc[date_index - 3]['date'], schedule.iloc[date_index - 4]['date']\n",
    "        date_5, date_6 = schedule.iloc[date_index - 5]['date'], schedule.iloc[date_index - 6]['date']\n",
    "        date_7, date_8 = schedule.iloc[date_index - 7]['date'], schedule.iloc[date_index - 8]['date']\n",
    "        date_9, date_10 = schedule.iloc[date_index - 9]['date'], schedule.iloc[date_index - 10]['date']\n",
    "        date_11, date_12 = schedule.iloc[date_index - 11]['date'], schedule.iloc[date_index - 12]['date']\n",
    "        date_13, date_14 = schedule.iloc[date_index - 13]['date'], schedule.iloc[date_index - 14]['date']\n",
    "        date_15 = schedule.iloc[date_index - 15]['date']\n",
    "        return date_1, date_2, date_3, date_4, date_5, date_6, date_7, date_8, date_9, date_10, date_11, date_12, date_13, date_14, date_15\n",
    "\n",
    "teams_df['dates'] = teams_df.apply(lambda x: last_15_date(x.team, x.date), axis=1)\n",
    "teams_df['date_1'], teams_df['date_2'] = teams_df['dates'].apply(lambda x: x[0]), teams_df['dates'].apply(lambda x: x[1])\n",
    "teams_df['date_3'], teams_df['date_4'] = teams_df['dates'].apply(lambda x: x[2]), teams_df['dates'].apply(lambda x: x[3])\n",
    "teams_df['date_5'], teams_df['date_6'] = teams_df['dates'].apply(lambda x: x[4]), teams_df['dates'].apply(lambda x: x[5])\n",
    "teams_df['date_7'], teams_df['date_8'] = teams_df['dates'].apply(lambda x: x[6]), teams_df['dates'].apply(lambda x: x[7])\n",
    "teams_df['date_9'], teams_df['date_10'] = teams_df['dates'].apply(lambda x: x[8]), teams_df['dates'].apply(lambda x: x[9])\n",
    "teams_df['date_11'], teams_df['date_12'] = teams_df['dates'].apply(lambda x: x[10]), teams_df['dates'].apply(lambda x: x[11])\n",
    "teams_df['date_13'], teams_df['date_14'] = teams_df['dates'].apply(lambda x: x[12]), teams_df['dates'].apply(lambda x: x[13])\n",
    "teams_df['date_15'] = teams_df['dates'].apply(lambda x: x[14])"
   ]
  },
  {
   "cell_type": "code",
   "execution_count": null,
   "id": "877f71a7",
   "metadata": {},
   "outputs": [],
   "source": [
    "# Keep date columns in teams\n",
    "cols = [col for col in teams_df.columns\n",
    "        if ('date_' in col) or \\\n",
    "        (col in ['date', 'visitor', 'home', 'team'])]\n",
    "teams_df = teams_df[cols]\n",
    "\n",
    "# Merge dates with starters\n",
    "starters_df = pd.merge(starters_df, teams_df, \n",
    "                       left_on=['date', 'visitor', 'home', 'team'], \n",
    "                       right_on=['date', 'visitor', 'home', 'team'],\n",
    "                       how='left')\n",
    "\n",
    "# Merge dates with bench\n",
    "bench_df = pd.merge(bench_df, teams_df, \n",
    "                    left_on=['date', 'visitor', 'home', 'team'], \n",
    "                    right_on=['date', 'visitor', 'home', 'team'],\n",
    "                    how='left')"
   ]
  },
  {
   "cell_type": "code",
   "execution_count": null,
   "id": "47d28f34",
   "metadata": {},
   "outputs": [],
   "source": [
    "# Calculate z-score\n",
    "def z_score(value, mean, std):\n",
    "    return (value - mean) / std"
   ]
  },
  {
   "cell_type": "code",
   "execution_count": null,
   "id": "c6a5e1a8",
   "metadata": {},
   "outputs": [],
   "source": [
    "# Calculate perc difference\n",
    "def perc_diff(value, mean):\n",
    "    return (value - mean) / mean"
   ]
  },
  {
   "cell_type": "markdown",
   "id": "27b31e56",
   "metadata": {},
   "source": [
    "# Starters Analysis"
   ]
  },
  {
   "cell_type": "code",
   "execution_count": null,
   "id": "ed92a099",
   "metadata": {},
   "outputs": [],
   "source": [
    "# X and y column names to merge on\n",
    "y_cols = starters_df.columns\n",
    "x_cols = ['date', 'team'] + stats\n",
    "\n",
    "last_15_games = starters_df[y_cols]\n",
    "X = starters_df[x_cols]\n",
    "\n",
    "# Dataframe of target (3pt made by each team) and of variables (last 5 games stats for each team)\n",
    "dates = ['_1', '_2', '_3', '_4', '_5', '_6', '_7', '_8', '_9', '_10', '_11', '_12', '_13', '_14', '_15']\n",
    "for date in dates:\n",
    "    last_15_games = pd.merge(last_15_games, X, left_on=['date' + date, 'team'], right_on=['date', 'team'], how='left', suffixes=('', date))\n",
    "\n",
    "last_15_games.head()"
   ]
  },
  {
   "cell_type": "markdown",
   "id": "bab8b04b",
   "metadata": {},
   "source": [
    "### Last 15 Performances (Unweighted)"
   ]
  },
  {
   "cell_type": "code",
   "execution_count": null,
   "id": "afd174d2",
   "metadata": {},
   "outputs": [],
   "source": [
    "dates = ['_1', '_2', '_3', '_4', '_5', '_6', '_7', '_8', '_9', '_10', '_11', '_12', '_13', '_14', '_15']\n",
    "cols = ['date', 'visitor', 'home', 'team', 'target'] + \\\n",
    "    [tup[0] + tup[1] for tup in list(itertools.product(stats, dates))]\n",
    "\n",
    "last_15_games_unweighted = last_15_games[cols].copy()\n",
    "\n",
    "# Calculate mean for each stat over a team's last performance\n",
    "for stat in stats:\n",
    "    last_15_games_unweighted[stat] = 0\n",
    "    for date in dates:\n",
    "        last_15_games_unweighted[stat] = last_15_games_unweighted[stat] + last_15_games_unweighted[stat + date]\n",
    "    \n",
    "    last_15_games_unweighted[stat] = last_15_games_unweighted[stat] / len(dates)\n",
    "    \n",
    "# Calculate standard deviation for each stat over a team's performance\n",
    "for stat in stats:\n",
    "    last_15_games_unweighted[stat + '_std'] = 0\n",
    "    for date in dates:\n",
    "        last_15_games_unweighted[stat + '_std'] = last_15_games_unweighted[stat + '_std'] + \\\n",
    "                                                    ((last_15_games_unweighted[stat + date] - last_15_games_unweighted[stat]) ** 2)\n",
    "    \n",
    "    last_15_games_unweighted[stat + '_std'] = last_15_games_unweighted[stat + '_std'] / len(dates)\n",
    "    last_15_games_unweighted[stat + '_std'] = last_15_games_unweighted[stat + '_std'] ** .5\n",
    "\n",
    "# Feature engineer trends\n",
    "for stat in stats:\n",
    "    last_15_games_unweighted[stat + '_trend'] = 0\n",
    "    for date in dates[:10]:\n",
    "        last_15_games_unweighted[stat + '_trend'] = last_15_games_unweighted[stat + '_trend'] + \\\n",
    "                                        z_score(last_15_games_unweighted[stat + date], last_15_games_unweighted[stat], last_15_games_unweighted[stat + '_std']).fillna(0)\n",
    "    \n",
    "    last_15_games_unweighted[stat + '_trend'] = last_15_games_unweighted[stat + '_trend'] / len(dates[:10])\n",
    "\n",
    "last_15_games_unweighted = last_15_games_unweighted.groupby(['date', 'visitor', 'home']).aggregate(['mean', 'sum'])\n",
    "\n",
    "last_15_game_cols = [col \n",
    "                    for col in last_15_games_unweighted.columns\n",
    "                    if (col[0] == 'target' and col[1] == 'sum') or \\\n",
    "                       (col[0] in stats and col[1] == 'sum' and '_perc' not in col[0]) or \\\n",
    "                       (col[0] in stats and col[1] == 'mean' and '_perc' in col[0]) or \\\n",
    "                       ('_trend' in col[0] and col[1] == 'sum')]\n",
    "\n",
    "last_15_games_unweighted = last_15_games_unweighted[last_15_game_cols].dropna(axis=0)\n",
    "last_15_games_unweighted.columns = [col[0] for col in last_15_games_unweighted.columns]"
   ]
  },
  {
   "cell_type": "markdown",
   "id": "006a5d49",
   "metadata": {},
   "source": [
    "## Correlations"
   ]
  },
  {
   "cell_type": "code",
   "execution_count": null,
   "id": "cee58307",
   "metadata": {
    "scrolled": false
   },
   "outputs": [],
   "source": [
    "corr_df = pd.DataFrame()\n",
    "\n",
    "# Correlations for last 15 game stats vs 3pt made (unweighted)\n",
    "for col in last_15_games_unweighted:\n",
    "    corr_p = pearsonr(last_15_games_unweighted['target'], last_15_games_unweighted[col])\n",
    "    row = {'stat': col, 'corr': round(corr_p[0], 2), 'p-value': round(corr_p[1], 2)}\n",
    "    corr_df = corr_df.append(row, ignore_index=True)\n",
    "    \n",
    "# Print statistically significant correlations\n",
    "starters_corr = corr_df[corr_df['p-value'] < .05].sort_values(['corr'], axis=0, ascending=False)\n",
    "starters_corr"
   ]
  },
  {
   "cell_type": "markdown",
   "id": "9a6f20f7",
   "metadata": {},
   "source": [
    "## Bench Analysis"
   ]
  },
  {
   "cell_type": "code",
   "execution_count": null,
   "id": "a6f7e8ab",
   "metadata": {},
   "outputs": [],
   "source": [
    "# X and y column names to merge on\n",
    "y_cols = bench_df.columns\n",
    "x_cols = ['date', 'team'] + stats\n",
    "\n",
    "last_15_games = bench_df[y_cols]\n",
    "X = bench_df[x_cols]\n",
    "\n",
    "# Dataframe of target (3pt made by each team) and of variables (last 5 games stats for each team)\n",
    "dates = ['_1', '_2', '_3', '_4', '_5', '_6', '_7', '_8', '_9', '_10', '_11', '_12', '_13', '_14', '_15']\n",
    "for date in dates:\n",
    "    last_15_games = pd.merge(last_15_games, X, left_on=['date' + date, 'team'], right_on=['date', 'team'], how='left', suffixes=('', date))"
   ]
  },
  {
   "cell_type": "markdown",
   "id": "05bc652b",
   "metadata": {},
   "source": [
    "### Last 15 Performances (Unweighted)"
   ]
  },
  {
   "cell_type": "code",
   "execution_count": null,
   "id": "5c1bebb5",
   "metadata": {},
   "outputs": [],
   "source": [
    "dates = ['_1', '_2', '_3', '_4', '_5', '_6', '_7', '_8', '_9', '_10', '_11', '_12', '_13', '_14', '_15']\n",
    "cols = ['date', 'visitor', 'home', 'team', 'target'] + \\\n",
    "    [tup[0] + tup[1] for tup in list(itertools.product(stats, dates))]\n",
    "\n",
    "last_15_games_unweighted = last_15_games[cols].copy()\n",
    "\n",
    "# Calculate mean for each stat over a team's last performance\n",
    "for stat in stats:\n",
    "    last_15_games_unweighted[stat] = 0\n",
    "    for date in dates:\n",
    "        last_15_games_unweighted[stat] = last_15_games_unweighted[stat] + last_15_games_unweighted[stat + date]\n",
    "    \n",
    "    last_15_games_unweighted[stat] = last_15_games_unweighted[stat] / len(dates)\n",
    "    \n",
    "# Calculate standard deviation for each stat over a team's performance\n",
    "for stat in stats:\n",
    "    last_15_games_unweighted[stat + '_std'] = 0\n",
    "    for date in dates:\n",
    "        last_15_games_unweighted[stat + '_std'] = last_15_games_unweighted[stat + '_std'] + \\\n",
    "                                                    ((last_15_games_unweighted[stat + date] - last_15_games_unweighted[stat]) ** 2)\n",
    "    \n",
    "    last_15_games_unweighted[stat + '_std'] = last_15_games_unweighted[stat + '_std'] / len(dates)\n",
    "    last_15_games_unweighted[stat + '_std'] = last_15_games_unweighted[stat + '_std'] ** .5\n",
    "\n",
    "# Feature engineer trends\n",
    "for stat in stats:\n",
    "    last_15_games_unweighted[stat + '_trend'] = 0\n",
    "    for date in dates[:10]:\n",
    "        last_15_games_unweighted[stat + '_trend'] = last_15_games_unweighted[stat + '_trend'] + \\\n",
    "                                        z_score(last_15_games_unweighted[stat + date], last_15_games_unweighted[stat], last_15_games_unweighted[stat + '_std']).fillna(0)\n",
    "    \n",
    "    last_15_games_unweighted[stat + '_trend'] = last_15_games_unweighted[stat + '_trend'] / len(dates[:10])\n",
    "\n",
    "last_15_games_unweighted = last_15_games_unweighted.groupby(['date', 'visitor', 'home']).aggregate(['mean', 'sum'])\n",
    "\n",
    "last_15_game_cols = [col \n",
    "                    for col in last_15_games_unweighted.columns\n",
    "                    if (col[0] == 'target' and col[1] == 'sum') or \\\n",
    "                       (col[0] in stats and col[1] == 'sum' and '_perc' not in col[0]) or \\\n",
    "                       (col[0] in stats and col[1] == 'mean' and '_perc' in col[0]) or \\\n",
    "                       ('_trend' in col[0] and col[1] == 'sum')]\n",
    "\n",
    "last_15_games_unweighted = last_15_games_unweighted[last_15_game_cols].dropna(axis=0)\n",
    "last_15_games_unweighted.columns = [col[0] for col in last_15_games_unweighted.columns]"
   ]
  },
  {
   "cell_type": "markdown",
   "id": "f9cb5fb2",
   "metadata": {},
   "source": [
    "## Correlations of Bench"
   ]
  },
  {
   "cell_type": "code",
   "execution_count": null,
   "id": "e8c9f3c5",
   "metadata": {},
   "outputs": [],
   "source": [
    "corr_df = pd.DataFrame()\n",
    "\n",
    "# Correlations for last 15 game stats vs 3pt made (unweighted)\n",
    "for col in last_15_games_unweighted:\n",
    "    corr_p = pearsonr(last_15_games_unweighted['target'], last_15_games_unweighted[col])\n",
    "    row = {'stat': col, 'corr': round(corr_p[0], 2), 'p-value': round(corr_p[1], 2)}\n",
    "    corr_df = corr_df.append(row, ignore_index=True)\n",
    "    \n",
    "# Print statistically significant correlations\n",
    "bench_corr = corr_df[corr_df['p-value'] < .05].sort_values(['corr'], axis=0, ascending=False)\n",
    "bench_corr"
   ]
  },
  {
   "cell_type": "markdown",
   "id": "5967d7cd",
   "metadata": {},
   "source": [
    "# Comparison of Starters to Bench"
   ]
  },
  {
   "cell_type": "code",
   "execution_count": 65,
   "id": "16d10cb5",
   "metadata": {},
   "outputs": [
    {
     "data": {
      "text/html": [
       "<div>\n",
       "<style scoped>\n",
       "    .dataframe tbody tr th:only-of-type {\n",
       "        vertical-align: middle;\n",
       "    }\n",
       "\n",
       "    .dataframe tbody tr th {\n",
       "        vertical-align: top;\n",
       "    }\n",
       "\n",
       "    .dataframe thead th {\n",
       "        text-align: right;\n",
       "    }\n",
       "</style>\n",
       "<table border=\"1\" class=\"dataframe\">\n",
       "  <thead>\n",
       "    <tr style=\"text-align: right;\">\n",
       "      <th></th>\n",
       "      <th>corr_starter</th>\n",
       "      <th>stat</th>\n",
       "      <th>corr_bench</th>\n",
       "    </tr>\n",
       "  </thead>\n",
       "  <tbody>\n",
       "    <tr>\n",
       "      <th>2</th>\n",
       "      <td>0.68</td>\n",
       "      <td>3p</td>\n",
       "      <td>0.60</td>\n",
       "    </tr>\n",
       "    <tr>\n",
       "      <th>3</th>\n",
       "      <td>0.60</td>\n",
       "      <td>3p_perc</td>\n",
       "      <td>0.51</td>\n",
       "    </tr>\n",
       "    <tr>\n",
       "      <th>12</th>\n",
       "      <td>0.03</td>\n",
       "      <td>3p_trend</td>\n",
       "      <td>NaN</td>\n",
       "    </tr>\n",
       "    <tr>\n",
       "      <th>1</th>\n",
       "      <td>0.70</td>\n",
       "      <td>3pa</td>\n",
       "      <td>0.63</td>\n",
       "    </tr>\n",
       "    <tr>\n",
       "      <th>11</th>\n",
       "      <td>0.04</td>\n",
       "      <td>3pa_trend</td>\n",
       "      <td>NaN</td>\n",
       "    </tr>\n",
       "    <tr>\n",
       "      <th>6</th>\n",
       "      <td>0.25</td>\n",
       "      <td>ast</td>\n",
       "      <td>0.34</td>\n",
       "    </tr>\n",
       "    <tr>\n",
       "      <th>15</th>\n",
       "      <td>0.02</td>\n",
       "      <td>ast_trend</td>\n",
       "      <td>NaN</td>\n",
       "    </tr>\n",
       "    <tr>\n",
       "      <th>19</th>\n",
       "      <td>-0.09</td>\n",
       "      <td>blk</td>\n",
       "      <td>0.11</td>\n",
       "    </tr>\n",
       "    <tr>\n",
       "      <th>5</th>\n",
       "      <td>0.28</td>\n",
       "      <td>drb</td>\n",
       "      <td>0.41</td>\n",
       "    </tr>\n",
       "    <tr>\n",
       "      <th>8</th>\n",
       "      <td>0.24</td>\n",
       "      <td>fg</td>\n",
       "      <td>0.34</td>\n",
       "    </tr>\n",
       "    <tr>\n",
       "      <th>9</th>\n",
       "      <td>0.12</td>\n",
       "      <td>fg_perc</td>\n",
       "      <td>0.11</td>\n",
       "    </tr>\n",
       "    <tr>\n",
       "      <th>14</th>\n",
       "      <td>0.02</td>\n",
       "      <td>fg_trend</td>\n",
       "      <td>NaN</td>\n",
       "    </tr>\n",
       "    <tr>\n",
       "      <th>7</th>\n",
       "      <td>0.24</td>\n",
       "      <td>fga</td>\n",
       "      <td>0.32</td>\n",
       "    </tr>\n",
       "    <tr>\n",
       "      <th>20</th>\n",
       "      <td>-0.10</td>\n",
       "      <td>ft</td>\n",
       "      <td>-0.04</td>\n",
       "    </tr>\n",
       "    <tr>\n",
       "      <th>18</th>\n",
       "      <td>-0.08</td>\n",
       "      <td>ft_perc</td>\n",
       "      <td>-0.10</td>\n",
       "    </tr>\n",
       "    <tr>\n",
       "      <th>24</th>\n",
       "      <td>NaN</td>\n",
       "      <td>ft_perc_trend</td>\n",
       "      <td>-0.02</td>\n",
       "    </tr>\n",
       "    <tr>\n",
       "      <th>22</th>\n",
       "      <td>-0.14</td>\n",
       "      <td>fta</td>\n",
       "      <td>-0.07</td>\n",
       "    </tr>\n",
       "    <tr>\n",
       "      <th>23</th>\n",
       "      <td>-0.28</td>\n",
       "      <td>orb</td>\n",
       "      <td>-0.08</td>\n",
       "    </tr>\n",
       "    <tr>\n",
       "      <th>21</th>\n",
       "      <td>-0.11</td>\n",
       "      <td>pf</td>\n",
       "      <td>-0.05</td>\n",
       "    </tr>\n",
       "    <tr>\n",
       "      <th>4</th>\n",
       "      <td>0.33</td>\n",
       "      <td>pts</td>\n",
       "      <td>0.36</td>\n",
       "    </tr>\n",
       "    <tr>\n",
       "      <th>16</th>\n",
       "      <td>0.02</td>\n",
       "      <td>pts_trend</td>\n",
       "      <td>NaN</td>\n",
       "    </tr>\n",
       "    <tr>\n",
       "      <th>13</th>\n",
       "      <td>0.02</td>\n",
       "      <td>stl</td>\n",
       "      <td>0.19</td>\n",
       "    </tr>\n",
       "    <tr>\n",
       "      <th>0</th>\n",
       "      <td>1.00</td>\n",
       "      <td>target</td>\n",
       "      <td>1.00</td>\n",
       "    </tr>\n",
       "    <tr>\n",
       "      <th>17</th>\n",
       "      <td>-0.04</td>\n",
       "      <td>tov</td>\n",
       "      <td>0.02</td>\n",
       "    </tr>\n",
       "    <tr>\n",
       "      <th>10</th>\n",
       "      <td>0.10</td>\n",
       "      <td>trb</td>\n",
       "      <td>0.32</td>\n",
       "    </tr>\n",
       "  </tbody>\n",
       "</table>\n",
       "</div>"
      ],
      "text/plain": [
       "    corr_starter           stat  corr_bench\n",
       "2           0.68             3p        0.60\n",
       "3           0.60        3p_perc        0.51\n",
       "12          0.03       3p_trend         NaN\n",
       "1           0.70            3pa        0.63\n",
       "11          0.04      3pa_trend         NaN\n",
       "6           0.25            ast        0.34\n",
       "15          0.02      ast_trend         NaN\n",
       "19         -0.09            blk        0.11\n",
       "5           0.28            drb        0.41\n",
       "8           0.24             fg        0.34\n",
       "9           0.12        fg_perc        0.11\n",
       "14          0.02       fg_trend         NaN\n",
       "7           0.24            fga        0.32\n",
       "20         -0.10             ft       -0.04\n",
       "18         -0.08        ft_perc       -0.10\n",
       "24           NaN  ft_perc_trend       -0.02\n",
       "22         -0.14            fta       -0.07\n",
       "23         -0.28            orb       -0.08\n",
       "21         -0.11             pf       -0.05\n",
       "4           0.33            pts        0.36\n",
       "16          0.02      pts_trend         NaN\n",
       "13          0.02            stl        0.19\n",
       "0           1.00         target        1.00\n",
       "17         -0.04            tov        0.02\n",
       "10          0.10            trb        0.32"
      ]
     },
     "execution_count": 65,
     "metadata": {},
     "output_type": "execute_result"
    }
   ],
   "source": [
    "corr_df = pd.merge(starters_corr.drop(['p-value'], axis=1), \n",
    "                   bench_corr.drop(['p-value'], axis=1),\n",
    "                   left_on=['stat'], right_on=['stat'],\n",
    "                   how='outer',\n",
    "                   suffixes=['_starter', '_bench'])\n",
    "corr_df.sort_values(['stat'], axis=0)"
   ]
  }
 ],
 "metadata": {
  "kernelspec": {
   "display_name": "Python 3 (ipykernel)",
   "language": "python",
   "name": "python3"
  },
  "language_info": {
   "codemirror_mode": {
    "name": "ipython",
    "version": 3
   },
   "file_extension": ".py",
   "mimetype": "text/x-python",
   "name": "python",
   "nbconvert_exporter": "python",
   "pygments_lexer": "ipython3",
   "version": "3.8.2"
  }
 },
 "nbformat": 4,
 "nbformat_minor": 5
}
